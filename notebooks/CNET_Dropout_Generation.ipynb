{
 "metadata": {
  "language": "lua",
  "name": "",
  "signature": "sha256:d626e54241bc70da8ecf30623c692690e17bfbb09b00994b736880b4bfdd2505"
 },
 "nbformat": 3,
 "nbformat_minor": 0,
 "worksheets": [
  {
   "cells": [
    {
     "cell_type": "heading",
     "level": 1,
     "metadata": {},
     "source": [
      "Trainiere ein Convolutional Neural Network mit Torch\n"
     ]
    },
    {
     "cell_type": "markdown",
     "metadata": {},
     "source": [
      "Dieses iTorch Notebook trainiert ein CNN mit dem Cifar10 Benchmark.\n",
      "Schritte: \n",
      "          1. Daten laden und Normalisieren\n",
      "          2. CNN Modell laden und auf Trainset trainieren\n",
      "          3. Modell speichern"
     ]
    },
    {
     "cell_type": "code",
     "collapsed": false,
     "input": [
      "require 'torch'\n",
      "require 'nn'\n",
      "require 'cunn'\n",
      "require 'optim'\n",
      "dofile './provider.lua'"
     ],
     "language": "python",
     "metadata": {},
     "outputs": [],
     "prompt_number": 1
    },
    {
     "cell_type": "heading",
     "level": 2,
     "metadata": {},
     "source": [
      "1. Daten Normalisieren"
     ]
    },
    {
     "cell_type": "code",
     "collapsed": false,
     "input": [
      "-- Lade Provider Klasse aus provider.lua\n",
      "provider = Provider()\n",
      "\n",
      "-- Normalisiere Daten\n",
      "-- -> Mittelwert substrahieren\n",
      "-- -> Standartabweichung dividieren\n",
      "-- -> YUV Farbraum\n",
      "provider:normalize()\n",
      "\n",
      "torch.save('provider.t7',provider)"
     ],
     "language": "python",
     "metadata": {},
     "outputs": [
      {
       "metadata": {},
       "output_type": "pyout",
       "prompt_number": 2,
       "text": [
        "<trainer> preprocessing data (color space + normalization)\t\n"
       ]
      },
      {
       "metadata": {},
       "output_type": "pyout",
       "prompt_number": 2,
       "text": [
        "Progress: 1692 / 25000\t\n"
       ]
      },
      {
       "metadata": {},
       "output_type": "pyout",
       "prompt_number": 2,
       "text": [
        "Progress: 3753 / 25000\t\n"
       ]
      },
      {
       "metadata": {},
       "output_type": "pyout",
       "prompt_number": 2,
       "text": [
        "Progress: 5655 / 25000\t\n"
       ]
      },
      {
       "metadata": {},
       "output_type": "pyout",
       "prompt_number": 2,
       "text": [
        "Progress: 7610 / 25000\t\n"
       ]
      },
      {
       "metadata": {},
       "output_type": "pyout",
       "prompt_number": 2,
       "text": [
        "Progress: 9084 / 25000\t\n"
       ]
      },
      {
       "metadata": {},
       "output_type": "pyout",
       "prompt_number": 2,
       "text": [
        "Progress: 10577 / 25000\t\n"
       ]
      },
      {
       "metadata": {},
       "output_type": "pyout",
       "prompt_number": 2,
       "text": [
        "Progress: 12645 / 25000\t\n"
       ]
      },
      {
       "metadata": {},
       "output_type": "pyout",
       "prompt_number": 2,
       "text": [
        "Progress: 14894 / 25000\t\n"
       ]
      },
      {
       "metadata": {},
       "output_type": "pyout",
       "prompt_number": 2,
       "text": [
        "Progress: 16921 / 25000\t\n"
       ]
      },
      {
       "metadata": {},
       "output_type": "pyout",
       "prompt_number": 2,
       "text": [
        "Progress: 19111 / 25000\t\n"
       ]
      },
      {
       "metadata": {},
       "output_type": "pyout",
       "prompt_number": 2,
       "text": [
        "Progress: 20052 / 25000\t\n"
       ]
      },
      {
       "metadata": {},
       "output_type": "pyout",
       "prompt_number": 2,
       "text": [
        "Progress: 21956 / 25000\t\n"
       ]
      },
      {
       "metadata": {},
       "output_type": "pyout",
       "prompt_number": 2,
       "text": [
        "Progress: 23905 / 25000\t\n"
       ]
      }
     ],
     "prompt_number": 2
    },
    {
     "cell_type": "heading",
     "level": 2,
     "metadata": {},
     "source": [
      "2. CNN Modell mit dem CIFAR 10 Datensatz trainieren"
     ]
    },
    {
     "cell_type": "heading",
     "level": 3,
     "metadata": {},
     "source": [
      "Lade Modell und Daten"
     ]
    },
    {
     "cell_type": "code",
     "collapsed": false,
     "input": [
      "-- Modell laden\n",
      "require 'cnnModel_dropout'\n",
      "model = CnnModel().net\n",
      "print(model)\n",
      "model = model:cuda()"
     ],
     "language": "python",
     "metadata": {},
     "outputs": [
      {
       "metadata": {},
       "output_type": "pyout",
       "prompt_number": 3,
       "text": [
        "nn.Sequential {\n",
        "  [input -> (1) -> (2) -> (3) -> (4) -> (5) -> (6) -> (7) -> (8) -> (9) -> (10) -> (11) -> (12) -> (13) -> (14) -> (15) -> (16) -> (17) -> (18) -> (19) -> (20) -> (21) -> (22) -> (23) -> (24) -> output]\n",
        "  (1): nn.SpatialConvolution(3 -> 24, 3x3, 1,1, 1,1)\n",
        "  (2): nn.ReLU\n",
        "  (3): nn.Dropout(0.400000)\n",
        "  (4): nn.SpatialMaxPooling(2,2,2,2)\n",
        "  (5): nn.SpatialConvolution(24 -> 48, 3x3, 1,1, 1,1)\n",
        "  (6): nn.ReLU\n",
        "  (7): nn.Dropout(0.400000)\n",
        "  (8): nn.SpatialMaxPooling(2,2,2,2)\n",
        "  (9): nn.SpatialConvolution(48 -> 96, 3x3, 1,1, 1,1)\n",
        "  (10): nn.ReLU\n",
        "  (11): nn.Dropout(0.400000)\n",
        "  (12): nn.SpatialConvolution(96 -> 96, 3x3, 1,1, 1,1)\n",
        "  (13): nn.ReLU\n",
        "  (14): nn.Dropout(0.400000)\n",
        "  (15): nn.SpatialMaxPooling(2,2,2,2)\n",
        "  (16): nn.View(1536)\n",
        "  (17): nn.Linear(1536 -> 1536)\n",
        "  (18): nn.ReLU\n",
        "  (19): nn.Dropout(0.500000)\n",
        "  (20): nn.Linear(1536 -> 1536)\n",
        "  (21): nn.ReLU\n",
        "  (22): nn.Dropout(0.500000)\n",
        "  (23): nn.Linear(1536 -> 10)\n",
        "  (24): nn.LogSoftMax\n",
        "}\n",
        "{\n",
        "  gradInput : DoubleTensor - empty\n",
        "  modules : \n",
        "    {\n",
        "      1 : \n",
        "        nn.SpatialConvolution(3 -> 24, 3x3, 1,1, 1,1)\n",
        "        {\n",
        "          dH : 1\n",
        "          dW : 1\n",
        "          nOutputPlane : 24\n",
        "          output : DoubleTensor - empty\n",
        "          gradInput : DoubleTensor - empty\n",
        "          gradBias : DoubleTensor - size: 24\n",
        "          padH : 1\n",
        "          weight : DoubleTensor - size: 24x3x3x3\n",
        "          bias : DoubleTensor - size: 24\n",
        "          gradWeight : DoubleTensor - size: 24x3x3x3\n",
        "          padW : 1\n",
        "          nInputPlane : 3\n",
        "          kW : 3\n",
        " "
       ]
      },
      {
       "metadata": {},
       "output_type": "pyout",
       "prompt_number": 3,
       "text": [
        "         kH : 3\n",
        "        }\n",
        "      2 : \n",
        "        nn.ReLU\n",
        "        {\n",
        "          inplace : true\n",
        "          threshold : 0\n",
        "          val : 0\n",
        "          output : DoubleTensor - empty\n",
        "          gradInput : DoubleTensor - empty\n",
        "        }\n",
        "      3 : \n",
        "        nn.Dropout(0.400000)\n",
        "        {\n",
        "          v2 : true\n",
        "          noise : DoubleTensor - empty\n",
        "          train : true\n",
        "          p : 0.4\n",
        "          gradInput : DoubleTensor - empty\n",
        "          output : DoubleTensor - empty\n",
        "        }\n",
        "      4 : \n",
        "        nn.SpatialMaxPooling(2,2,2,2)\n",
        "        {\n",
        "          dH : 2\n",
        "          dW : 2\n",
        "          padH : 0\n",
        "          gradInput : DoubleTensor - empty\n",
        "          indices : DoubleTensor - empty\n",
        "          kH : 2\n",
        "          ceil_mode : false\n",
        "          output : DoubleTensor - empty\n",
        "          padW : 0\n",
        "          kW : 2\n",
        "        }\n",
        "      5 : \n",
        "        nn.SpatialConvolution(24 -> 48, 3x3, 1,1, 1,1)\n",
        "        {\n",
        "          dH : 1\n",
        "          dW : 1\n",
        "          nOutputPlane : 48\n",
        "          output : DoubleTensor - empty\n",
        "          gradInput : DoubleTensor - empty\n",
        "          gradBias : DoubleTensor - size: 48\n",
        "          padH : 1\n",
        "          weight : DoubleTensor - size: 48x24x3x3\n",
        "          bias : DoubleTensor - size: 48\n",
        "          gradWeight : DoubleTensor - size: 48x24x3x3\n",
        "          padW : 1\n",
        "          nInputPlane : 24\n",
        "          kW : 3\n",
        "          kH : 3\n",
        "        }\n",
        "      6 : \n",
        "        nn.ReLU\n",
        "        {\n",
        "          inplace : true\n",
        "          threshold : 0\n",
        "          val : 0\n",
        "          output : DoubleTensor - empty\n",
        "          gradInput : DoubleTensor - empty\n",
        "        }\n",
        "      7 : \n",
        "        nn.Dropout(0.400000)\n",
        "        {\n",
        "          v2 : true\n",
        "          noise : DoubleTensor - empty\n",
        "          train : true\n",
        "          p : 0.4\n",
        "          gradInput : DoubleTensor - empty\n",
        "          output : DoubleTensor - empty\n",
        "        }\n",
        "      8 : \n",
        "        nn.SpatialMaxPooling(2,2,2,2)\n",
        "        {\n",
        "          dH : 2\n",
        "          dW : 2\n",
        "          padH : 0\n",
        "          gradInput : DoubleTensor - empty\n",
        "          indices : DoubleTensor - empty\n",
        "          kH : 2\n",
        "          ceil_mode : false\n",
        "          output : DoubleTensor - empty\n",
        "          padW : 0\n",
        "          kW : 2\n",
        "        }\n",
        "      9 : \n",
        "  "
       ]
      },
      {
       "metadata": {},
       "output_type": "pyout",
       "prompt_number": 3,
       "text": [
        "      nn.SpatialConvolution(48 -> 96, 3x3, 1,1, 1,1)\n",
        "        {\n",
        "          dH : 1\n",
        "          dW : 1\n",
        "          nOutputPlane : 96\n",
        "          output : DoubleTensor - empty\n",
        "          gradInput : DoubleTensor - empty\n",
        "          gradBias : DoubleTensor - size: 96\n",
        "          padH : 1\n",
        "          weight : DoubleTensor - size: 96x48x3x3\n",
        "          bias : DoubleTensor - size: 96\n",
        "          gradWeight : DoubleTensor - size: 96x48x3x3\n",
        "          padW : 1\n",
        "          nInputPlane : 48\n",
        "          kW : 3\n",
        "          kH : 3\n",
        "        }\n",
        "      10 : \n",
        "        nn.ReLU\n",
        "        {\n",
        "          inplace : true\n",
        "          threshold : 0\n",
        "          val : 0\n",
        "          output : DoubleTensor - empty\n",
        "          gradInput : DoubleTensor - empty\n",
        "        }\n",
        "      11 : \n",
        "        nn.Dropout(0.400000)\n",
        "        {\n",
        "          v2 : true\n",
        "          noise : DoubleTensor - empty\n",
        "          train : true\n",
        "          p : 0.4\n",
        "          gradInput : DoubleTensor - empty\n",
        "          output : DoubleTensor - empty\n",
        "        }\n",
        "      12 : \n",
        "        nn.SpatialConvolution(96 -> 96, 3x3, 1,1, 1,1)\n",
        "        {\n",
        "          dH : 1\n",
        "          dW : 1\n",
        "          nOutputPlane : 96\n",
        "          output : DoubleTensor - empty\n",
        "          gradInput : DoubleTensor - empty\n",
        "          gradBias : DoubleTensor - size: 96\n",
        "          padH : 1\n",
        "          weight : DoubleTensor - size: 96x96x3x3\n",
        "          bias : DoubleTensor - size: 96\n",
        "          gradWeight : DoubleTensor - size: 96x96x3x3\n",
        "          padW : 1\n",
        "          nInputPlane : 96\n",
        "          kW : 3\n",
        "          kH : 3\n",
        "        }\n",
        "      13 : \n",
        "        nn.ReLU\n",
        "        {\n",
        "          inplace : true\n",
        "          threshold : 0\n",
        "          val : 0\n",
        "          output : DoubleTensor - empty\n",
        "          gradInput : DoubleTensor - empty\n",
        "        }\n",
        "      14 : \n",
        "        nn.Dropout(0.400000)\n",
        "        {\n",
        "          v2 : true\n",
        "          noise : DoubleTensor - empty\n",
        "          train : true\n",
        "          p : 0.4\n",
        "          gradInput : DoubleTensor - empty\n",
        "          output : DoubleTensor - empty\n",
        "        }\n",
        "      15 : \n",
        "        nn.SpatialMaxPooling(2,2,2,2)\n",
        "        {\n",
        "          dH : 2\n",
        "          dW : 2\n",
        "          padH : 0\n",
        "          gradInput : DoubleTensor - empty\n",
        "          indices : DoubleTensor - empty\n",
        "          kH : 2\n",
        "          ceil_mode : false\n",
        "          output : DoubleTensor - empty\n",
        "          padW : 0\n",
        "          kW : 2\n",
        "        }\n",
        "      16 : \n",
        "        nn.View(1536)\n",
        "        {\n",
        "          size : LongStorage - size: 1\n",
        "          numElements : 1536\n",
        "        }\n",
        " "
       ]
      },
      {
       "metadata": {},
       "output_type": "pyout",
       "prompt_number": 3,
       "text": [
        "     17 : \n",
        "        nn.Linear(1536 -> 1536)\n",
        "        {\n",
        "          gradBias : DoubleTensor - size: 1536\n",
        "          weight : DoubleTensor - size: 1536x1536\n",
        "          gradWeight : DoubleTensor - size: 1536x1536\n",
        "          gradInput : DoubleTensor - empty\n",
        "          bias : DoubleTensor - size: 1536\n",
        "          output : DoubleTensor - empty\n",
        "        }\n",
        "      18 : \n",
        "        nn.ReLU\n",
        "        {\n",
        "          inplace : false\n",
        "          threshold : 0\n",
        "          val : 0\n",
        "          output : DoubleTensor - empty\n",
        "          gradInput : DoubleTensor - empty\n",
        "        }\n",
        "      19 : \n",
        "        nn.Dropout(0.500000)\n",
        "        {\n",
        "          v2 : true\n",
        "          noise : DoubleTensor - empty\n",
        "          train : true\n",
        "          p : 0.5\n",
        "          gradInput : DoubleTensor - empty\n",
        "          output : DoubleTensor - empty\n",
        "        }\n",
        "      20 : \n",
        "        nn.Linear(1536 -> 1536)\n",
        "        {\n",
        "          gradBias : DoubleTensor - size: 1536\n",
        "          weight : DoubleTensor - size: 1536x1536\n",
        "          gradWeight : DoubleTensor - size: 1536x1536\n",
        "          gradInput : DoubleTensor - empty\n",
        "          bias : DoubleTensor - size: 1536\n",
        "          output : DoubleTensor - empty\n",
        "        }\n",
        "      21 : \n",
        "        nn.ReLU\n",
        "        {\n",
        "          inplace : false\n",
        "          threshold : 0\n",
        "          val : 0\n",
        "          output : DoubleTensor - empty\n",
        "          gradInput : DoubleTensor - empty\n",
        "        }\n",
        "      22 : \n",
        "        nn.Dropout(0.500000)\n",
        "        {\n",
        "          v2 : true\n",
        "          noise : DoubleTensor - empty\n",
        "          train : true\n",
        "          p : 0.5\n",
        "          gradInput : DoubleTensor - empty\n",
        "          output : DoubleTensor - empty\n",
        "        }\n",
        "      23 : \n",
        "        nn.Linear(1536 -> 10)\n",
        "        {\n",
        "          gradBias : DoubleTensor - size: 10\n",
        "          weight : DoubleTensor - size: 10x1536\n",
        "          gradWeight : DoubleTensor - size: 10x1536\n",
        "          gradInput : DoubleTensor - empty\n",
        "          bias : DoubleTensor - size: 10\n",
        "          output : DoubleTensor - empty\n",
        "        }\n",
        "      24 : \n",
        "        nn.LogSoftMax\n",
        "        {\n",
        "          gradInput : DoubleTensor - empty\n",
        "          output : DoubleTensor - empty\n",
        "        }\n",
        "    }\n",
        "  output : DoubleTensor - empty\n",
        "}\n"
       ]
      }
     ],
     "prompt_number": 3
    },
    {
     "cell_type": "code",
     "collapsed": false,
     "input": [
      "-- lade Cifar10 Trainings Daten\n",
      "dataProvider = torch.load 'provider.t7'\n",
      "print(dataProvider.trainData.data:size())\n",
      "print(dataProvider.trainData.labels:size())\n",
      "\n",
      "trainData = dataProvider.trainData.data:cuda()\n",
      "trainLabels = dataProvider.trainData.labels:cuda()"
     ],
     "language": "python",
     "metadata": {},
     "outputs": [
      {
       "metadata": {},
       "output_type": "pyout",
       "prompt_number": 4,
       "text": [
        " 50000\n",
        "     3\n",
        "    32\n",
        "    32\n",
        "[torch.LongStorage of size 4]\n",
        "\n",
        " 50000\n",
        "[torch.LongStorage of size 1]\n",
        "\n"
       ]
      }
     ],
     "prompt_number": 4
    },
    {
     "cell_type": "heading",
     "level": 3,
     "metadata": {},
     "source": [
      "Setze Parameter"
     ]
    },
    {
     "cell_type": "code",
     "collapsed": false,
     "input": [
      "-- Setze Net Parameter\n",
      "maxEpoch = 200\n",
      "epochStep = 25\n",
      "batchSize = 128\n",
      "\n",
      "-- Config f\u00fcr Optimierer\n",
      "optimState = {\n",
      "  learningRate = 1,\n",
      "  weightDecay = 0.0005,\n",
      "  momentum = 0.9,\n",
      "  learningRateDecay = 1e-7,\n",
      "}\n",
      "confusion = optim.ConfusionMatrix(10)\n",
      "\n",
      "-- Die Mehrdimensionalen Tensor Parameter werden f\u00fcr die Minibatches abgeflacht\n",
      "parameters,gradParameters = model:getParameters()\n",
      "\n",
      "-- Softmax Loss\n",
      "criterion = nn.CrossEntropyCriterion():cuda()"
     ],
     "language": "python",
     "metadata": {},
     "outputs": [],
     "prompt_number": 5
    },
    {
     "cell_type": "heading",
     "level": 3,
     "metadata": {},
     "source": [
      "Training"
     ]
    },
    {
     "cell_type": "markdown",
     "metadata": {},
     "source": [
      "1. Minibatch an optim geben\n",
      "2. Forward Pass\n",
      "3. Backward Pass\n",
      "4. Parameter Update via optim Stochastic Gradient Descent"
     ]
    },
    {
     "cell_type": "code",
     "collapsed": false,
     "input": [
      "train_err = torch.Tensor(200):fill(0)\n",
      "\n",
      "function train()\n",
      "    \n",
      "  -- setze Modell in den Trainingsmode, weil Dropout verwendet wird\n",
      "  model:training()\n",
      "  \n",
      "  -- Anzahl der Durchl\u00e4ufe\n",
      "  epoch = epoch or 1\n",
      "    \n",
      "  -- halbiere die Learning Rate alle epochStep Schritte\n",
      "  if epoch % epochStep == 0 then optimState.learningRate = optimState.learningRate/2 end\n",
      "  print(epoch)\n",
      "  \n",
      "  -- setze den label Tensor auf batchSize Gr\u00f6\u00dfe\n",
      "  local targets = torch.Tensor(batchSize)\n",
      "    \n",
      "  -- Jede epoch werden die Daten neu gemischt\n",
      "  local indices = torch.randperm(trainData:size(1)) \n",
      "    \n",
      "  -- Anzahl und Gr\u00f6\u00dfe der minibatches wird festgelegt\n",
      "  batches = indices:long():split(batchSize)\n",
      "    \n",
      "  --letztes Element entfernen, damit alle batches die gleiche gr\u00f6\u00dfe haben\n",
      "  batches[#batches] = nil\n",
      "    \n",
      "  --f\u00fcr jede minibatch wird nun trainiert\n",
      "  for t,v in ipairs(batches) do\n",
      "     \n",
      "    -- f\u00fclle minibatch mit Daten\n",
      "    local inputs = trainData:index(1,v)\n",
      "    -- labels f\u00fcr jede minibatch\n",
      "    targets:copy(trainLabels:index(1,v))\n",
      "    \n",
      "    --daten und label auf gpu\n",
      "    inputs = inputs:cuda()\n",
      "    targets = targets:cuda()\n",
      "    \n",
      "    -- optim call back um f(X) und df/dX zu ermitteln    \n",
      "    local fcallback = function(x)\n",
      "      if x ~= parameters then parameters:copy(x) end\n",
      "      gradParameters:zero()\n",
      "      \n",
      "      -- forward pass\n",
      "      local outputs = model:forward(inputs)\n",
      "      local f = criterion:forward(outputs, targets)\n",
      "      -- backward pass\n",
      "      local df_do = criterion:backward(outputs, targets)\n",
      "      model:backward(inputs, df_do)\n",
      "            \n",
      "      train_err[epoch] = f\n",
      "            \n",
      "      confusion:batchAdd(outputs, targets)\n",
      "\n",
      "      return f,gradParameters\n",
      "    end\n",
      "    -- update Parameter\n",
      "    optim.sgd(fcallback, parameters, optimState)\n",
      "  end\n",
      "\n",
      "  confusion:updateValids()\n",
      "  \n",
      "  train_acc = confusion.totalValid * 100\n",
      "  print(\"acc:\" .. train_acc)\n",
      "    \n",
      "  confusion:zero()\n",
      "  epoch = epoch + 1\n",
      "end\n",
      "\n",
      "for i=1,maxEpoch do\n",
      "  train()\n",
      "end"
     ],
     "language": "python",
     "metadata": {},
     "outputs": [
      {
       "metadata": {},
       "output_type": "pyout",
       "prompt_number": 6,
       "text": [
        "1\t\n"
       ]
      },
      {
       "metadata": {},
       "output_type": "pyout",
       "prompt_number": 6,
       "text": [
        "acc:26.654647435897\t\n",
        "2\t\n"
       ]
      },
      {
       "metadata": {},
       "output_type": "pyout",
       "prompt_number": 6,
       "text": [
        "acc:36.213942307692\t\n",
        "3\t\n"
       ]
      },
      {
       "metadata": {},
       "output_type": "pyout",
       "prompt_number": 6,
       "text": [
        "acc:37.461939102564\t\n"
       ]
      },
      {
       "metadata": {},
       "output_type": "pyout",
       "prompt_number": 6,
       "text": [
        "4\t\n"
       ]
      },
      {
       "metadata": {},
       "output_type": "pyout",
       "prompt_number": 6,
       "text": [
        "acc:37.764423076923\t\n"
       ]
      },
      {
       "metadata": {},
       "output_type": "pyout",
       "prompt_number": 6,
       "text": [
        "5\t\n"
       ]
      },
      {
       "metadata": {},
       "output_type": "pyout",
       "prompt_number": 6,
       "text": [
        "acc:38.53766025641\t\n"
       ]
      },
      {
       "metadata": {},
       "output_type": "pyout",
       "prompt_number": 6,
       "text": [
        "6\t\n"
       ]
      },
      {
       "metadata": {},
       "output_type": "pyout",
       "prompt_number": 6,
       "text": [
        "acc:38.517628205128\t\n"
       ]
      },
      {
       "metadata": {},
       "output_type": "pyout",
       "prompt_number": 6,
       "text": [
        "7\t\n"
       ]
      },
      {
       "metadata": {},
       "output_type": "pyout",
       "prompt_number": 6,
       "text": [
        "acc:38.309294871795\t\n",
        "8\t\n"
       ]
      },
      {
       "metadata": {},
       "output_type": "pyout",
       "prompt_number": 6,
       "text": [
        "acc:38.062900641026\t\n"
       ]
      },
      {
       "metadata": {},
       "output_type": "pyout",
       "prompt_number": 6,
       "text": [
        "9\t\n"
       ]
      },
      {
       "metadata": {},
       "output_type": "pyout",
       "prompt_number": 6,
       "text": [
        "acc:38.189102564103\t\n",
        "10\t\n"
       ]
      },
      {
       "metadata": {},
       "output_type": "pyout",
       "prompt_number": 6,
       "text": [
        "acc:38.247195512821\t\n",
        "11\t\n"
       ]
      },
      {
       "metadata": {},
       "output_type": "pyout",
       "prompt_number": 6,
       "text": [
        "acc:39.228766025641\t\n",
        "12\t\n"
       ]
      },
      {
       "metadata": {},
       "output_type": "pyout",
       "prompt_number": 6,
       "text": [
        "acc:39.214743589744\t\n",
        "13\t\n"
       ]
      },
      {
       "metadata": {},
       "output_type": "pyout",
       "prompt_number": 6,
       "text": [
        "acc:38.776041666667\t\n",
        "14\t\n"
       ]
      },
      {
       "metadata": {},
       "output_type": "pyout",
       "prompt_number": 6,
       "text": [
        "acc:38.193108974359\t\n",
        "15\t\n"
       ]
      },
      {
       "metadata": {},
       "output_type": "pyout",
       "prompt_number": 6,
       "text": [
        "acc:38.251201923077\t\n"
       ]
      },
      {
       "metadata": {},
       "output_type": "pyout",
       "prompt_number": 6,
       "text": [
        "16\t\n"
       ]
      },
      {
       "metadata": {},
       "output_type": "pyout",
       "prompt_number": 6,
       "text": [
        "acc:38.525641025641\t\n",
        "17\t\n"
       ]
      },
      {
       "metadata": {},
       "output_type": "pyout",
       "prompt_number": 6,
       "text": [
        "acc:38.72796474359\t\n",
        "18\t\n"
       ]
      },
      {
       "metadata": {},
       "output_type": "pyout",
       "prompt_number": 6,
       "text": [
        "acc:37.359775641026\t\n",
        "19\t\n"
       ]
      },
      {
       "metadata": {},
       "output_type": "pyout",
       "prompt_number": 6,
       "text": [
        "acc:37.624198717949\t\n",
        "20\t\n"
       ]
      },
      {
       "metadata": {},
       "output_type": "pyout",
       "prompt_number": 6,
       "text": [
        "acc:37.682291666667\t\n",
        "21\t\n"
       ]
      },
      {
       "metadata": {},
       "output_type": "pyout",
       "prompt_number": 6,
       "text": [
        "acc:38.235176282051\t\n",
        "22\t\n"
       ]
      },
      {
       "metadata": {},
       "output_type": "pyout",
       "prompt_number": 6,
       "text": [
        "acc:37.626201923077\t\n",
        "23\t\n"
       ]
      },
      {
       "metadata": {},
       "output_type": "pyout",
       "prompt_number": 6,
       "text": [
        "acc:38.201121794872\t\n",
        "24\t\n"
       ]
      },
      {
       "metadata": {},
       "output_type": "pyout",
       "prompt_number": 6,
       "text": [
        "acc:38.271233974359\t\n",
        "25\t\n"
       ]
      },
      {
       "metadata": {},
       "output_type": "pyout",
       "prompt_number": 6,
       "text": [
        "acc:46.143830128205\t\n",
        "26\t\n"
       ]
      },
      {
       "metadata": {},
       "output_type": "pyout",
       "prompt_number": 6,
       "text": [
        "acc:50.801282051282\t\n",
        "27\t\n"
       ]
      },
      {
       "metadata": {},
       "output_type": "pyout",
       "prompt_number": 6,
       "text": [
        "acc:53.397435897436\t\n",
        "28\t\n"
       ]
      },
      {
       "metadata": {},
       "output_type": "pyout",
       "prompt_number": 6,
       "text": [
        "acc:54.895833333333\t\n",
        "29\t\n"
       ]
      },
      {
       "metadata": {},
       "output_type": "pyout",
       "prompt_number": 6,
       "text": [
        "acc:56.546474358974\t\n",
        "30\t\n"
       ]
      },
      {
       "metadata": {},
       "output_type": "pyout",
       "prompt_number": 6,
       "text": [
        "acc:57.780448717949\t\n"
       ]
      },
      {
       "metadata": {},
       "output_type": "pyout",
       "prompt_number": 6,
       "text": [
        "31\t\n"
       ]
      },
      {
       "metadata": {},
       "output_type": "pyout",
       "prompt_number": 6,
       "text": [
        "acc:59.104567307692\t\n",
        "32\t\n"
       ]
      },
      {
       "metadata": {},
       "output_type": "pyout",
       "prompt_number": 6,
       "text": [
        "acc:59.811698717949\t\n",
        "33\t\n"
       ]
      },
      {
       "metadata": {},
       "output_type": "pyout",
       "prompt_number": 6,
       "text": [
        "acc:60.080128205128\t\n",
        "34\t\n"
       ]
      },
      {
       "metadata": {},
       "output_type": "pyout",
       "prompt_number": 6,
       "text": [
        "acc:60.683092948718\t\n",
        "35\t\n"
       ]
      },
      {
       "metadata": {},
       "output_type": "pyout",
       "prompt_number": 6,
       "text": [
        "acc:60.927483974359\t\n",
        "36\t\n"
       ]
      },
      {
       "metadata": {},
       "output_type": "pyout",
       "prompt_number": 6,
       "text": [
        "acc:61.394230769231\t\n",
        "37\t\n"
       ]
      },
      {
       "metadata": {},
       "output_type": "pyout",
       "prompt_number": 6,
       "text": [
        "acc:62.227564102564\t\n",
        "38\t\n"
       ]
      },
      {
       "metadata": {},
       "output_type": "pyout",
       "prompt_number": 6,
       "text": [
        "acc:62.363782051282\t\n",
        "39\t\n"
       ]
      },
      {
       "metadata": {},
       "output_type": "pyout",
       "prompt_number": 6,
       "text": [
        "acc:62.285657051282\t\n",
        "40\t\n"
       ]
      },
      {
       "metadata": {},
       "output_type": "pyout",
       "prompt_number": 6,
       "text": [
        "acc:62.972756410256\t\n",
        "41\t\n"
       ]
      },
      {
       "metadata": {},
       "output_type": "pyout",
       "prompt_number": 6,
       "text": [
        "acc:62.91266025641\t\n",
        "42\t\n"
       ]
      },
      {
       "metadata": {},
       "output_type": "pyout",
       "prompt_number": 6,
       "text": [
        "acc:63.052884615385\t\n",
        "43\t\n"
       ]
      },
      {
       "metadata": {},
       "output_type": "pyout",
       "prompt_number": 6,
       "text": [
        "acc:63.549679487179\t\n",
        "44\t\n"
       ]
      },
      {
       "metadata": {},
       "output_type": "pyout",
       "prompt_number": 6,
       "text": [
        "acc:64.152644230769\t\n",
        "45\t\n"
       ]
      },
      {
       "metadata": {},
       "output_type": "pyout",
       "prompt_number": 6,
       "text": [
        "acc:63.916266025641\t\n",
        "46\t\n"
       ]
      },
      {
       "metadata": {},
       "output_type": "pyout",
       "prompt_number": 6,
       "text": [
        "acc:63.940304487179\t\n",
        "47\t\n"
       ]
      },
      {
       "metadata": {},
       "output_type": "pyout",
       "prompt_number": 6,
       "text": [
        "acc:63.743990384615\t\n",
        "48\t\n"
       ]
      },
      {
       "metadata": {},
       "output_type": "pyout",
       "prompt_number": 6,
       "text": [
        "acc:64.102564102564\t\n",
        "49\t\n"
       ]
      },
      {
       "metadata": {},
       "output_type": "pyout",
       "prompt_number": 6,
       "text": [
        "acc:63.852163461538\t\n",
        "50\t\n"
       ]
      },
      {
       "metadata": {},
       "output_type": "pyout",
       "prompt_number": 6,
       "text": [
        "acc:69.567307692308\t\n",
        "51\t\n"
       ]
      },
      {
       "metadata": {},
       "output_type": "pyout",
       "prompt_number": 6,
       "text": [
        "acc:71.989182692308\t\n",
        "52\t\n"
       ]
      },
      {
       "metadata": {},
       "output_type": "pyout",
       "prompt_number": 6,
       "text": [
        "acc:72.411858974359\t\n",
        "53\t\n"
       ]
      },
      {
       "metadata": {},
       "output_type": "pyout",
       "prompt_number": 6,
       "text": [
        "acc:73.453525641026\t\n",
        "54\t\n"
       ]
      },
      {
       "metadata": {},
       "output_type": "pyout",
       "prompt_number": 6,
       "text": [
        "acc:74.43108974359\t\n",
        "55\t\n"
       ]
      },
      {
       "metadata": {},
       "output_type": "pyout",
       "prompt_number": 6,
       "text": [
        "acc:74.523237179487\t\n",
        "56\t\n"
       ]
      },
      {
       "metadata": {},
       "output_type": "pyout",
       "prompt_number": 6,
       "text": [
        "acc:74.831730769231\t\n"
       ]
      },
      {
       "metadata": {},
       "output_type": "pyout",
       "prompt_number": 6,
       "text": [
        "57\t\n"
       ]
      },
      {
       "metadata": {},
       "output_type": "pyout",
       "prompt_number": 6,
       "text": [
        "acc:75.280448717949\t\n",
        "58\t\n"
       ]
      },
      {
       "metadata": {},
       "output_type": "pyout",
       "prompt_number": 6,
       "text": [
        "acc:76.077724358974\t\n",
        "59\t\n"
       ]
      },
      {
       "metadata": {},
       "output_type": "pyout",
       "prompt_number": 6,
       "text": [
        "acc:76.320112179487\t\n",
        "60\t\n"
       ]
      },
      {
       "metadata": {},
       "output_type": "pyout",
       "prompt_number": 6,
       "text": [
        "acc:76.322115384615\t\n",
        "61\t\n"
       ]
      },
      {
       "metadata": {},
       "output_type": "pyout",
       "prompt_number": 6,
       "text": [
        "acc:76.674679487179\t\n",
        "62\t\n"
       ]
      },
      {
       "metadata": {},
       "output_type": "pyout",
       "prompt_number": 6,
       "text": [
        "acc:77.183493589744\t\n",
        "63\t\n"
       ]
      },
      {
       "metadata": {},
       "output_type": "pyout",
       "prompt_number": 6,
       "text": [
        "acc:76.923076923077\t\n",
        "64\t\n"
       ]
      },
      {
       "metadata": {},
       "output_type": "pyout",
       "prompt_number": 6,
       "text": [
        "acc:77.393830128205\t\n",
        "65\t\n"
       ]
      },
      {
       "metadata": {},
       "output_type": "pyout",
       "prompt_number": 6,
       "text": [
        "acc:77.862580128205\t\n",
        "66\t\n"
       ]
      },
      {
       "metadata": {},
       "output_type": "pyout",
       "prompt_number": 6,
       "text": [
        "acc:77.411858974359\t\n"
       ]
      },
      {
       "metadata": {},
       "output_type": "pyout",
       "prompt_number": 6,
       "text": [
        "67\t\n"
       ]
      },
      {
       "metadata": {},
       "output_type": "pyout",
       "prompt_number": 6,
       "text": [
        "acc:77.854567307692\t\n",
        "68\t\n"
       ]
      },
      {
       "metadata": {},
       "output_type": "pyout",
       "prompt_number": 6,
       "text": [
        "acc:78.263221153846\t\n",
        "69\t\n"
       ]
      },
      {
       "metadata": {},
       "output_type": "pyout",
       "prompt_number": 6,
       "text": [
        "acc:78.010817307692\t\n",
        "70\t\n"
       ]
      },
      {
       "metadata": {},
       "output_type": "pyout",
       "prompt_number": 6,
       "text": [
        "acc:78.543669871795\t\n",
        "71\t\n"
       ]
      },
      {
       "metadata": {},
       "output_type": "pyout",
       "prompt_number": 6,
       "text": [
        "acc:78.607772435897\t\n",
        "72\t\n"
       ]
      },
      {
       "metadata": {},
       "output_type": "pyout",
       "prompt_number": 6,
       "text": [
        "acc:78.766025641026\t\n"
       ]
      },
      {
       "metadata": {},
       "output_type": "pyout",
       "prompt_number": 6,
       "text": [
        "73\t\n"
       ]
      },
      {
       "metadata": {},
       "output_type": "pyout",
       "prompt_number": 6,
       "text": [
        "acc:78.812099358974\t\n",
        "74\t\n"
       ]
      },
      {
       "metadata": {},
       "output_type": "pyout",
       "prompt_number": 6,
       "text": [
        "acc:78.834134615385\t\n",
        "75\t\n"
       ]
      },
      {
       "metadata": {},
       "output_type": "pyout",
       "prompt_number": 6,
       "text": [
        "acc:81.999198717949\t\n",
        "76\t\n"
       ]
      },
      {
       "metadata": {},
       "output_type": "pyout",
       "prompt_number": 6,
       "text": [
        "acc:83.141025641026\t\n",
        "77\t\n"
       ]
      },
      {
       "metadata": {},
       "output_type": "pyout",
       "prompt_number": 6,
       "text": [
        "acc:83.619791666667\t\n",
        "78\t\n"
       ]
      },
      {
       "metadata": {},
       "output_type": "pyout",
       "prompt_number": 6,
       "text": [
        "acc:84.156650641026\t\n",
        "79\t\n"
       ]
      },
      {
       "metadata": {},
       "output_type": "pyout",
       "prompt_number": 6,
       "text": [
        "acc:84.435096153846\t\n",
        "80\t\n"
       ]
      },
      {
       "metadata": {},
       "output_type": "pyout",
       "prompt_number": 6,
       "text": [
        "acc:84.591346153846\t\n",
        "81\t\n"
       ]
      },
      {
       "metadata": {},
       "output_type": "pyout",
       "prompt_number": 6,
       "text": [
        "acc:84.601362179487\t\n",
        "82\t\n"
       ]
      },
      {
       "metadata": {},
       "output_type": "pyout",
       "prompt_number": 6,
       "text": [
        "acc:84.937900641026\t\n",
        "83\t\n"
       ]
      },
      {
       "metadata": {},
       "output_type": "pyout",
       "prompt_number": 6,
       "text": [
        "acc:85.186298076923\t\n"
       ]
      },
      {
       "metadata": {},
       "output_type": "pyout",
       "prompt_number": 6,
       "text": [
        "84\t\n"
       ]
      },
      {
       "metadata": {},
       "output_type": "pyout",
       "prompt_number": 6,
       "text": [
        "acc:85.386618589744\t\n",
        "85\t\n"
       ]
      },
      {
       "metadata": {},
       "output_type": "pyout",
       "prompt_number": 6,
       "text": [
        "acc:85.374599358974\t\n",
        "86\t\n"
       ]
      },
      {
       "metadata": {},
       "output_type": "pyout",
       "prompt_number": 6,
       "text": [
        "acc:85.618990384615\t\n",
        "87\t\n"
       ]
      },
      {
       "metadata": {},
       "output_type": "pyout",
       "prompt_number": 6,
       "text": [
        "acc:85.661057692308\t\n",
        "88\t\n"
       ]
      },
      {
       "metadata": {},
       "output_type": "pyout",
       "prompt_number": 6,
       "text": [
        "acc:85.741185897436\t\n",
        "89\t\n"
       ]
      },
      {
       "metadata": {},
       "output_type": "pyout",
       "prompt_number": 6,
       "text": [
        "acc:85.835336538462\t\n",
        "90\t\n"
       ]
      },
      {
       "metadata": {},
       "output_type": "pyout",
       "prompt_number": 6,
       "text": [
        "acc:86.390224358974\t\n",
        "91\t\n"
       ]
      },
      {
       "metadata": {},
       "output_type": "pyout",
       "prompt_number": 6,
       "text": [
        "acc:86.342147435897\t\n"
       ]
      },
      {
       "metadata": {},
       "output_type": "pyout",
       "prompt_number": 6,
       "text": [
        "92\t\n"
       ]
      },
      {
       "metadata": {},
       "output_type": "pyout",
       "prompt_number": 6,
       "text": [
        "acc:86.554487179487\t\n",
        "93\t\n"
       ]
      },
      {
       "metadata": {},
       "output_type": "pyout",
       "prompt_number": 6,
       "text": [
        "acc:86.310096153846\t\n",
        "94\t\n"
       ]
      },
      {
       "metadata": {},
       "output_type": "pyout",
       "prompt_number": 6,
       "text": [
        "acc:86.604567307692\t\n",
        "95\t\n"
       ]
      },
      {
       "metadata": {},
       "output_type": "pyout",
       "prompt_number": 6,
       "text": [
        "acc:86.887019230769\t\n",
        "96\t\n"
       ]
      },
      {
       "metadata": {},
       "output_type": "pyout",
       "prompt_number": 6,
       "text": [
        "acc:86.881009615385\t\n",
        "97\t\n"
       ]
      },
      {
       "metadata": {},
       "output_type": "pyout",
       "prompt_number": 6,
       "text": [
        "acc:87.067307692308\t\n",
        "98\t\n"
       ]
      },
      {
       "metadata": {},
       "output_type": "pyout",
       "prompt_number": 6,
       "text": [
        "acc:86.800881410256\t\n",
        "99\t\n"
       ]
      },
      {
       "metadata": {},
       "output_type": "pyout",
       "prompt_number": 6,
       "text": [
        "acc:87.095352564103\t\n",
        "100\t\n"
       ]
      },
      {
       "metadata": {},
       "output_type": "pyout",
       "prompt_number": 6,
       "text": [
        "acc:89.220753205128\t\n",
        "101\t\n"
       ]
      },
      {
       "metadata": {},
       "output_type": "pyout",
       "prompt_number": 6,
       "text": [
        "acc:90.144230769231\t\n",
        "102\t\n"
       ]
      },
      {
       "metadata": {},
       "output_type": "pyout",
       "prompt_number": 6,
       "text": [
        "acc:90.268429487179\t\n",
        "103\t\n"
       ]
      },
      {
       "metadata": {},
       "output_type": "pyout",
       "prompt_number": 6,
       "text": [
        "acc:90.506810897436\t\n",
        "104\t\n"
       ]
      },
      {
       "metadata": {},
       "output_type": "pyout",
       "prompt_number": 6,
       "text": [
        "acc:90.635016025641\t\n",
        "105\t\n"
       ]
      },
      {
       "metadata": {},
       "output_type": "pyout",
       "prompt_number": 6,
       "text": [
        "acc:90.612980769231\t\n",
        "106\t\n"
       ]
      },
      {
       "metadata": {},
       "output_type": "pyout",
       "prompt_number": 6,
       "text": [
        "acc:90.72516025641\t\n",
        "107\t\n"
       ]
      },
      {
       "metadata": {},
       "output_type": "pyout",
       "prompt_number": 6,
       "text": [
        "acc:90.895432692308\t\n",
        "108\t\n"
       ]
      },
      {
       "metadata": {},
       "output_type": "pyout",
       "prompt_number": 6,
       "text": [
        "acc:91.137820512821\t\n",
        "109\t\n"
       ]
      },
      {
       "metadata": {},
       "output_type": "pyout",
       "prompt_number": 6,
       "text": [
        "acc:91.256009615385\t\n",
        "110\t\n"
       ]
      },
      {
       "metadata": {},
       "output_type": "pyout",
       "prompt_number": 6,
       "text": [
        "acc:91.296073717949\t\n",
        "111\t\n"
       ]
      },
      {
       "metadata": {},
       "output_type": "pyout",
       "prompt_number": 6,
       "text": [
        "acc:91.650641025641\t\n",
        "112\t\n"
       ]
      },
      {
       "metadata": {},
       "output_type": "pyout",
       "prompt_number": 6,
       "text": [
        "acc:91.508413461538\t\n",
        "113\t\n"
       ]
      },
      {
       "metadata": {},
       "output_type": "pyout",
       "prompt_number": 6,
       "text": [
        "acc:91.50641025641\t\n",
        "114\t\n"
       ]
      },
      {
       "metadata": {},
       "output_type": "pyout",
       "prompt_number": 6,
       "text": [
        "acc:91.702724358974\t\n",
        "115\t\n"
       ]
      },
      {
       "metadata": {},
       "output_type": "pyout",
       "prompt_number": 6,
       "text": [
        "acc:91.448317307692\t\n",
        "116\t\n"
       ]
      },
      {
       "metadata": {},
       "output_type": "pyout",
       "prompt_number": 6,
       "text": [
        "acc:91.626602564103\t\n",
        "117\t\n"
       ]
      },
      {
       "metadata": {},
       "output_type": "pyout",
       "prompt_number": 6,
       "text": [
        "acc:91.81891025641\t\n",
        "118\t\n"
       ]
      },
      {
       "metadata": {},
       "output_type": "pyout",
       "prompt_number": 6,
       "text": [
        "acc:91.764823717949\t\n",
        "119\t\n"
       ]
      },
      {
       "metadata": {},
       "output_type": "pyout",
       "prompt_number": 6,
       "text": [
        "acc:91.780849358974\t\n",
        "120\t\n"
       ]
      },
      {
       "metadata": {},
       "output_type": "pyout",
       "prompt_number": 6,
       "text": [
        "acc:92.169471153846\t\n",
        "121\t\n"
       ]
      },
      {
       "metadata": {},
       "output_type": "pyout",
       "prompt_number": 6,
       "text": [
        "acc:91.899038461538\t\n",
        "122\t\n"
       ]
      },
      {
       "metadata": {},
       "output_type": "pyout",
       "prompt_number": 6,
       "text": [
        "acc:92.183493589744\t\n",
        "123\t\n"
       ]
      },
      {
       "metadata": {},
       "output_type": "pyout",
       "prompt_number": 6,
       "text": [
        "acc:92.28766025641\t\n",
        "124\t\n"
       ]
      },
      {
       "metadata": {},
       "output_type": "pyout",
       "prompt_number": 6,
       "text": [
        "acc:92.119391025641\t\n",
        "125\t\n"
       ]
      },
      {
       "metadata": {},
       "output_type": "pyout",
       "prompt_number": 6,
       "text": [
        "acc:93.155048076923\t\n",
        "126\t\n"
       ]
      },
      {
       "metadata": {},
       "output_type": "pyout",
       "prompt_number": 6,
       "text": [
        "acc:93.735977564103\t\n",
        "127\t\n"
       ]
      },
      {
       "metadata": {},
       "output_type": "pyout",
       "prompt_number": 6,
       "text": [
        "acc:93.862179487179\t\n",
        "128\t\n"
       ]
      },
      {
       "metadata": {},
       "output_type": "pyout",
       "prompt_number": 6,
       "text": [
        "acc:93.88421474359\t\n",
        "129\t\n"
       ]
      },
      {
       "metadata": {},
       "output_type": "pyout",
       "prompt_number": 6,
       "text": [
        "acc:94.082532051282\t\n",
        "130\t\n"
       ]
      },
      {
       "metadata": {},
       "output_type": "pyout",
       "prompt_number": 6,
       "text": [
        "acc:94.242788461538\t\n",
        "131\t\n"
       ]
      },
      {
       "metadata": {},
       "output_type": "pyout",
       "prompt_number": 6,
       "text": [
        "acc:94.16266025641\t\n",
        "132\t\n"
       ]
      },
      {
       "metadata": {},
       "output_type": "pyout",
       "prompt_number": 6,
       "text": [
        "acc:94.306891025641\t\n",
        "133\t\n"
       ]
      },
      {
       "metadata": {},
       "output_type": "pyout",
       "prompt_number": 6,
       "text": [
        "acc:94.389022435897\t\n",
        "134\t\n"
       ]
      },
      {
       "metadata": {},
       "output_type": "pyout",
       "prompt_number": 6,
       "text": [
        "acc:94.469150641026\t\n",
        "135\t\n"
       ]
      },
      {
       "metadata": {},
       "output_type": "pyout",
       "prompt_number": 6,
       "text": [
        "acc:94.515224358974\t\n",
        "136\t\n"
       ]
      },
      {
       "metadata": {},
       "output_type": "pyout",
       "prompt_number": 6,
       "text": [
        "acc:94.539262820513\t\n",
        "137\t\n"
       ]
      },
      {
       "metadata": {},
       "output_type": "pyout",
       "prompt_number": 6,
       "text": [
        "acc:94.615384615385\t\n",
        "138\t\n"
       ]
      },
      {
       "metadata": {},
       "output_type": "pyout",
       "prompt_number": 6,
       "text": [
        "acc:94.547275641026\t\n",
        "139\t\n"
       ]
      },
      {
       "metadata": {},
       "output_type": "pyout",
       "prompt_number": 6,
       "text": [
        "acc:94.715544871795\t\n",
        "140\t\n"
       ]
      },
      {
       "metadata": {},
       "output_type": "pyout",
       "prompt_number": 6,
       "text": [
        "acc:94.785657051282\t\n",
        "141\t\n"
       ]
      },
      {
       "metadata": {},
       "output_type": "pyout",
       "prompt_number": 6,
       "text": [
        "acc:94.711538461538\t\n",
        "142\t\n"
       ]
      },
      {
       "metadata": {},
       "output_type": "pyout",
       "prompt_number": 6,
       "text": [
        "acc:94.929887820513\t\n",
        "143\t\n"
       ]
      },
      {
       "metadata": {},
       "output_type": "pyout",
       "prompt_number": 6,
       "text": [
        "acc:94.819711538462\t\n",
        "144\t\n"
       ]
      },
      {
       "metadata": {},
       "output_type": "pyout",
       "prompt_number": 6,
       "text": [
        "acc:94.939903846154\t\n",
        "145\t\n"
       ]
      },
      {
       "metadata": {},
       "output_type": "pyout",
       "prompt_number": 6,
       "text": [
        "acc:94.815705128205\t\n",
        "146\t\n"
       ]
      },
      {
       "metadata": {},
       "output_type": "pyout",
       "prompt_number": 6,
       "text": [
        "acc:94.845753205128\t\n",
        "147\t\n"
       ]
      },
      {
       "metadata": {},
       "output_type": "pyout",
       "prompt_number": 6,
       "text": [
        "acc:94.973958333333\t\n",
        "148\t\n"
       ]
      },
      {
       "metadata": {},
       "output_type": "pyout",
       "prompt_number": 6,
       "text": [
        "acc:94.869791666667\t\n",
        "149\t\n"
       ]
      },
      {
       "metadata": {},
       "output_type": "pyout",
       "prompt_number": 6,
       "text": [
        "acc:95.054086538462\t\n",
        "150\t\n"
       ]
      },
      {
       "metadata": {},
       "output_type": "pyout",
       "prompt_number": 6,
       "text": [
        "acc:95.653044871795\t\n",
        "151\t\n"
       ]
      },
      {
       "metadata": {},
       "output_type": "pyout",
       "prompt_number": 6,
       "text": [
        "acc:95.631009615385\t\n",
        "152\t\n"
       ]
      },
      {
       "metadata": {},
       "output_type": "pyout",
       "prompt_number": 6,
       "text": [
        "acc:95.697115384615\t\n",
        "153\t\n"
       ]
      },
      {
       "metadata": {},
       "output_type": "pyout",
       "prompt_number": 6,
       "text": [
        "acc:95.657051282051\t\n",
        "154\t\n"
       ]
      },
      {
       "metadata": {},
       "output_type": "pyout",
       "prompt_number": 6,
       "text": [
        "acc:95.965544871795\t\n",
        "155\t\n"
       ]
      },
      {
       "metadata": {},
       "output_type": "pyout",
       "prompt_number": 6,
       "text": [
        "acc:95.701121794872\t\n"
       ]
      },
      {
       "metadata": {},
       "output_type": "pyout",
       "prompt_number": 6,
       "text": [
        "156\t\n"
       ]
      },
      {
       "metadata": {},
       "output_type": "pyout",
       "prompt_number": 6,
       "text": [
        "acc:95.943509615385\t\n",
        "157\t\n"
       ]
      },
      {
       "metadata": {},
       "output_type": "pyout",
       "prompt_number": 6,
       "text": [
        "acc:95.913461538462\t\n",
        "158\t\n"
       ]
      },
      {
       "metadata": {},
       "output_type": "pyout",
       "prompt_number": 6,
       "text": [
        "acc:95.939503205128\t\n"
       ]
      },
      {
       "metadata": {},
       "output_type": "pyout",
       "prompt_number": 6,
       "text": [
        "159\t\n"
       ]
      },
      {
       "metadata": {},
       "output_type": "pyout",
       "prompt_number": 6,
       "text": [
        "acc:96.081730769231\t\n",
        "160\t\n"
       ]
      },
      {
       "metadata": {},
       "output_type": "pyout",
       "prompt_number": 6,
       "text": [
        "acc:96.101762820513\t\n",
        "161\t\n"
       ]
      },
      {
       "metadata": {},
       "output_type": "pyout",
       "prompt_number": 6,
       "text": [
        "acc:96.235977564103\t\n",
        "162\t\n"
       ]
      },
      {
       "metadata": {},
       "output_type": "pyout",
       "prompt_number": 6,
       "text": [
        "acc:96.258012820513\t\n",
        "163\t\n"
       ]
      },
      {
       "metadata": {},
       "output_type": "pyout",
       "prompt_number": 6,
       "text": [
        "acc:96.223958333333\t\n",
        "164\t\n"
       ]
      },
      {
       "metadata": {},
       "output_type": "pyout",
       "prompt_number": 6,
       "text": [
        "acc:96.03766025641\t\n",
        "165\t\n"
       ]
      },
      {
       "metadata": {},
       "output_type": "pyout",
       "prompt_number": 6,
       "text": [
        "acc:96.089743589744\t\n",
        "166\t\n"
       ]
      },
      {
       "metadata": {},
       "output_type": "pyout",
       "prompt_number": 6,
       "text": [
        "acc:96.171875\t\n",
        "167\t\n"
       ]
      },
      {
       "metadata": {},
       "output_type": "pyout",
       "prompt_number": 6,
       "text": [
        "acc:96.241987179487\t\n",
        "168\t\n"
       ]
      },
      {
       "metadata": {},
       "output_type": "pyout",
       "prompt_number": 6,
       "text": [
        "acc:96.362179487179\t\n",
        "169\t\n"
       ]
      },
      {
       "metadata": {},
       "output_type": "pyout",
       "prompt_number": 6,
       "text": [
        "acc:96.181891025641\t\n",
        "170\t\n"
       ]
      },
      {
       "metadata": {},
       "output_type": "pyout",
       "prompt_number": 6,
       "text": [
        "acc:96.11578525641\t\n",
        "171\t\n"
       ]
      },
      {
       "metadata": {},
       "output_type": "pyout",
       "prompt_number": 6,
       "text": [
        "acc:96.278044871795\t\n",
        "172\t\n"
       ]
      },
      {
       "metadata": {},
       "output_type": "pyout",
       "prompt_number": 6,
       "text": [
        "acc:96.356169871795\t\n",
        "173\t\n"
       ]
      },
      {
       "metadata": {},
       "output_type": "pyout",
       "prompt_number": 6,
       "text": [
        "acc:96.316105769231\t\n",
        "174\t\n"
       ]
      },
      {
       "metadata": {},
       "output_type": "pyout",
       "prompt_number": 6,
       "text": [
        "acc:96.298076923077\t\n",
        "175\t\n"
       ]
      },
      {
       "metadata": {},
       "output_type": "pyout",
       "prompt_number": 6,
       "text": [
        "acc:96.634615384615\t\n",
        "176\t\n"
       ]
      },
      {
       "metadata": {},
       "output_type": "pyout",
       "prompt_number": 6,
       "text": [
        "acc:96.600560897436\t\n",
        "177\t\n"
       ]
      },
      {
       "metadata": {},
       "output_type": "pyout",
       "prompt_number": 6,
       "text": [
        "acc:96.66266025641\t\n",
        "178\t\n"
       ]
      },
      {
       "metadata": {},
       "output_type": "pyout",
       "prompt_number": 6,
       "text": [
        "acc:96.702724358974\t\n",
        "179\t\n"
       ]
      },
      {
       "metadata": {},
       "output_type": "pyout",
       "prompt_number": 6,
       "text": [
        "acc:96.804887820513\t\n",
        "180\t\n"
       ]
      },
      {
       "metadata": {},
       "output_type": "pyout",
       "prompt_number": 6,
       "text": [
        "acc:96.844951923077\t\n",
        "181\t\n"
       ]
      },
      {
       "metadata": {},
       "output_type": "pyout",
       "prompt_number": 6,
       "text": [
        "acc:96.838942307692\t\n",
        "182\t\n"
       ]
      },
      {
       "metadata": {},
       "output_type": "pyout",
       "prompt_number": 6,
       "text": [
        "acc:96.901041666667\t\n",
        "183\t\n"
       ]
      },
      {
       "metadata": {},
       "output_type": "pyout",
       "prompt_number": 6,
       "text": [
        "acc:96.694711538462\t\n"
       ]
      },
      {
       "metadata": {},
       "output_type": "pyout",
       "prompt_number": 6,
       "text": [
        "184\t\n"
       ]
      },
      {
       "metadata": {},
       "output_type": "pyout",
       "prompt_number": 6,
       "text": [
        "acc:96.770833333333\t\n",
        "185\t\n"
       ]
      },
      {
       "metadata": {},
       "output_type": "pyout",
       "prompt_number": 6,
       "text": [
        "acc:96.889022435897\t\n",
        "186\t\n"
       ]
      },
      {
       "metadata": {},
       "output_type": "pyout",
       "prompt_number": 6,
       "text": [
        "acc:96.830929487179\t\n"
       ]
      },
      {
       "metadata": {},
       "output_type": "pyout",
       "prompt_number": 6,
       "text": [
        "187\t\n"
       ]
      },
      {
       "metadata": {},
       "output_type": "pyout",
       "prompt_number": 6,
       "text": [
        "acc:96.796875\t\n",
        "188\t\n"
       ]
      },
      {
       "metadata": {},
       "output_type": "pyout",
       "prompt_number": 6,
       "text": [
        "acc:96.792868589744\t\n",
        "189\t\n"
       ]
      },
      {
       "metadata": {},
       "output_type": "pyout",
       "prompt_number": 6,
       "text": [
        "acc:96.858974358974\t\n"
       ]
      },
      {
       "metadata": {},
       "output_type": "pyout",
       "prompt_number": 6,
       "text": [
        "190\t\n"
       ]
      },
      {
       "metadata": {},
       "output_type": "pyout",
       "prompt_number": 6,
       "text": [
        "acc:97.055288461538\t\n",
        "191\t\n"
       ]
      },
      {
       "metadata": {},
       "output_type": "pyout",
       "prompt_number": 6,
       "text": [
        "acc:96.838942307692\t\n",
        "192\t\n"
       ]
      },
      {
       "metadata": {},
       "output_type": "pyout",
       "prompt_number": 6,
       "text": [
        "acc:96.877003205128\t\n",
        "193\t\n"
       ]
      },
      {
       "metadata": {},
       "output_type": "pyout",
       "prompt_number": 6,
       "text": [
        "acc:96.957131410256\t\n",
        "194\t\n"
       ]
      },
      {
       "metadata": {},
       "output_type": "pyout",
       "prompt_number": 6,
       "text": [
        "acc:96.879006410256\t\n",
        "195\t\n"
       ]
      },
      {
       "metadata": {},
       "output_type": "pyout",
       "prompt_number": 6,
       "text": [
        "acc:96.949118589744\t\n"
       ]
      },
      {
       "metadata": {},
       "output_type": "pyout",
       "prompt_number": 6,
       "text": [
        "196\t\n"
       ]
      },
      {
       "metadata": {},
       "output_type": "pyout",
       "prompt_number": 6,
       "text": [
        "acc:96.788862179487\t\n",
        "197\t\n"
       ]
      },
      {
       "metadata": {},
       "output_type": "pyout",
       "prompt_number": 6,
       "text": [
        "acc:96.925080128205\t\n",
        "198\t\n"
       ]
      },
      {
       "metadata": {},
       "output_type": "pyout",
       "prompt_number": 6,
       "text": [
        "acc:97.129407051282\t\n",
        "199\t\n"
       ]
      },
      {
       "metadata": {},
       "output_type": "pyout",
       "prompt_number": 6,
       "text": [
        "acc:96.877003205128\t\n",
        "200\t\n"
       ]
      },
      {
       "metadata": {},
       "output_type": "pyout",
       "prompt_number": 6,
       "text": [
        "acc:97.023237179487\t\n"
       ]
      }
     ],
     "prompt_number": 6
    },
    {
     "cell_type": "code",
     "collapsed": false,
     "input": [
      "Plot = require 'itorch.Plot'\n",
      "--loss = torch.load('loss.t7')\n",
      "i = 0\n",
      "ep = torch.Tensor(maxEpoch):apply(function(epoch_indices)\n",
      "        i = i + 1\n",
      "        return i \n",
      "        end)\n",
      "\n",
      "loss = Plot:line(ep, train_err, 'blue', 'loss'):legend(true):title('loss'):draw()"
     ],
     "language": "python",
     "metadata": {},
     "outputs": [
      {
       "html": [
        "<script type=\"text/javascript\">\n",
        "$(function() {\n",
        "    if (typeof (window._bokeh_onload_callbacks) === \"undefined\"){\n",
        "  window._bokeh_onload_callbacks = [];\n",
        "    }\n",
        "    function load_lib(url, callback){\n",
        "  window._bokeh_onload_callbacks.push(callback);\n",
        "  if (window._bokeh_is_loading){\n",
        "      console.log(\"Bokeh: BokehJS is being loaded, scheduling callback at\", new Date());\n",
        "      return null;\n",
        "  }\n",
        "  console.log(\"Bokeh: BokehJS not loaded, scheduling load and callback at\", new Date());\n",
        "  window._bokeh_is_loading = true;\n",
        "  var s = document.createElement('script');\n",
        "  s.src = url;\n",
        "  s.async = true;\n",
        "  s.onreadystatechange = s.onload = function(){\n",
        "      Bokeh.embed.inject_css(\"https://cdn.pydata.org/bokeh-0.7.0.min.css\");\n",
        "      window._bokeh_onload_callbacks.forEach(function(callback){callback()});\n",
        "  };\n",
        "  s.onerror = function(){\n",
        "      console.warn(\"failed to load library \" + url);\n",
        "  };\n",
        "  document.getElementsByTagName(\"head\")[0].appendChild(s);\n",
        "    }\n",
        "\n",
        "    bokehjs_url = \"https://cdn.pydata.org/bokeh-0.7.0.min.js\"\n",
        "\n",
        "    var elt = document.getElementById(\"4790005a-184c-44cd-c430-d44d8e4487c9\");\n",
        "    if(elt==null) {\n",
        "  console.log(\"Bokeh: ERROR: autoload.js configured with elementid '4790005a-184c-44cd-c430-d44d8e4487c9'\"\n",
        "        + \"but no matching script tag was found. \")\n",
        "  return false;\n",
        "    }\n",
        "\n",
        "    if(typeof(Bokeh) !== \"undefined\") {\n",
        "  console.log(\"Bokeh: BokehJS loaded, going straight to plotting\");\n",
        "  var modelid = \"50ab886e-2ffc-4562-c531-022fe52b2fa8\";\n",
        "  var modeltype = \"Plot\";\n",
        "  var all_models = [{\"id\":\"22748664-18c5-491a-c983-aa6519a2cf3d\",\"type\":\"ColumnDataSource\",\"attributes\":{\"data\":{\"y\":[1.6706166267395,1.752436041832,1.5862859487534,1.7574535608292,1.8112481832504,1.766205072403,1.5515402555466,1.7500401735306,1.7452105283737,1.8042615652084,1.713995218277,1.6578211784363,1.7191684246063,1.7050431966782,1.7049162387848,1.751002907753,1.6186228990555,1.6414033174515,1.8177855014801,1.574590086937,1.6407871246338,1.6823899745941,1.8645980358124,1.6542139053345,1.5481635332108,1.2685222625732,1.3570922613144,1.279710650444,1.3274887800217,1.1374524831772,1.0150858163834,1.0616768598557,1.1603579521179,1.1138107776642,1.1445434093475,1.186336517334,1.0705052614212,1.1393747329712,1.0491153001785,1.1292476654053,0.93451189994812,1.0703613758087,0.98856538534164,1.0743129253387,0.84141135215759,0.93690091371536,1.0471450090408,0.9147190451622,0.93959331512451,0.88730275630951,0.93852978944778,0.88966619968414,0.67430794239044,0.80248993635178,0.60020297765732,0.66834026575089,0.7265197634697,0.64047181606293,0.66906034946442,0.81460124254227,0.73439860343933,0.85186356306076,0.7553186416626,0.69328147172928,0.68045055866241,0.77418172359467,0.58302700519562,0.79837721586227,0.59847974777222,0.51310467720032,0.69523346424103,0.73569619655609,0.5202334523201,0.55304491519928,0.3598960340023,0.50110083818436,0.36268627643585,0.4334269464016,0.42265391349792,0.39694410562515,0.39360025525093,0.2905461192131,0.36330249905586,0.5408421754837,0.47034853696823,0.23312464356422,0.39107170701027,0.53376203775406,0.32575291395187,0.40570506453514,0.35074496269226,0.26603934168816,0.31986287236214,0.45420488715172,0.38182044029236,0.47450217604637,0.44798496365547,0.42113783955574,0.32381054759026,0.2679568529129,0.17221048474312,0.17489285767078,0.19315832853317,0.28052204847336,0.40733897686005,0.41935628652573,0.36949178576469,0.26736479997635,0.30357441306114,0.29446360468864,0.14409257471561,0.2519117295742,0.26263511180878,0.22583335638046,0.2639462351799,0.19640657305717,0.21549753844738,0.23013299703598,0.22787664830685,0.2755614221096,0.23436617851257,0.20507562160492,0.2068645209074,0.27442944049835,0.18559734523296,0.19799706339836,0.17553249001503,0.078368775546551,0.1902974396944,0.17432987689972,0.15388366580009,0.14459605515003,0.14192754030228,0.18047934770584,0.11629081517458,0.12542541325092,0.15641342103481,0.17663918435574,0.16608878970146,0.063480190932751,0.16040018200874,0.19731704890728,0.08482014387846,0.15421767532825,0.18324498832226,0.086855381727219,0.19451509416103,0.19370122253895,0.1296930462122,0.13808277249336,0.15259791910648,0.088767789304256,0.17594188451767,0.11324019730091,0.12791986763477,0.13743433356285,0.11461114883423,0.18086515367031,0.12213561683893,0.14888074994087,0.11360093206167,0.06589649617672,0.18589280545712,0.12962225079536,0.056983180344105,0.068368852138519,0.1122552677989,0.080712743103504,0.051465012133121,0.071196518838406,0.12518936395645,0.1354189068079,0.076098740100861,0.12729892134666,0.096843004226685,0.075168929994106,0.099479533731937,0.054057519882917,0.12476231902838,0.12289100140333,0.18032793700695,0.07327813655138,0.11219541728497,0.082107402384281,0.10521657019854,0.13090407848358,0.097560495138168,0.093987420201302,0.026458406820893,0.082662500441074,0.18907390534878,0.19320899248123,0.10098993033171,0.076397255063057,0.076525330543518,0.090448394417763,0.094835586845875,0.11851573735476,0.094767481088638,0.078231409192085],\"x\":[1,2,3,4,5,6,7,8,9,10,11,12,13,14,15,16,17,18,19,20,21,22,23,24,25,26,27,28,29,30,31,32,33,34,35,36,37,38,39,40,41,42,43,44,45,46,47,48,49,50,51,52,53,54,55,56,57,58,59,60,61,62,63,64,65,66,67,68,69,70,71,72,73,74,75,76,77,78,79,80,81,82,83,84,85,86,87,88,89,90,91,92,93,94,95,96,97,98,99,100,101,102,103,104,105,106,107,108,109,110,111,112,113,114,115,116,117,118,119,120,121,122,123,124,125,126,127,128,129,130,131,132,133,134,135,136,137,138,139,140,141,142,143,144,145,146,147,148,149,150,151,152,153,154,155,156,157,158,159,160,161,162,163,164,165,166,167,168,169,170,171,172,173,174,175,176,177,178,179,180,181,182,183,184,185,186,187,188,189,190,191,192,193,194,195,196,197,198,199,200]},\"column_names\":[\"y\",\"x\"],\"cont_ranges\":{},\"discrete_ranges\":{},\"selected\":[],\"id\":\"22748664-18c5-491a-c983-aa6519a2cf3d\",\"doc\":null,\"tags\":[]}},{\"id\":\"dfc5d210-21c2-4941-c9e8-e315d3e43f11\",\"type\":\"Line\",\"attributes\":{\"fill_alpha\":{\"units\":\"data\",\"value\":0.2},\"line_alpha\":{\"units\":\"data\",\"value\":1},\"doc\":null,\"size\":{\"units\":\"screen\",\"value\":10},\"fill_color\":{\"value\":\"blue\"},\"line_color\":{\"value\":\"blue\"},\"x\":{\"units\":\"data\",\"field\":\"x\"},\"id\":\"dfc5d210-21c2-4941-c9e8-e315d3e43f11\",\"y\":{\"units\":\"data\",\"field\":\"y\"},\"tags\":[]}},{\"id\":\"dbcc3eaa-b727-47b6-c720-42663355dce0\",\"type\":\"Line\",\"attributes\":{\"fill_alpha\":{\"units\":\"data\",\"value\":0.2},\"line_alpha\":{\"units\":\"data\",\"value\":1},\"doc\":null,\"size\":{\"units\":\"screen\",\"value\":10},\"fill_color\":{\"value\":\"blue\"},\"line_color\":{\"value\":\"blue\"},\"x\":{\"units\":\"data\",\"field\":\"x\"},\"id\":\"dbcc3eaa-b727-47b6-c720-42663355dce0\",\"y\":{\"units\":\"data\",\"field\":\"y\"},\"tags\":[]}},{\"id\":\"5009ef23-82c9-4a61-ca83-74682f17fda2\",\"type\":\"GlyphRenderer\",\"attributes\":{\"name\":null,\"nonselection_glyph\":{\"type\":\"Line\",\"id\":\"dbcc3eaa-b727-47b6-c720-42663355dce0\"},\"doc\":null,\"server_data_source\":null,\"data_source\":{\"type\":\"ColumnDataSource\",\"id\":\"22748664-18c5-491a-c983-aa6519a2cf3d\"},\"glyph\":{\"type\":\"Line\",\"id\":\"dfc5d210-21c2-4941-c9e8-e315d3e43f11\"},\"selection_glyph\":null,\"id\":\"5009ef23-82c9-4a61-ca83-74682f17fda2\",\"tags\":[]}},{\"id\":\"cb31dc76-94d6-465b-c6f7-be2f9280a00e\",\"type\":\"DataRange1d\",\"attributes\":{\"sources\":[{\"columns\":[\"x\"],\"source\":{\"type\":\"ColumnDataSource\",\"id\":\"22748664-18c5-491a-c983-aa6519a2cf3d\"}}],\"id\":\"cb31dc76-94d6-465b-c6f7-be2f9280a00e\",\"tags\":[],\"doc\":null}},{\"id\":\"2ce6d563-645b-437e-c3e5-955c0880629e\",\"type\":\"DataRange1d\",\"attributes\":{\"sources\":[{\"columns\":[\"y\"],\"source\":{\"type\":\"ColumnDataSource\",\"id\":\"22748664-18c5-491a-c983-aa6519a2cf3d\"}}],\"id\":\"2ce6d563-645b-437e-c3e5-955c0880629e\",\"tags\":[],\"doc\":null}},{\"id\":\"ae9bdc2a-8636-481f-c89f-c93e65dd2be2\",\"type\":\"ToolEvents\",\"attributes\":{\"tags\":[],\"id\":\"ae9bdc2a-8636-481f-c89f-c93e65dd2be2\",\"geometries\":[],\"doc\":null}},{\"id\":\"6ea307e2-93aa-4cdd-cc53-0fe234bdd645\",\"type\":\"BasicTickFormatter\",\"attributes\":{\"id\":\"6ea307e2-93aa-4cdd-cc53-0fe234bdd645\",\"tags\":[],\"doc\":null}},{\"id\":\"16ca4d4e-69df-4fa1-cf2a-9b4b1287e209\",\"type\":\"BasicTicker\",\"attributes\":{\"num_minor_ticks\":5,\"id\":\"16ca4d4e-69df-4fa1-cf2a-9b4b1287e209\",\"tags\":[],\"doc\":null}},{\"id\":\"bc15cc70-ce9e-41f7-c15e-cf43818825f6\",\"type\":\"LinearAxis\",\"attributes\":{\"formatter\":{\"type\":\"BasicTickFormatter\",\"id\":\"6ea307e2-93aa-4cdd-cc53-0fe234bdd645\"},\"ticker\":{\"type\":\"BasicTicker\",\"id\":\"16ca4d4e-69df-4fa1-cf2a-9b4b1287e209\"},\"plot\":{\"id\":\"50ab886e-2ffc-4562-c531-022fe52b2fa8\",\"type\":\"Plot\",\"subtype\":\"Figure\"},\"axis_label\":null,\"id\":\"bc15cc70-ce9e-41f7-c15e-cf43818825f6\",\"doc\":null,\"tags\":[]}},{\"id\":\"f58a716c-0919-4ed1-ce81-4532f5591c71\",\"type\":\"Grid\",\"attributes\":{\"dimension\":0,\"plot\":{\"id\":\"50ab886e-2ffc-4562-c531-022fe52b2fa8\",\"type\":\"Plot\",\"subtype\":\"Figure\"},\"ticker\":{\"type\":\"BasicTicker\",\"id\":\"16ca4d4e-69df-4fa1-cf2a-9b4b1287e209\"},\"id\":\"f58a716c-0919-4ed1-ce81-4532f5591c71\",\"doc\":null,\"tags\":[]}},{\"id\":\"7d0e3034-00f9-433f-c303-8ee9f15f43eb\",\"type\":\"BasicTickFormatter\",\"attributes\":{\"id\":\"7d0e3034-00f9-433f-c303-8ee9f15f43eb\",\"tags\":[],\"doc\":null}},{\"id\":\"3f6751a2-733b-4934-c931-1d1d86374e94\",\"type\":\"BasicTicker\",\"attributes\":{\"num_minor_ticks\":5,\"id\":\"3f6751a2-733b-4934-c931-1d1d86374e94\",\"tags\":[],\"doc\":null}},{\"id\":\"916b9db1-7745-489e-c89f-1f690cc20823\",\"type\":\"LinearAxis\",\"attributes\":{\"formatter\":{\"type\":\"BasicTickFormatter\",\"id\":\"7d0e3034-00f9-433f-c303-8ee9f15f43eb\"},\"ticker\":{\"type\":\"BasicTicker\",\"id\":\"3f6751a2-733b-4934-c931-1d1d86374e94\"},\"plot\":{\"id\":\"50ab886e-2ffc-4562-c531-022fe52b2fa8\",\"type\":\"Plot\",\"subtype\":\"Figure\"},\"axis_label\":null,\"id\":\"916b9db1-7745-489e-c89f-1f690cc20823\",\"doc\":null,\"tags\":[]}},{\"id\":\"1abaa17f-bd72-4876-c83c-1f031df8990d\",\"type\":\"Grid\",\"attributes\":{\"dimension\":1,\"plot\":{\"id\":\"50ab886e-2ffc-4562-c531-022fe52b2fa8\",\"type\":\"Plot\",\"subtype\":\"Figure\"},\"ticker\":{\"type\":\"BasicTicker\",\"id\":\"3f6751a2-733b-4934-c931-1d1d86374e94\"},\"id\":\"1abaa17f-bd72-4876-c83c-1f031df8990d\",\"doc\":null,\"tags\":[]}},{\"id\":\"6b9474d1-8d60-4850-c806-e7a23f5fff7f\",\"type\":\"PanTool\",\"attributes\":{\"plot\":{\"id\":\"50ab886e-2ffc-4562-c531-022fe52b2fa8\",\"type\":\"Plot\",\"subtype\":\"Figure\"},\"dimensions\":[\"width\",\"height\"],\"id\":\"6b9474d1-8d60-4850-c806-e7a23f5fff7f\",\"doc\":null,\"tags\":[]}},{\"id\":\"a49f8f88-172c-43fc-c36e-1e4be944b303\",\"type\":\"WheelZoomTool\",\"attributes\":{\"plot\":{\"id\":\"50ab886e-2ffc-4562-c531-022fe52b2fa8\",\"type\":\"Plot\",\"subtype\":\"Figure\"},\"dimensions\":[\"width\",\"height\"],\"id\":\"a49f8f88-172c-43fc-c36e-1e4be944b303\",\"doc\":null,\"tags\":[]}},{\"id\":\"4c92973d-d7fe-41e5-c1dd-b80d028b6905\",\"type\":\"BoxZoomTool\",\"attributes\":{\"plot\":{\"id\":\"50ab886e-2ffc-4562-c531-022fe52b2fa8\",\"type\":\"Plot\",\"subtype\":\"Figure\"},\"id\":\"4c92973d-d7fe-41e5-c1dd-b80d028b6905\",\"tags\":[],\"doc\":null}},{\"id\":\"c1b533d8-3c18-4cdd-cc47-403647fe1018\",\"type\":\"PreviewSaveTool\",\"attributes\":{\"plot\":{\"id\":\"50ab886e-2ffc-4562-c531-022fe52b2fa8\",\"type\":\"Plot\",\"subtype\":\"Figure\"},\"id\":\"c1b533d8-3c18-4cdd-cc47-403647fe1018\",\"tags\":[],\"doc\":null}},{\"id\":\"f7004df0-ddf7-4d03-cdb8-4fa1de6e3bcf\",\"type\":\"ResizeTool\",\"attributes\":{\"plot\":{\"id\":\"50ab886e-2ffc-4562-c531-022fe52b2fa8\",\"type\":\"Plot\",\"subtype\":\"Figure\"},\"id\":\"f7004df0-ddf7-4d03-cdb8-4fa1de6e3bcf\",\"tags\":[],\"doc\":null}},{\"id\":\"fc73a7e6-7404-4f02-cf0e-21bbb4c021ef\",\"type\":\"ResetTool\",\"attributes\":{\"plot\":{\"id\":\"50ab886e-2ffc-4562-c531-022fe52b2fa8\",\"type\":\"Plot\",\"subtype\":\"Figure\"},\"id\":\"fc73a7e6-7404-4f02-cf0e-21bbb4c021ef\",\"tags\":[],\"doc\":null}},{\"id\":\"3341b4ae-cbb7-4b06-cb09-af6b68284b67\",\"type\":\"Legend\",\"attributes\":{\"plot\":{\"id\":\"50ab886e-2ffc-4562-c531-022fe52b2fa8\",\"type\":\"Plot\",\"subtype\":\"Figure\"},\"legends\":[[\"loss\",[{\"type\":\"GlyphRenderer\",\"id\":\"5009ef23-82c9-4a61-ca83-74682f17fda2\"}]]],\"id\":\"3341b4ae-cbb7-4b06-cb09-af6b68284b67\",\"doc\":null,\"tags\":[]}},{\"id\":\"50ab886e-2ffc-4562-c531-022fe52b2fa8\",\"type\":\"Plot\",\"attributes\":{\"x_range\":{\"type\":\"DataRange1d\",\"id\":\"cb31dc76-94d6-465b-c6f7-be2f9280a00e\"},\"tool_events\":{\"type\":\"ToolEvents\",\"id\":\"ae9bdc2a-8636-481f-c89f-c93e65dd2be2\"},\"below\":[{\"type\":\"LinearAxis\",\"id\":\"bc15cc70-ce9e-41f7-c15e-cf43818825f6\"}],\"renderers\":[{\"type\":\"GlyphRenderer\",\"id\":\"5009ef23-82c9-4a61-ca83-74682f17fda2\"},{\"type\":\"LinearAxis\",\"id\":\"bc15cc70-ce9e-41f7-c15e-cf43818825f6\"},{\"type\":\"Grid\",\"id\":\"f58a716c-0919-4ed1-ce81-4532f5591c71\"},{\"type\":\"LinearAxis\",\"id\":\"916b9db1-7745-489e-c89f-1f690cc20823\"},{\"type\":\"Grid\",\"id\":\"1abaa17f-bd72-4876-c83c-1f031df8990d\"},{\"type\":\"Legend\",\"id\":\"3341b4ae-cbb7-4b06-cb09-af6b68284b67\"}],\"above\":[],\"tools\":[{\"type\":\"PanTool\",\"id\":\"6b9474d1-8d60-4850-c806-e7a23f5fff7f\"},{\"type\":\"WheelZoomTool\",\"id\":\"a49f8f88-172c-43fc-c36e-1e4be944b303\"},{\"type\":\"BoxZoomTool\",\"id\":\"4c92973d-d7fe-41e5-c1dd-b80d028b6905\"},{\"type\":\"PreviewSaveTool\",\"id\":\"c1b533d8-3c18-4cdd-cc47-403647fe1018\"},{\"type\":\"ResizeTool\",\"id\":\"f7004df0-ddf7-4d03-cdb8-4fa1de6e3bcf\"},{\"type\":\"ResetTool\",\"id\":\"fc73a7e6-7404-4f02-cf0e-21bbb4c021ef\"}],\"doc\":null,\"right\":[],\"title\":\"loss\",\"extra_x_ranges\":{},\"left\":[{\"type\":\"LinearAxis\",\"id\":\"916b9db1-7745-489e-c89f-1f690cc20823\"}],\"y_range\":{\"type\":\"DataRange1d\",\"id\":\"2ce6d563-645b-437e-c3e5-955c0880629e\"},\"id\":\"50ab886e-2ffc-4562-c531-022fe52b2fa8\",\"extra_y_ranges\":{},\"tags\":[]}}];\n",
        "  Bokeh.load_models(all_models);\n",
        "  var model = Bokeh.Collections(modeltype).get(modelid);\n",
        "  $(\"#4790005a-184c-44cd-c430-d44d8e4487c9\").html(''); // clear any previous plot in window_id\n",
        "  var view = new model.default_view({model: model, el: \"#4790005a-184c-44cd-c430-d44d8e4487c9\"});\n",
        "    } else {\n",
        "  load_lib(bokehjs_url, function() {\n",
        "      console.log(\"Bokeh: BokehJS plotting callback run at\", new Date())\n",
        "      var modelid = \"50ab886e-2ffc-4562-c531-022fe52b2fa8\";\n",
        "      var modeltype = \"Plot\";\n",
        "      var all_models = [{\"id\":\"22748664-18c5-491a-c983-aa6519a2cf3d\",\"type\":\"ColumnDataSource\",\"attributes\":{\"data\":{\"y\":[1.6706166267395,1.752436041832,1.5862859487534,1.7574535608292,1.8112481832504,1.766205072403,1.5515402555466,1.7500401735306,1.7452105283737,1.8042615652084,1.713995218277,1.6578211784363,1.7191684246063,1.7050431966782,1.7049162387848,1.751002907753,1.6186228990555,1.6414033174515,1.8177855014801,1.574590086937,1.6407871246338,1.6823899745941,1.8645980358124,1.6542139053345,1.5481635332108,1.2685222625732,1.3570922613144,1.279710650444,1.3274887800217,1.1374524831772,1.0150858163834,1.0616768598557,1.1603579521179,1.1138107776642,1.1445434093475,1.186336517334,1.0705052614212,1.1393747329712,1.0491153001785,1.1292476654053,0.93451189994812,1.0703613758087,0.98856538534164,1.0743129253387,0.84141135215759,0.93690091371536,1.0471450090408,0.9147190451622,0.93959331512451,0.88730275630951,0.93852978944778,0.88966619968414,0.67430794239044,0.80248993635178,0.60020297765732,0.66834026575089,0.7265197634697,0.64047181606293,0.66906034946442,0.81460124254227,0.73439860343933,0.85186356306076,0.7553186416626,0.69328147172928,0.68045055866241,0.77418172359467,0.58302700519562,0.79837721586227,0.59847974777222,0.51310467720032,0.69523346424103,0.73569619655609,0.5202334523201,0.55304491519928,0.3598960340023,0.50110083818436,0.36268627643585,0.4334269464016,0.42265391349792,0.39694410562515,0.39360025525093,0.2905461192131,0.36330249905586,0.5408421754837,0.47034853696823,0.23312464356422,0.39107170701027,0.53376203775406,0.32575291395187,0.40570506453514,0.35074496269226,0.26603934168816,0.31986287236214,0.45420488715172,0.38182044029236,0.47450217604637,0.44798496365547,0.42113783955574,0.32381054759026,0.2679568529129,0.17221048474312,0.17489285767078,0.19315832853317,0.28052204847336,0.40733897686005,0.41935628652573,0.36949178576469,0.26736479997635,0.30357441306114,0.29446360468864,0.14409257471561,0.2519117295742,0.26263511180878,0.22583335638046,0.2639462351799,0.19640657305717,0.21549753844738,0.23013299703598,0.22787664830685,0.2755614221096,0.23436617851257,0.20507562160492,0.2068645209074,0.27442944049835,0.18559734523296,0.19799706339836,0.17553249001503,0.078368775546551,0.1902974396944,0.17432987689972,0.15388366580009,0.14459605515003,0.14192754030228,0.18047934770584,0.11629081517458,0.12542541325092,0.15641342103481,0.17663918435574,0.16608878970146,0.063480190932751,0.16040018200874,0.19731704890728,0.08482014387846,0.15421767532825,0.18324498832226,0.086855381727219,0.19451509416103,0.19370122253895,0.1296930462122,0.13808277249336,0.15259791910648,0.088767789304256,0.17594188451767,0.11324019730091,0.12791986763477,0.13743433356285,0.11461114883423,0.18086515367031,0.12213561683893,0.14888074994087,0.11360093206167,0.06589649617672,0.18589280545712,0.12962225079536,0.056983180344105,0.068368852138519,0.1122552677989,0.080712743103504,0.051465012133121,0.071196518838406,0.12518936395645,0.1354189068079,0.076098740100861,0.12729892134666,0.096843004226685,0.075168929994106,0.099479533731937,0.054057519882917,0.12476231902838,0.12289100140333,0.18032793700695,0.07327813655138,0.11219541728497,0.082107402384281,0.10521657019854,0.13090407848358,0.097560495138168,0.093987420201302,0.026458406820893,0.082662500441074,0.18907390534878,0.19320899248123,0.10098993033171,0.076397255063057,0.076525330543518,0.090448394417763,0.094835586845875,0.11851573735476,0.094767481088638,0.078231409192085],\"x\":[1,2,3,4,5,6,7,8,9,10,11,12,13,14,15,16,17,18,19,20,21,22,23,24,25,26,27,28,29,30,31,32,33,34,35,36,37,38,39,40,41,42,43,44,45,46,47,48,49,50,51,52,53,54,55,56,57,58,59,60,61,62,63,64,65,66,67,68,69,70,71,72,73,74,75,76,77,78,79,80,81,82,83,84,85,86,87,88,89,90,91,92,93,94,95,96,97,98,99,100,101,102,103,104,105,106,107,108,109,110,111,112,113,114,115,116,117,118,119,120,121,122,123,124,125,126,127,128,129,130,131,132,133,134,135,136,137,138,139,140,141,142,143,144,145,146,147,148,149,150,151,152,153,154,155,156,157,158,159,160,161,162,163,164,165,166,167,168,169,170,171,172,173,174,175,176,177,178,179,180,181,182,183,184,185,186,187,188,189,190,191,192,193,194,195,196,197,198,199,200]},\"column_names\":[\"y\",\"x\"],\"cont_ranges\":{},\"discrete_ranges\":{},\"selected\":[],\"id\":\"22748664-18c5-491a-c983-aa6519a2cf3d\",\"doc\":null,\"tags\":[]}},{\"id\":\"dfc5d210-21c2-4941-c9e8-e315d3e43f11\",\"type\":\"Line\",\"attributes\":{\"fill_alpha\":{\"units\":\"data\",\"value\":0.2},\"line_alpha\":{\"units\":\"data\",\"value\":1},\"doc\":null,\"size\":{\"units\":\"screen\",\"value\":10},\"fill_color\":{\"value\":\"blue\"},\"line_color\":{\"value\":\"blue\"},\"x\":{\"units\":\"data\",\"field\":\"x\"},\"id\":\"dfc5d210-21c2-4941-c9e8-e315d3e43f11\",\"y\":{\"units\":\"data\",\"field\":\"y\"},\"tags\":[]}},{\"id\":\"dbcc3eaa-b727-47b6-c720-42663355dce0\",\"type\":\"Line\",\"attributes\":{\"fill_alpha\":{\"units\":\"data\",\"value\":0.2},\"line_alpha\":{\"units\":\"data\",\"value\":1},\"doc\":null,\"size\":{\"units\":\"screen\",\"value\":10},\"fill_color\":{\"value\":\"blue\"},\"line_color\":{\"value\":\"blue\"},\"x\":{\"units\":\"data\",\"field\":\"x\"},\"id\":\"dbcc3eaa-b727-47b6-c720-42663355dce0\",\"y\":{\"units\":\"data\",\"field\":\"y\"},\"tags\":[]}},{\"id\":\"5009ef23-82c9-4a61-ca83-74682f17fda2\",\"type\":\"GlyphRenderer\",\"attributes\":{\"name\":null,\"nonselection_glyph\":{\"type\":\"Line\",\"id\":\"dbcc3eaa-b727-47b6-c720-42663355dce0\"},\"doc\":null,\"server_data_source\":null,\"data_source\":{\"type\":\"ColumnDataSource\",\"id\":\"22748664-18c5-491a-c983-aa6519a2cf3d\"},\"glyph\":{\"type\":\"Line\",\"id\":\"dfc5d210-21c2-4941-c9e8-e315d3e43f11\"},\"selection_glyph\":null,\"id\":\"5009ef23-82c9-4a61-ca83-74682f17fda2\",\"tags\":[]}},{\"id\":\"cb31dc76-94d6-465b-c6f7-be2f9280a00e\",\"type\":\"DataRange1d\",\"attributes\":{\"sources\":[{\"columns\":[\"x\"],\"source\":{\"type\":\"ColumnDataSource\",\"id\":\"22748664-18c5-491a-c983-aa6519a2cf3d\"}}],\"id\":\"cb31dc76-94d6-465b-c6f7-be2f9280a00e\",\"tags\":[],\"doc\":null}},{\"id\":\"2ce6d563-645b-437e-c3e5-955c0880629e\",\"type\":\"DataRange1d\",\"attributes\":{\"sources\":[{\"columns\":[\"y\"],\"source\":{\"type\":\"ColumnDataSource\",\"id\":\"22748664-18c5-491a-c983-aa6519a2cf3d\"}}],\"id\":\"2ce6d563-645b-437e-c3e5-955c0880629e\",\"tags\":[],\"doc\":null}},{\"id\":\"ae9bdc2a-8636-481f-c89f-c93e65dd2be2\",\"type\":\"ToolEvents\",\"attributes\":{\"tags\":[],\"id\":\"ae9bdc2a-8636-481f-c89f-c93e65dd2be2\",\"geometries\":[],\"doc\":null}},{\"id\":\"6ea307e2-93aa-4cdd-cc53-0fe234bdd645\",\"type\":\"BasicTickFormatter\",\"attributes\":{\"id\":\"6ea307e2-93aa-4cdd-cc53-0fe234bdd645\",\"tags\":[],\"doc\":null}},{\"id\":\"16ca4d4e-69df-4fa1-cf2a-9b4b1287e209\",\"type\":\"BasicTicker\",\"attributes\":{\"num_minor_ticks\":5,\"id\":\"16ca4d4e-69df-4fa1-cf2a-9b4b1287e209\",\"tags\":[],\"doc\":null}},{\"id\":\"bc15cc70-ce9e-41f7-c15e-cf43818825f6\",\"type\":\"LinearAxis\",\"attributes\":{\"formatter\":{\"type\":\"BasicTickFormatter\",\"id\":\"6ea307e2-93aa-4cdd-cc53-0fe234bdd645\"},\"ticker\":{\"type\":\"BasicTicker\",\"id\":\"16ca4d4e-69df-4fa1-cf2a-9b4b1287e209\"},\"plot\":{\"id\":\"50ab886e-2ffc-4562-c531-022fe52b2fa8\",\"type\":\"Plot\",\"subtype\":\"Figure\"},\"axis_label\":null,\"id\":\"bc15cc70-ce9e-41f7-c15e-cf43818825f6\",\"doc\":null,\"tags\":[]}},{\"id\":\"f58a716c-0919-4ed1-ce81-4532f5591c71\",\"type\":\"Grid\",\"attributes\":{\"dimension\":0,\"plot\":{\"id\":\"50ab886e-2ffc-4562-c531-022fe52b2fa8\",\"type\":\"Plot\",\"subtype\":\"Figure\"},\"ticker\":{\"type\":\"BasicTicker\",\"id\":\"16ca4d4e-69df-4fa1-cf2a-9b4b1287e209\"},\"id\":\"f58a716c-0919-4ed1-ce81-4532f5591c71\",\"doc\":null,\"tags\":[]}},{\"id\":\"7d0e3034-00f9-433f-c303-8ee9f15f43eb\",\"type\":\"BasicTickFormatter\",\"attributes\":{\"id\":\"7d0e3034-00f9-433f-c303-8ee9f15f43eb\",\"tags\":[],\"doc\":null}},{\"id\":\"3f6751a2-733b-4934-c931-1d1d86374e94\",\"type\":\"BasicTicker\",\"attributes\":{\"num_minor_ticks\":5,\"id\":\"3f6751a2-733b-4934-c931-1d1d86374e94\",\"tags\":[],\"doc\":null}},{\"id\":\"916b9db1-7745-489e-c89f-1f690cc20823\",\"type\":\"LinearAxis\",\"attributes\":{\"formatter\":{\"type\":\"BasicTickFormatter\",\"id\":\"7d0e3034-00f9-433f-c303-8ee9f15f43eb\"},\"ticker\":{\"type\":\"BasicTicker\",\"id\":\"3f6751a2-733b-4934-c931-1d1d86374e94\"},\"plot\":{\"id\":\"50ab886e-2ffc-4562-c531-022fe52b2fa8\",\"type\":\"Plot\",\"subtype\":\"Figure\"},\"axis_label\":null,\"id\":\"916b9db1-7745-489e-c89f-1f690cc20823\",\"doc\":null,\"tags\":[]}},{\"id\":\"1abaa17f-bd72-4876-c83c-1f031df8990d\",\"type\":\"Grid\",\"attributes\":{\"dimension\":1,\"plot\":{\"id\":\"50ab886e-2ffc-4562-c531-022fe52b2fa8\",\"type\":\"Plot\",\"subtype\":\"Figure\"},\"ticker\":{\"type\":\"BasicTicker\",\"id\":\"3f6751a2-733b-4934-c931-1d1d86374e94\"},\"id\":\"1abaa17f-bd72-4876-c83c-1f031df8990d\",\"doc\":null,\"tags\":[]}},{\"id\":\"6b9474d1-8d60-4850-c806-e7a23f5fff7f\",\"type\":\"PanTool\",\"attributes\":{\"plot\":{\"id\":\"50ab886e-2ffc-4562-c531-022fe52b2fa8\",\"type\":\"Plot\",\"subtype\":\"Figure\"},\"dimensions\":[\"width\",\"height\"],\"id\":\"6b9474d1-8d60-4850-c806-e7a23f5fff7f\",\"doc\":null,\"tags\":[]}},{\"id\":\"a49f8f88-172c-43fc-c36e-1e4be944b303\",\"type\":\"WheelZoomTool\",\"attributes\":{\"plot\":{\"id\":\"50ab886e-2ffc-4562-c531-022fe52b2fa8\",\"type\":\"Plot\",\"subtype\":\"Figure\"},\"dimensions\":[\"width\",\"height\"],\"id\":\"a49f8f88-172c-43fc-c36e-1e4be944b303\",\"doc\":null,\"tags\":[]}},{\"id\":\"4c92973d-d7fe-41e5-c1dd-b80d028b6905\",\"type\":\"BoxZoomTool\",\"attributes\":{\"plot\":{\"id\":\"50ab886e-2ffc-4562-c531-022fe52b2fa8\",\"type\":\"Plot\",\"subtype\":\"Figure\"},\"id\":\"4c92973d-d7fe-41e5-c1dd-b80d028b6905\",\"tags\":[],\"doc\":null}},{\"id\":\"c1b533d8-3c18-4cdd-cc47-403647fe1018\",\"type\":\"PreviewSaveTool\",\"attributes\":{\"plot\":{\"id\":\"50ab886e-2ffc-4562-c531-022fe52b2fa8\",\"type\":\"Plot\",\"subtype\":\"Figure\"},\"id\":\"c1b533d8-3c18-4cdd-cc47-403647fe1018\",\"tags\":[],\"doc\":null}},{\"id\":\"f7004df0-ddf7-4d03-cdb8-4fa1de6e3bcf\",\"type\":\"ResizeTool\",\"attributes\":{\"plot\":{\"id\":\"50ab886e-2ffc-4562-c531-022fe52b2fa8\",\"type\":\"Plot\",\"subtype\":\"Figure\"},\"id\":\"f7004df0-ddf7-4d03-cdb8-4fa1de6e3bcf\",\"tags\":[],\"doc\":null}},{\"id\":\"fc73a7e6-7404-4f02-cf0e-21bbb4c021ef\",\"type\":\"ResetTool\",\"attributes\":{\"plot\":{\"id\":\"50ab886e-2ffc-4562-c531-022fe52b2fa8\",\"type\":\"Plot\",\"subtype\":\"Figure\"},\"id\":\"fc73a7e6-7404-4f02-cf0e-21bbb4c021ef\",\"tags\":[],\"doc\":null}},{\"id\":\"3341b4ae-cbb7-4b06-cb09-af6b68284b67\",\"type\":\"Legend\",\"attributes\":{\"plot\":{\"id\":\"50ab886e-2ffc-4562-c531-022fe52b2fa8\",\"type\":\"Plot\",\"subtype\":\"Figure\"},\"legends\":[[\"loss\",[{\"type\":\"GlyphRenderer\",\"id\":\"5009ef23-82c9-4a61-ca83-74682f17fda2\"}]]],\"id\":\"3341b4ae-cbb7-4b06-cb09-af6b68284b67\",\"doc\":null,\"tags\":[]}},{\"id\":\"50ab886e-2ffc-4562-c531-022fe52b2fa8\",\"type\":\"Plot\",\"attributes\":{\"x_range\":{\"type\":\"DataRange1d\",\"id\":\"cb31dc76-94d6-465b-c6f7-be2f9280a00e\"},\"tool_events\":{\"type\":\"ToolEvents\",\"id\":\"ae9bdc2a-8636-481f-c89f-c93e65dd2be2\"},\"below\":[{\"type\":\"LinearAxis\",\"id\":\"bc15cc70-ce9e-41f7-c15e-cf43818825f6\"}],\"renderers\":[{\"type\":\"GlyphRenderer\",\"id\":\"5009ef23-82c9-4a61-ca83-74682f17fda2\"},{\"type\":\"LinearAxis\",\"id\":\"bc15cc70-ce9e-41f7-c15e-cf43818825f6\"},{\"type\":\"Grid\",\"id\":\"f58a716c-0919-4ed1-ce81-4532f5591c71\"},{\"type\":\"LinearAxis\",\"id\":\"916b9db1-7745-489e-c89f-1f690cc20823\"},{\"type\":\"Grid\",\"id\":\"1abaa17f-bd72-4876-c83c-1f031df8990d\"},{\"type\":\"Legend\",\"id\":\"3341b4ae-cbb7-4b06-cb09-af6b68284b67\"}],\"above\":[],\"tools\":[{\"type\":\"PanTool\",\"id\":\"6b9474d1-8d60-4850-c806-e7a23f5fff7f\"},{\"type\":\"WheelZoomTool\",\"id\":\"a49f8f88-172c-43fc-c36e-1e4be944b303\"},{\"type\":\"BoxZoomTool\",\"id\":\"4c92973d-d7fe-41e5-c1dd-b80d028b6905\"},{\"type\":\"PreviewSaveTool\",\"id\":\"c1b533d8-3c18-4cdd-cc47-403647fe1018\"},{\"type\":\"ResizeTool\",\"id\":\"f7004df0-ddf7-4d03-cdb8-4fa1de6e3bcf\"},{\"type\":\"ResetTool\",\"id\":\"fc73a7e6-7404-4f02-cf0e-21bbb4c021ef\"}],\"doc\":null,\"right\":[],\"title\":\"loss\",\"extra_x_ranges\":{},\"left\":[{\"type\":\"LinearAxis\",\"id\":\"916b9db1-7745-489e-c89f-1f690cc20823\"}],\"y_range\":{\"type\":\"DataRange1d\",\"id\":\"2ce6d563-645b-437e-c3e5-955c0880629e\"},\"id\":\"50ab886e-2ffc-4562-c531-022fe52b2fa8\",\"extra_y_ranges\":{},\"tags\":[]}}];\n",
        "      Bokeh.load_models(all_models);\n",
        "      var model = Bokeh.Collections(modeltype).get(modelid);\n",
        "      $(\"#4790005a-184c-44cd-c430-d44d8e4487c9\").html(''); // clear any previous plot in window_id\n",
        "      var view = new model.default_view({model: model, el: \"#4790005a-184c-44cd-c430-d44d8e4487c9\"});\n",
        "  });\n",
        "    }\n",
        "});\n",
        "</script>\n",
        "<div class=\"plotdiv\" id=\"4790005a-184c-44cd-c430-d44d8e4487c9\"></div>\n"
       ],
       "metadata": {},
       "output_type": "display_data"
      }
     ],
     "prompt_number": 8
    },
    {
     "cell_type": "heading",
     "level": 3,
     "metadata": {},
     "source": [
      "Speichere trainiertes CNN Modell"
     ]
    },
    {
     "cell_type": "code",
     "collapsed": false,
     "input": [
      "torch.save('cnn_dropout_50k_200ep.t7', model)\n"
     ],
     "language": "python",
     "metadata": {},
     "outputs": [
      {
       "metadata": {},
       "output_type": "pyout",
       "prompt_number": 9,
       "text": [
        "\n"
       ]
      }
     ],
     "prompt_number": 9
    },
    {
     "cell_type": "code",
     "collapsed": false,
     "input": [],
     "language": "python",
     "metadata": {},
     "outputs": [
      {
       "metadata": {},
       "output_type": "pyout",
       "prompt_number": 8,
       "text": [
        "\n"
       ]
      }
     ],
     "prompt_number": 8
    },
    {
     "cell_type": "code",
     "collapsed": false,
     "input": [],
     "language": "python",
     "metadata": {},
     "outputs": [
      {
       "html": [
        "<script type=\"text/javascript\">\n",
        "$(function() {\n",
        "    if (typeof (window._bokeh_onload_callbacks) === \"undefined\"){\n",
        "  window._bokeh_onload_callbacks = [];\n",
        "    }\n",
        "    function load_lib(url, callback){\n",
        "  window._bokeh_onload_callbacks.push(callback);\n",
        "  if (window._bokeh_is_loading){\n",
        "      console.log(\"Bokeh: BokehJS is being loaded, scheduling callback at\", new Date());\n",
        "      return null;\n",
        "  }\n",
        "  console.log(\"Bokeh: BokehJS not loaded, scheduling load and callback at\", new Date());\n",
        "  window._bokeh_is_loading = true;\n",
        "  var s = document.createElement('script');\n",
        "  s.src = url;\n",
        "  s.async = true;\n",
        "  s.onreadystatechange = s.onload = function(){\n",
        "      Bokeh.embed.inject_css(\"https://cdn.pydata.org/bokeh-0.7.0.min.css\");\n",
        "      window._bokeh_onload_callbacks.forEach(function(callback){callback()});\n",
        "  };\n",
        "  s.onerror = function(){\n",
        "      console.warn(\"failed to load library \" + url);\n",
        "  };\n",
        "  document.getElementsByTagName(\"head\")[0].appendChild(s);\n",
        "    }\n",
        "\n",
        "    bokehjs_url = \"https://cdn.pydata.org/bokeh-0.7.0.min.js\"\n",
        "\n",
        "    var elt = document.getElementById(\"e68dd2f2-4c55-43bc-c3ec-3046d30a1d3d\");\n",
        "    if(elt==null) {\n",
        "  console.log(\"Bokeh: ERROR: autoload.js configured with elementid 'e68dd2f2-4c55-43bc-c3ec-3046d30a1d3d'\"\n",
        "        + \"but no matching script tag was found. \")\n",
        "  return false;\n",
        "    }\n",
        "\n",
        "    if(typeof(Bokeh) !== \"undefined\") {\n",
        "  console.log(\"Bokeh: BokehJS loaded, going straight to plotting\");\n",
        "  var modelid = \"44b249a6-fcd5-4c74-ccb1-3919a6a77a5f\";\n",
        "  var modeltype = \"Plot\";\n",
        "  var all_models = [{\"id\":\"75199706-a52d-4516-c5f7-54e4115e9848\",\"type\":\"ColumnDataSource\",\"attributes\":{\"data\":{\"y\":[1,2,3,4,5,6,7,8,9,10,11,12,13,14,15,16,17,18,19,20,21,22,23,24,25,26,27,28,29,30,31,32,33,34,35,36,37,38,39,40,41,42,43,44,45,46,47,48,49,50,51,52,53,54,55,56,57,58,59,60,61,62,63,64,65,66,67,68,69,70,71,72,73,74,75,76,77,78,79,80,81,82,83,84,85,86,87,88,89,90,91,92,93,94,95,96,97,98,99,100,101,102,103,104,105,106,107,108,109,110,111,112,113,114,115,116,117,118,119,120,121,122,123,124,125,126,127,128,129,130,131,132,133,134,135,136,137,138,139,140,141,142,143,144,145,146,147,148,149,150,151,152,153,154,155,156,157,158,159,160,161,162,163,164,165,166,167,168,169,170,171,172,173,174,175,176,177,178,179,180,181,182,183,184,185,186,187,188,189,190,191,192,193,194,195,196,197,198,199,200],\"x\":[1.9684684276581,1.9119029045105,1.8416432142258,1.7567150592804,1.7305601835251,1.7275252342224,1.7460207939148,1.6203664541245,1.5414878129959,1.7973185777664,1.8272477388382,1.7023108005524,1.6383429765701,1.6319018602371,1.6745923757553,1.5610058307648,1.653586268425,1.4512596130371,1.8061612844467,1.7537567615509,1.597704410553,1.7481932640076,1.6353850364685,1.6195542812347,1.4585820436478,1.4201942682266,1.348868727684,1.2827876806259,1.405669927597,1.1311610937119,1.409808754921,1.3086271286011,1.3951137065887,1.0854088068008,1.1147471666336,1.2004103660583,1.2602707147598,1.123627781868,1.2794317007065,1.2457618713379,1.0046608448029,1.1252590417862,1.1688487529755,1.3190945386887,1.1655427217484,1.2214834690094,1.2454963922501,0.93344885110855,1.0014879703522,1.0620020627975,0.94771897792816,0.76621943712234,0.95191317796707,0.7316734790802,0.81714308261871,0.68909949064255,0.85795766115189,0.78942632675171,0.83938372135162,0.69255834817886,0.77081251144409,0.57239907979965,0.82541465759277,0.91936218738556,0.68676126003265,0.75918883085251,0.67891800403595,0.69212514162064,0.81617444753647,0.76829093694687,0.64897269010544,0.61165070533752,0.6595818400383,0.54874837398529,0.46244046092033,0.49095952510834,0.41336771845818,0.37813347578049,0.49296709895134,0.63767147064209,0.47133168578148,0.44750347733498,0.43806767463684,0.38042733073235,0.45116975903511,0.38044187426567,0.34080347418785,0.52863442897797,0.37418907880783,0.25404852628708,0.3549947142601,0.40267834067345,0.29694625735283,0.49363914132118,0.27545738220215,0.32142922282219,0.24209861457348,0.38943430781364,0.30238822102547,0.258524954319,0.24761836230755,0.31161221861839,0.27435365319252,0.27539816498756,0.13056896626949,0.18559055030346,0.1730730086565,0.14201180636883,0.17725540697575,0.22463496029377,0.11183955520391,0.26139423251152,0.27574497461319,0.25630855560303,0.21628834307194,0.071723490953445,0.1387155354023,0.2263735383749,0.083346568048,0.20132912695408,0.29580980539322,0.22903418540955,0.12855660915375,0.15988244116306,0.14813438057899,0.13702183961868,0.14906440675259,0.059623960405588,0.24088671803474,0.13962011039257,0.1329759657383,0.15154582262039,0.066308923065662,0.21490314602852,0.16056622564793,0.081804782152176,0.082638747990131,0.13805064558983,0.20766258239746,0.078849315643311,0.050067901611328,0.15583723783493,0.098979733884335,0.18652738630772,0.2176228761673,0.14480209350586,0.1230890005827,0.10549428313971,0.098503664135933,0.1998094022274,0.12393537908792,0.060412168502808,0.053185913711786,0.18609291315079,0.10035518556833,0.10928721725941,0.13597640395164,0.10394007712603,0.13139696419239,0.083399541676044,0.17093446850777,0.092032238841057,0.10295420885086,0.084913700819016,0.058243963867426,0.095966920256615,0.082871526479721,0.097589008510113,0.10413366556168,0.10695445537567,0.081248559057713,0.055586446076632,0.077412471175194,0.059720035642385,0.06063487380743,0.10039932280779,0.069558881223202,0.087462373077869,0.078851595520973,0.15545970201492,0.11631844192743,0.16736328601837,0.18609918653965,0.0887291431427,0.065416097640991,0.044161982834339,0.071547508239746,0.077957034111023,0.10518495738506,0.10687681287527,0.09567791223526,0.045334540307522,0.035911023616791,0.10172542929649,0.062908194959164,0.017119962722063,0.05456966906786,0.079002924263477,0.10749542713165,0.11236767470837]},\"column_names\":[\"y\",\"x\"],\"cont_ranges\":{},\"discrete_ranges\":{},\"selected\":[],\"id\":\"75199706-a52d-4516-c5f7-54e4115e9848\",\"doc\":null,\"tags\":[]}},{\"id\":\"afccc572-0606-4a01-ca54-48040d1cac2b\",\"type\":\"Line\",\"attributes\":{\"fill_alpha\":{\"units\":\"data\",\"value\":0.2},\"line_alpha\":{\"units\":\"data\",\"value\":1},\"doc\":null,\"size\":{\"units\":\"screen\",\"value\":10},\"fill_color\":{\"value\":\"blue\"},\"line_color\":{\"value\":\"blue\"},\"x\":{\"units\":\"data\",\"field\":\"x\"},\"id\":\"afccc572-0606-4a01-ca54-48040d1cac2b\",\"y\":{\"units\":\"data\",\"field\":\"y\"},\"tags\":[]}},{\"id\":\"f628153a-8fa6-4fd5-cf38-4565111b3631\",\"type\":\"Line\",\"attributes\":{\"fill_alpha\":{\"units\":\"data\",\"value\":0.2},\"line_alpha\":{\"units\":\"data\",\"value\":1},\"doc\":null,\"size\":{\"units\":\"screen\",\"value\":10},\"fill_color\":{\"value\":\"blue\"},\"line_color\":{\"value\":\"blue\"},\"x\":{\"units\":\"data\",\"field\":\"x\"},\"id\":\"f628153a-8fa6-4fd5-cf38-4565111b3631\",\"y\":{\"units\":\"data\",\"field\":\"y\"},\"tags\":[]}},{\"id\":\"31734463-131c-4fc2-cfa9-c2afd07301f6\",\"type\":\"GlyphRenderer\",\"attributes\":{\"name\":null,\"nonselection_glyph\":{\"type\":\"Line\",\"id\":\"f628153a-8fa6-4fd5-cf38-4565111b3631\"},\"doc\":null,\"server_data_source\":null,\"data_source\":{\"type\":\"ColumnDataSource\",\"id\":\"75199706-a52d-4516-c5f7-54e4115e9848\"},\"glyph\":{\"type\":\"Line\",\"id\":\"afccc572-0606-4a01-ca54-48040d1cac2b\"},\"selection_glyph\":null,\"id\":\"31734463-131c-4fc2-cfa9-c2afd07301f6\",\"tags\":[]}},{\"id\":\"d1e6ecec-50b9-4cc6-cc61-2ae76c6408fd\",\"type\":\"ColumnDataSource\",\"attributes\":{\"data\":{\"y\":[1,2,3,4,5,6,7,8,9,10,11,12,13,14,15,16,17,18,19,20,21,22,23,24,25,26,27,28,29,30,31,32,33,34,35,36,37,38,39,40,41,42,43,44,45,46,47,48,49,50,51,52,53,54,55,56,57,58,59,60,61,62,63,64,65,66,67,68,69,70,71,72,73,74,75,76,77,78,79,80,81,82,83,84,85,86,87,88,89,90,91,92,93,94,95,96,97,98,99,100,101,102,103,104,105,106,107,108,109,110,111,112,113,114,115,116,117,118,119,120,121,122,123,124,125,126,127,128,129,130,131,132,133,134,135,136,137,138,139,140,141,142,143,144,145,146,147,148,149,150,151,152,153,154,155,156,157,158,159,160,161,162,163,164,165,166,167,168,169,170,171,172,173,174,175,176,177,178,179,180,181,182,183,184,185,186,187,188,189,190,191,192,193,194,195,196,197,198,199,200],\"x\":[1.9684684276581,1.9119029045105,1.8416432142258,1.7567150592804,1.7305601835251,1.7275252342224,1.7460207939148,1.6203664541245,1.5414878129959,1.7973185777664,1.8272477388382,1.7023108005524,1.6383429765701,1.6319018602371,1.6745923757553,1.5610058307648,1.653586268425,1.4512596130371,1.8061612844467,1.7537567615509,1.597704410553,1.7481932640076,1.6353850364685,1.6195542812347,1.4585820436478,1.4201942682266,1.348868727684,1.2827876806259,1.405669927597,1.1311610937119,1.409808754921,1.3086271286011,1.3951137065887,1.0854088068008,1.1147471666336,1.2004103660583,1.2602707147598,1.123627781868,1.2794317007065,1.2457618713379,1.0046608448029,1.1252590417862,1.1688487529755,1.3190945386887,1.1655427217484,1.2214834690094,1.2454963922501,0.93344885110855,1.0014879703522,1.0620020627975,0.94771897792816,0.76621943712234,0.95191317796707,0.7316734790802,0.81714308261871,0.68909949064255,0.85795766115189,0.78942632675171,0.83938372135162,0.69255834817886,0.77081251144409,0.57239907979965,0.82541465759277,0.91936218738556,0.68676126003265,0.75918883085251,0.67891800403595,0.69212514162064,0.81617444753647,0.76829093694687,0.64897269010544,0.61165070533752,0.6595818400383,0.54874837398529,0.46244046092033,0.49095952510834,0.41336771845818,0.37813347578049,0.49296709895134,0.63767147064209,0.47133168578148,0.44750347733498,0.43806767463684,0.38042733073235,0.45116975903511,0.38044187426567,0.34080347418785,0.52863442897797,0.37418907880783,0.25404852628708,0.3549947142601,0.40267834067345,0.29694625735283,0.49363914132118,0.27545738220215,0.32142922282219,0.24209861457348,0.38943430781364,0.30238822102547,0.258524954319,0.24761836230755,0.31161221861839,0.27435365319252,0.27539816498756,0.13056896626949,0.18559055030346,0.1730730086565,0.14201180636883,0.17725540697575,0.22463496029377,0.11183955520391,0.26139423251152,0.27574497461319,0.25630855560303,0.21628834307194,0.071723490953445,0.1387155354023,0.2263735383749,0.083346568048,0.20132912695408,0.29580980539322,0.22903418540955,0.12855660915375,0.15988244116306,0.14813438057899,0.13702183961868,0.14906440675259,0.059623960405588,0.24088671803474,0.13962011039257,0.1329759657383,0.15154582262039,0.066308923065662,0.21490314602852,0.16056622564793,0.081804782152176,0.082638747990131,0.13805064558983,0.20766258239746,0.078849315643311,0.050067901611328,0.15583723783493,0.098979733884335,0.18652738630772,0.2176228761673,0.14480209350586,0.1230890005827,0.10549428313971,0.098503664135933,0.1998094022274,0.12393537908792,0.060412168502808,0.053185913711786,0.18609291315079,0.10035518556833,0.10928721725941,0.13597640395164,0.10394007712603,0.13139696419239,0.083399541676044,0.17093446850777,0.092032238841057,0.10295420885086,0.084913700819016,0.058243963867426,0.095966920256615,0.082871526479721,0.097589008510113,0.10413366556168,0.10695445537567,0.081248559057713,0.055586446076632,0.077412471175194,0.059720035642385,0.06063487380743,0.10039932280779,0.069558881223202,0.087462373077869,0.078851595520973,0.15545970201492,0.11631844192743,0.16736328601837,0.18609918653965,0.0887291431427,0.065416097640991,0.044161982834339,0.071547508239746,0.077957034111023,0.10518495738506,0.10687681287527,0.09567791223526,0.045334540307522,0.035911023616791,0.10172542929649,0.062908194959164,0.017119962722063,0.05456966906786,0.079002924263477,0.10749542713165,0.11236767470837]},\"column_names\":[\"y\",\"x\"],\"cont_ranges\":{},\"discrete_ranges\":{},\"selected\":[],\"id\":\"d1e6ecec-50b9-4cc6-cc61-2ae76c6408fd\",\"doc\":null,\"tags\":[]}},{\"id\":\"c408be76-7a6b-4d6b-cdad-6fa70d34a758\",\"type\":\"Line\",\"attributes\":{\"fill_alpha\":{\"units\":\"data\",\"value\":0.2},\"line_alpha\":{\"units\":\"data\",\"value\":1},\"doc\":null,\"size\":{\"units\":\"screen\",\"value\":10},\"fill_color\":{\"value\":\"blue\"},\"line_color\":{\"value\":\"blue\"},\"x\":{\"units\":\"data\",\"field\":\"x\"},\"id\":\"c408be76-7a6b-4d6b-cdad-6fa70d34a758\",\"y\":{\"units\":\"data\",\"field\":\"y\"},\"tags\":[]}},{\"id\":\"c23fb708-f889-4221-c2ca-4e2732e1094c\",\"type\":\"Line\",\"attributes\":{\"fill_alpha\":{\"units\":\"data\",\"value\":0.2},\"line_alpha\":{\"units\":\"data\",\"value\":1},\"doc\":null,\"size\":{\"units\":\"screen\",\"value\":10},\"fill_color\":{\"value\":\"blue\"},\"line_color\":{\"value\":\"blue\"},\"x\":{\"units\":\"data\",\"field\":\"x\"},\"id\":\"c23fb708-f889-4221-c2ca-4e2732e1094c\",\"y\":{\"units\":\"data\",\"field\":\"y\"},\"tags\":[]}},{\"id\":\"7c269d03-98c3-4771-c72a-d50340aefa8d\",\"type\":\"GlyphRenderer\",\"attributes\":{\"name\":null,\"nonselection_glyph\":{\"type\":\"Line\",\"id\":\"c23fb708-f889-4221-c2ca-4e2732e1094c\"},\"doc\":null,\"server_data_source\":null,\"data_source\":{\"type\":\"ColumnDataSource\",\"id\":\"d1e6ecec-50b9-4cc6-cc61-2ae76c6408fd\"},\"glyph\":{\"type\":\"Line\",\"id\":\"c408be76-7a6b-4d6b-cdad-6fa70d34a758\"},\"selection_glyph\":null,\"id\":\"7c269d03-98c3-4771-c72a-d50340aefa8d\",\"tags\":[]}},{\"id\":\"3fd18432-8ab0-46fb-c64b-f5395079e4a9\",\"type\":\"ColumnDataSource\",\"attributes\":{\"data\":{\"y\":[1.9684684276581,1.9119029045105,1.8416432142258,1.7567150592804,1.7305601835251,1.7275252342224,1.7460207939148,1.6203664541245,1.5414878129959,1.7973185777664,1.8272477388382,1.7023108005524,1.6383429765701,1.6319018602371,1.6745923757553,1.5610058307648,1.653586268425,1.4512596130371,1.8061612844467,1.7537567615509,1.597704410553,1.7481932640076,1.6353850364685,1.6195542812347,1.4585820436478,1.4201942682266,1.348868727684,1.2827876806259,1.405669927597,1.1311610937119,1.409808754921,1.3086271286011,1.3951137065887,1.0854088068008,1.1147471666336,1.2004103660583,1.2602707147598,1.123627781868,1.2794317007065,1.2457618713379,1.0046608448029,1.1252590417862,1.1688487529755,1.3190945386887,1.1655427217484,1.2214834690094,1.2454963922501,0.93344885110855,1.0014879703522,1.0620020627975,0.94771897792816,0.76621943712234,0.95191317796707,0.7316734790802,0.81714308261871,0.68909949064255,0.85795766115189,0.78942632675171,0.83938372135162,0.69255834817886,0.77081251144409,0.57239907979965,0.82541465759277,0.91936218738556,0.68676126003265,0.75918883085251,0.67891800403595,0.69212514162064,0.81617444753647,0.76829093694687,0.64897269010544,0.61165070533752,0.6595818400383,0.54874837398529,0.46244046092033,0.49095952510834,0.41336771845818,0.37813347578049,0.49296709895134,0.63767147064209,0.47133168578148,0.44750347733498,0.43806767463684,0.38042733073235,0.45116975903511,0.38044187426567,0.34080347418785,0.52863442897797,0.37418907880783,0.25404852628708,0.3549947142601,0.40267834067345,0.29694625735283,0.49363914132118,0.27545738220215,0.32142922282219,0.24209861457348,0.38943430781364,0.30238822102547,0.258524954319,0.24761836230755,0.31161221861839,0.27435365319252,0.27539816498756,0.13056896626949,0.18559055030346,0.1730730086565,0.14201180636883,0.17725540697575,0.22463496029377,0.11183955520391,0.26139423251152,0.27574497461319,0.25630855560303,0.21628834307194,0.071723490953445,0.1387155354023,0.2263735383749,0.083346568048,0.20132912695408,0.29580980539322,0.22903418540955,0.12855660915375,0.15988244116306,0.14813438057899,0.13702183961868,0.14906440675259,0.059623960405588,0.24088671803474,0.13962011039257,0.1329759657383,0.15154582262039,0.066308923065662,0.21490314602852,0.16056622564793,0.081804782152176,0.082638747990131,0.13805064558983,0.20766258239746,0.078849315643311,0.050067901611328,0.15583723783493,0.098979733884335,0.18652738630772,0.2176228761673,0.14480209350586,0.1230890005827,0.10549428313971,0.098503664135933,0.1998094022274,0.12393537908792,0.060412168502808,0.053185913711786,0.18609291315079,0.10035518556833,0.10928721725941,0.13597640395164,0.10394007712603,0.13139696419239,0.083399541676044,0.17093446850777,0.092032238841057,0.10295420885086,0.084913700819016,0.058243963867426,0.095966920256615,0.082871526479721,0.097589008510113,0.10413366556168,0.10695445537567,0.081248559057713,0.055586446076632,0.077412471175194,0.059720035642385,0.06063487380743,0.10039932280779,0.069558881223202,0.087462373077869,0.078851595520973,0.15545970201492,0.11631844192743,0.16736328601837,0.18609918653965,0.0887291431427,0.065416097640991,0.044161982834339,0.071547508239746,0.077957034111023,0.10518495738506,0.10687681287527,0.09567791223526,0.045334540307522,0.035911023616791,0.10172542929649,0.062908194959164,0.017119962722063,0.05456966906786,0.079002924263477,0.10749542713165,0.11236767470837],\"x\":[1,2,3,4,5,6,7,8,9,10,11,12,13,14,15,16,17,18,19,20,21,22,23,24,25,26,27,28,29,30,31,32,33,34,35,36,37,38,39,40,41,42,43,44,45,46,47,48,49,50,51,52,53,54,55,56,57,58,59,60,61,62,63,64,65,66,67,68,69,70,71,72,73,74,75,76,77,78,79,80,81,82,83,84,85,86,87,88,89,90,91,92,93,94,95,96,97,98,99,100,101,102,103,104,105,106,107,108,109,110,111,112,113,114,115,116,117,118,119,120,121,122,123,124,125,126,127,128,129,130,131,132,133,134,135,136,137,138,139,140,141,142,143,144,145,146,147,148,149,150,151,152,153,154,155,156,157,158,159,160,161,162,163,164,165,166,167,168,169,170,171,172,173,174,175,176,177,178,179,180,181,182,183,184,185,186,187,188,189,190,191,192,193,194,195,196,197,198,199,200]},\"column_names\":[\"y\",\"x\"],\"cont_ranges\":{},\"discrete_ranges\":{},\"selected\":[],\"id\":\"3fd18432-8ab0-46fb-c64b-f5395079e4a9\",\"doc\":null,\"tags\":[]}},{\"id\":\"e4c31ebf-3ce7-456f-c57c-40013c0c7d79\",\"type\":\"Line\",\"attributes\":{\"fill_alpha\":{\"units\":\"data\",\"value\":0.2},\"line_alpha\":{\"units\":\"data\",\"value\":1},\"doc\":null,\"size\":{\"units\":\"screen\",\"value\":10},\"fill_color\":{\"value\":\"blue\"},\"line_color\":{\"value\":\"blue\"},\"x\":{\"units\":\"data\",\"field\":\"x\"},\"id\":\"e4c31ebf-3ce7-456f-c57c-40013c0c7d79\",\"y\":{\"units\":\"data\",\"field\":\"y\"},\"tags\":[]}},{\"id\":\"f4489a9c-afbf-4979-c945-f604e447f979\",\"type\":\"Line\",\"attributes\":{\"fill_alpha\":{\"units\":\"data\",\"value\":0.2},\"line_alpha\":{\"units\":\"data\",\"value\":1},\"doc\":null,\"size\":{\"units\":\"screen\",\"value\":10},\"fill_color\":{\"value\":\"blue\"},\"line_color\":{\"value\":\"blue\"},\"x\":{\"units\":\"data\",\"field\":\"x\"},\"id\":\"f4489a9c-afbf-4979-c945-f604e447f979\",\"y\":{\"units\":\"data\",\"field\":\"y\"},\"tags\":[]}},{\"id\":\"252d03c1-c9bc-46fe-c6f4-7c3ac38bdd5c\",\"type\":\"GlyphRenderer\",\"attributes\":{\"name\":null,\"nonselection_glyph\":{\"type\":\"Line\",\"id\":\"f4489a9c-afbf-4979-c945-f604e447f979\"},\"doc\":null,\"server_data_source\":null,\"data_source\":{\"type\":\"ColumnDataSource\",\"id\":\"3fd18432-8ab0-46fb-c64b-f5395079e4a9\"},\"glyph\":{\"type\":\"Line\",\"id\":\"e4c31ebf-3ce7-456f-c57c-40013c0c7d79\"},\"selection_glyph\":null,\"id\":\"252d03c1-c9bc-46fe-c6f4-7c3ac38bdd5c\",\"tags\":[]}},{\"id\":\"be4f4f95-b527-4d8f-cde9-2e02b81c4ed8\",\"type\":\"ColumnDataSource\",\"attributes\":{\"data\":{\"y\":[1.9684684276581,1.9119029045105,1.8416432142258,1.7567150592804,1.7305601835251,1.7275252342224,1.7460207939148,1.6203664541245,1.5414878129959,1.7973185777664,1.8272477388382,1.7023108005524,1.6383429765701,1.6319018602371,1.6745923757553,1.5610058307648,1.653586268425,1.4512596130371,1.8061612844467,1.7537567615509,1.597704410553,1.7481932640076,1.6353850364685,1.6195542812347,1.4585820436478,1.4201942682266,1.348868727684,1.2827876806259,1.405669927597,1.1311610937119,1.409808754921,1.3086271286011,1.3951137065887,1.0854088068008,1.1147471666336,1.2004103660583,1.2602707147598,1.123627781868,1.2794317007065,1.2457618713379,1.0046608448029,1.1252590417862,1.1688487529755,1.3190945386887,1.1655427217484,1.2214834690094,1.2454963922501,0.93344885110855,1.0014879703522,1.0620020627975,0.94771897792816,0.76621943712234,0.95191317796707,0.7316734790802,0.81714308261871,0.68909949064255,0.85795766115189,0.78942632675171,0.83938372135162,0.69255834817886,0.77081251144409,0.57239907979965,0.82541465759277,0.91936218738556,0.68676126003265,0.75918883085251,0.67891800403595,0.69212514162064,0.81617444753647,0.76829093694687,0.64897269010544,0.61165070533752,0.6595818400383,0.54874837398529,0.46244046092033,0.49095952510834,0.41336771845818,0.37813347578049,0.49296709895134,0.63767147064209,0.47133168578148,0.44750347733498,0.43806767463684,0.38042733073235,0.45116975903511,0.38044187426567,0.34080347418785,0.52863442897797,0.37418907880783,0.25404852628708,0.3549947142601,0.40267834067345,0.29694625735283,0.49363914132118,0.27545738220215,0.32142922282219,0.24209861457348,0.38943430781364,0.30238822102547,0.258524954319,0.24761836230755,0.31161221861839,0.27435365319252,0.27539816498756,0.13056896626949,0.18559055030346,0.1730730086565,0.14201180636883,0.17725540697575,0.22463496029377,0.11183955520391,0.26139423251152,0.27574497461319,0.25630855560303,0.21628834307194,0.071723490953445,0.1387155354023,0.2263735383749,0.083346568048,0.20132912695408,0.29580980539322,0.22903418540955,0.12855660915375,0.15988244116306,0.14813438057899,0.13702183961868,0.14906440675259,0.059623960405588,0.24088671803474,0.13962011039257,0.1329759657383,0.15154582262039,0.066308923065662,0.21490314602852,0.16056622564793,0.081804782152176,0.082638747990131,0.13805064558983,0.20766258239746,0.078849315643311,0.050067901611328,0.15583723783493,0.098979733884335,0.18652738630772,0.2176228761673,0.14480209350586,0.1230890005827,0.10549428313971,0.098503664135933,0.1998094022274,0.12393537908792,0.060412168502808,0.053185913711786,0.18609291315079,0.10035518556833,0.10928721725941,0.13597640395164,0.10394007712603,0.13139696419239,0.083399541676044,0.17093446850777,0.092032238841057,0.10295420885086,0.084913700819016,0.058243963867426,0.095966920256615,0.082871526479721,0.097589008510113,0.10413366556168,0.10695445537567,0.081248559057713,0.055586446076632,0.077412471175194,0.059720035642385,0.06063487380743,0.10039932280779,0.069558881223202,0.087462373077869,0.078851595520973,0.15545970201492,0.11631844192743,0.16736328601837,0.18609918653965,0.0887291431427,0.065416097640991,0.044161982834339,0.071547508239746,0.077957034111023,0.10518495738506,0.10687681287527,0.09567791223526,0.045334540307522,0.035911023616791,0.10172542929649,0.062908194959164,0.017119962722063,0.05456966906786,0.079002924263477,0.10749542713165,0.11236767470837],\"x\":[1,2,3,4,5,6,7,8,9,10,11,12,13,14,15,16,17,18,19,20,21,22,23,24,25,26,27,28,29,30,31,32,33,34,35,36,37,38,39,40,41,42,43,44,45,46,47,48,49,50,51,52,53,54,55,56,57,58,59,60,61,62,63,64,65,66,67,68,69,70,71,72,73,74,75,76,77,78,79,80,81,82,83,84,85,86,87,88,89,90,91,92,93,94,95,96,97,98,99,100,101,102,103,104,105,106,107,108,109,110,111,112,113,114,115,116,117,118,119,120,121,122,123,124,125,126,127,128,129,130,131,132,133,134,135,136,137,138,139,140,141,142,143,144,145,146,147,148,149,150,151,152,153,154,155,156,157,158,159,160,161,162,163,164,165,166,167,168,169,170,171,172,173,174,175,176,177,178,179,180,181,182,183,184,185,186,187,188,189,190,191,192,193,194,195,196,197,198,199,200]},\"column_names\":[\"y\",\"x\"],\"cont_ranges\":{},\"discrete_ranges\":{},\"selected\":[],\"id\":\"be4f4f95-b527-4d8f-cde9-2e02b81c4ed8\",\"doc\":null,\"tags\":[]}},{\"id\":\"6363df15-5be0-47c0-c7bc-a46d3ea0f0c3\",\"type\":\"Line\",\"attributes\":{\"fill_alpha\":{\"units\":\"data\",\"value\":0.2},\"line_alpha\":{\"units\":\"data\",\"value\":1},\"doc\":null,\"size\":{\"units\":\"screen\",\"value\":10},\"fill_color\":{\"value\":\"blue\"},\"line_color\":{\"value\":\"blue\"},\"x\":{\"units\":\"data\",\"field\":\"x\"},\"id\":\"6363df15-5be0-47c0-c7bc-a46d3ea0f0c3\",\"y\":{\"units\":\"data\",\"field\":\"y\"},\"tags\":[]}},{\"id\":\"edcfa5d2-f215-4080-c0fd-ba38f1562444\",\"type\":\"Line\",\"attributes\":{\"fill_alpha\":{\"units\":\"data\",\"value\":0.2},\"line_alpha\":{\"units\":\"data\",\"value\":1},\"doc\":null,\"size\":{\"units\":\"screen\",\"value\":10},\"fill_color\":{\"value\":\"blue\"},\"line_color\":{\"value\":\"blue\"},\"x\":{\"units\":\"data\",\"field\":\"x\"},\"id\":\"edcfa5d2-f215-4080-c0fd-ba38f1562444\",\"y\":{\"units\":\"data\",\"field\":\"y\"},\"tags\":[]}},{\"id\":\"04a9d657-dd4c-4871-c850-32ad01f8fc6c\",\"type\":\"GlyphRenderer\",\"attributes\":{\"name\":null,\"nonselection_glyph\":{\"type\":\"Line\",\"id\":\"edcfa5d2-f215-4080-c0fd-ba38f1562444\"},\"doc\":null,\"server_data_source\":null,\"data_source\":{\"type\":\"ColumnDataSource\",\"id\":\"be4f4f95-b527-4d8f-cde9-2e02b81c4ed8\"},\"glyph\":{\"type\":\"Line\",\"id\":\"6363df15-5be0-47c0-c7bc-a46d3ea0f0c3\"},\"selection_glyph\":null,\"id\":\"04a9d657-dd4c-4871-c850-32ad01f8fc6c\",\"tags\":[]}},{\"id\":\"ba512549-6d91-45cf-c599-f213c1ba95f4\",\"type\":\"ColumnDataSource\",\"attributes\":{\"data\":{\"y\":[1.9684684276581,1.9119029045105,1.8416432142258,1.7567150592804,1.7305601835251,1.7275252342224,1.7460207939148,1.6203664541245,1.5414878129959,1.7973185777664,1.8272477388382,1.7023108005524,1.6383429765701,1.6319018602371,1.6745923757553,1.5610058307648,1.653586268425,1.4512596130371,1.8061612844467,1.7537567615509,1.597704410553,1.7481932640076,1.6353850364685,1.6195542812347,1.4585820436478,1.4201942682266,1.348868727684,1.2827876806259,1.405669927597,1.1311610937119,1.409808754921,1.3086271286011,1.3951137065887,1.0854088068008,1.1147471666336,1.2004103660583,1.2602707147598,1.123627781868,1.2794317007065,1.2457618713379,1.0046608448029,1.1252590417862,1.1688487529755,1.3190945386887,1.1655427217484,1.2214834690094,1.2454963922501,0.93344885110855,1.0014879703522,1.0620020627975,0.94771897792816,0.76621943712234,0.95191317796707,0.7316734790802,0.81714308261871,0.68909949064255,0.85795766115189,0.78942632675171,0.83938372135162,0.69255834817886,0.77081251144409,0.57239907979965,0.82541465759277,0.91936218738556,0.68676126003265,0.75918883085251,0.67891800403595,0.69212514162064,0.81617444753647,0.76829093694687,0.64897269010544,0.61165070533752,0.6595818400383,0.54874837398529,0.46244046092033,0.49095952510834,0.41336771845818,0.37813347578049,0.49296709895134,0.63767147064209,0.47133168578148,0.44750347733498,0.43806767463684,0.38042733073235,0.45116975903511,0.38044187426567,0.34080347418785,0.52863442897797,0.37418907880783,0.25404852628708,0.3549947142601,0.40267834067345,0.29694625735283,0.49363914132118,0.27545738220215,0.32142922282219,0.24209861457348,0.38943430781364,0.30238822102547,0.258524954319,0.24761836230755,0.31161221861839,0.27435365319252,0.27539816498756,0.13056896626949,0.18559055030346,0.1730730086565,0.14201180636883,0.17725540697575,0.22463496029377,0.11183955520391,0.26139423251152,0.27574497461319,0.25630855560303,0.21628834307194,0.071723490953445,0.1387155354023,0.2263735383749,0.083346568048,0.20132912695408,0.29580980539322,0.22903418540955,0.12855660915375,0.15988244116306,0.14813438057899,0.13702183961868,0.14906440675259,0.059623960405588,0.24088671803474,0.13962011039257,0.1329759657383,0.15154582262039,0.066308923065662,0.21490314602852,0.16056622564793,0.081804782152176,0.082638747990131,0.13805064558983,0.20766258239746,0.078849315643311,0.050067901611328,0.15583723783493,0.098979733884335,0.18652738630772,0.2176228761673,0.14480209350586,0.1230890005827,0.10549428313971,0.098503664135933,0.1998094022274,0.12393537908792,0.060412168502808,0.053185913711786,0.18609291315079,0.10035518556833,0.10928721725941,0.13597640395164,0.10394007712603,0.13139696419239,0.083399541676044,0.17093446850777,0.092032238841057,0.10295420885086,0.084913700819016,0.058243963867426,0.095966920256615,0.082871526479721,0.097589008510113,0.10413366556168,0.10695445537567,0.081248559057713,0.055586446076632,0.077412471175194,0.059720035642385,0.06063487380743,0.10039932280779,0.069558881223202,0.087462373077869,0.078851595520973,0.15545970201492,0.11631844192743,0.16736328601837,0.18609918653965,0.0887291431427,0.065416097640991,0.044161982834339,0.071547508239746,0.077957034111023,0.10518495738506,0.10687681287527,0.09567791223526,0.045334540307522,0.035911023616791,0.10172542929649,0.062908194959164,0.017119962722063,0.05456966906786,0.079002924263477,0.10749542713165,0.11236767470837],\"x\":[1.9684684276581,1.9119029045105,1.8416432142258,1.7567150592804,1.7305601835251,1.7275252342224,1.7460207939148,1.6203664541245,1.5414878129959,1.7973185777664,1.8272477388382,1.7023108005524,1.6383429765701,1.6319018602371,1.6745923757553,1.5610058307648,1.653586268425,1.4512596130371,1.8061612844467,1.7537567615509,1.597704410553,1.7481932640076,1.6353850364685,1.6195542812347,1.4585820436478,1.4201942682266,1.348868727684,1.2827876806259,1.405669927597,1.1311610937119,1.409808754921,1.3086271286011,1.3951137065887,1.0854088068008,1.1147471666336,1.2004103660583,1.2602707147598,1.123627781868,1.2794317007065,1.2457618713379,1.0046608448029,1.1252590417862,1.1688487529755,1.3190945386887,1.1655427217484,1.2214834690094,1.2454963922501,0.93344885110855,1.0014879703522,1.0620020627975,0.94771897792816,0.76621943712234,0.95191317796707,0.7316734790802,0.81714308261871,0.68909949064255,0.85795766115189,0.78942632675171,0.83938372135162,0.69255834817886,0.77081251144409,0.57239907979965,0.82541465759277,0.91936218738556,0.68676126003265,0.75918883085251,0.67891800403595,0.69212514162064,0.81617444753647,0.76829093694687,0.64897269010544,0.61165070533752,0.6595818400383,0.54874837398529,0.46244046092033,0.49095952510834,0.41336771845818,0.37813347578049,0.49296709895134,0.63767147064209,0.47133168578148,0.44750347733498,0.43806767463684,0.38042733073235,0.45116975903511,0.38044187426567,0.34080347418785,0.52863442897797,0.37418907880783,0.25404852628708,0.3549947142601,0.40267834067345,0.29694625735283,0.49363914132118,0.27545738220215,0.32142922282219,0.24209861457348,0.38943430781364,0.30238822102547,0.258524954319,0.24761836230755,0.31161221861839,0.27435365319252,0.27539816498756,0.13056896626949,0.18559055030346,0.1730730086565,0.14201180636883,0.17725540697575,0.22463496029377,0.11183955520391,0.26139423251152,0.27574497461319,0.25630855560303,0.21628834307194,0.071723490953445,0.1387155354023,0.2263735383749,0.083346568048,0.20132912695408,0.29580980539322,0.22903418540955,0.12855660915375,0.15988244116306,0.14813438057899,0.13702183961868,0.14906440675259,0.059623960405588,0.24088671803474,0.13962011039257,0.1329759657383,0.15154582262039,0.066308923065662,0.21490314602852,0.16056622564793,0.081804782152176,0.082638747990131,0.13805064558983,0.20766258239746,0.078849315643311,0.050067901611328,0.15583723783493,0.098979733884335,0.18652738630772,0.2176228761673,0.14480209350586,0.1230890005827,0.10549428313971,0.098503664135933,0.1998094022274,0.12393537908792,0.060412168502808,0.053185913711786,0.18609291315079,0.10035518556833,0.10928721725941,0.13597640395164,0.10394007712603,0.13139696419239,0.083399541676044,0.17093446850777,0.092032238841057,0.10295420885086,0.084913700819016,0.058243963867426,0.095966920256615,0.082871526479721,0.097589008510113,0.10413366556168,0.10695445537567,0.081248559057713,0.055586446076632,0.077412471175194,0.059720035642385,0.06063487380743,0.10039932280779,0.069558881223202,0.087462373077869,0.078851595520973,0.15545970201492,0.11631844192743,0.16736328601837,0.18609918653965,0.0887291431427,0.065416097640991,0.044161982834339,0.071547508239746,0.077957034111023,0.10518495738506,0.10687681287527,0.09567791223526,0.045334540307522,0.035911023616791,0.10172542929649,0.062908194959164,0.017119962722063,0.05456966906786,0.079002924263477,0.10749542713165,0.11236767470837]},\"column_names\":[\"y\",\"x\"],\"cont_ranges\":{},\"discrete_ranges\":{},\"selected\":[],\"id\":\"ba512549-6d91-45cf-c599-f213c1ba95f4\",\"doc\":null,\"tags\":[]}},{\"id\":\"caa9fda9-1ce0-4222-c2dc-313f1e170fed\",\"type\":\"Line\",\"attributes\":{\"fill_alpha\":{\"units\":\"data\",\"value\":0.2},\"line_alpha\":{\"units\":\"data\",\"value\":1},\"doc\":null,\"size\":{\"units\":\"screen\",\"value\":10},\"fill_color\":{\"value\":\"blue\"},\"line_color\":{\"value\":\"blue\"},\"x\":{\"units\":\"data\",\"field\":\"x\"},\"id\":\"caa9fda9-1ce0-4222-c2dc-313f1e170fed\",\"y\":{\"units\":\"data\",\"field\":\"y\"},\"tags\":[]}},{\"id\":\"07261531-7a95-4c14-cc9d-8729a92a5062\",\"type\":\"Line\",\"attributes\":{\"fill_alpha\":{\"units\":\"data\",\"value\":0.2},\"line_alpha\":{\"units\":\"data\",\"value\":1},\"doc\":null,\"size\":{\"units\":\"screen\",\"value\":10},\"fill_color\":{\"value\":\"blue\"},\"line_color\":{\"value\":\"blue\"},\"x\":{\"units\":\"data\",\"field\":\"x\"},\"id\":\"07261531-7a95-4c14-cc9d-8729a92a5062\",\"y\":{\"units\":\"data\",\"field\":\"y\"},\"tags\":[]}},{\"id\":\"f6eaf7e8-4503-4290-c246-81c7887b8ab1\",\"type\":\"GlyphRenderer\",\"attributes\":{\"name\":null,\"nonselection_glyph\":{\"type\":\"Line\",\"id\":\"07261531-7a95-4c14-cc9d-8729a92a5062\"},\"doc\":null,\"server_data_source\":null,\"data_source\":{\"type\":\"ColumnDataSource\",\"id\":\"ba512549-6d91-45cf-c599-f213c1ba95f4\"},\"glyph\":{\"type\":\"Line\",\"id\":\"caa9fda9-1ce0-4222-c2dc-313f1e170fed\"},\"selection_glyph\":null,\"id\":\"f6eaf7e8-4503-4290-c246-81c7887b8ab1\",\"tags\":[]}},{\"id\":\"ec1bbe9f-750b-445b-c466-5c149f00a154\",\"type\":\"ColumnDataSource\",\"attributes\":{\"data\":{\"y\":[1,2,3,4,5,6,7,8,9,10,11,12,13,14,15,16,17,18,19,20,21,22,23,24,25,26,27,28,29,30,31,32,33,34,35,36,37,38,39,40,41,42,43,44,45,46,47,48,49,50,51,52,53,54,55,56,57,58,59,60,61,62,63,64,65,66,67,68,69,70,71,72,73,74,75,76,77,78,79,80,81,82,83,84,85,86,87,88,89,90,91,92,93,94,95,96,97,98,99,100,101,102,103,104,105,106,107,108,109,110,111,112,113,114,115,116,117,118,119,120,121,122,123,124,125,126,127,128,129,130,131,132,133,134,135,136,137,138,139,140,141,142,143,144,145,146,147,148,149,150,151,152,153,154,155,156,157,158,159,160,161,162,163,164,165,166,167,168,169,170,171,172,173,174,175,176,177,178,179,180,181,182,183,184,185,186,187,188,189,190,191,192,193,194,195,196,197,198,199,200],\"x\":[1.9684684276581,1.9119029045105,1.8416432142258,1.7567150592804,1.7305601835251,1.7275252342224,1.7460207939148,1.6203664541245,1.5414878129959,1.7973185777664,1.8272477388382,1.7023108005524,1.6383429765701,1.6319018602371,1.6745923757553,1.5610058307648,1.653586268425,1.4512596130371,1.8061612844467,1.7537567615509,1.597704410553,1.7481932640076,1.6353850364685,1.6195542812347,1.4585820436478,1.4201942682266,1.348868727684,1.2827876806259,1.405669927597,1.1311610937119,1.409808754921,1.3086271286011,1.3951137065887,1.0854088068008,1.1147471666336,1.2004103660583,1.2602707147598,1.123627781868,1.2794317007065,1.2457618713379,1.0046608448029,1.1252590417862,1.1688487529755,1.3190945386887,1.1655427217484,1.2214834690094,1.2454963922501,0.93344885110855,1.0014879703522,1.0620020627975,0.94771897792816,0.76621943712234,0.95191317796707,0.7316734790802,0.81714308261871,0.68909949064255,0.85795766115189,0.78942632675171,0.83938372135162,0.69255834817886,0.77081251144409,0.57239907979965,0.82541465759277,0.91936218738556,0.68676126003265,0.75918883085251,0.67891800403595,0.69212514162064,0.81617444753647,0.76829093694687,0.64897269010544,0.61165070533752,0.6595818400383,0.54874837398529,0.46244046092033,0.49095952510834,0.41336771845818,0.37813347578049,0.49296709895134,0.63767147064209,0.47133168578148,0.44750347733498,0.43806767463684,0.38042733073235,0.45116975903511,0.38044187426567,0.34080347418785,0.52863442897797,0.37418907880783,0.25404852628708,0.3549947142601,0.40267834067345,0.29694625735283,0.49363914132118,0.27545738220215,0.32142922282219,0.24209861457348,0.38943430781364,0.30238822102547,0.258524954319,0.24761836230755,0.31161221861839,0.27435365319252,0.27539816498756,0.13056896626949,0.18559055030346,0.1730730086565,0.14201180636883,0.17725540697575,0.22463496029377,0.11183955520391,0.26139423251152,0.27574497461319,0.25630855560303,0.21628834307194,0.071723490953445,0.1387155354023,0.2263735383749,0.083346568048,0.20132912695408,0.29580980539322,0.22903418540955,0.12855660915375,0.15988244116306,0.14813438057899,0.13702183961868,0.14906440675259,0.059623960405588,0.24088671803474,0.13962011039257,0.1329759657383,0.15154582262039,0.066308923065662,0.21490314602852,0.16056622564793,0.081804782152176,0.082638747990131,0.13805064558983,0.20766258239746,0.078849315643311,0.050067901611328,0.15583723783493,0.098979733884335,0.18652738630772,0.2176228761673,0.14480209350586,0.1230890005827,0.10549428313971,0.098503664135933,0.1998094022274,0.12393537908792,0.060412168502808,0.053185913711786,0.18609291315079,0.10035518556833,0.10928721725941,0.13597640395164,0.10394007712603,0.13139696419239,0.083399541676044,0.17093446850777,0.092032238841057,0.10295420885086,0.084913700819016,0.058243963867426,0.095966920256615,0.082871526479721,0.097589008510113,0.10413366556168,0.10695445537567,0.081248559057713,0.055586446076632,0.077412471175194,0.059720035642385,0.06063487380743,0.10039932280779,0.069558881223202,0.087462373077869,0.078851595520973,0.15545970201492,0.11631844192743,0.16736328601837,0.18609918653965,0.0887291431427,0.065416097640991,0.044161982834339,0.071547508239746,0.077957034111023,0.10518495738506,0.10687681287527,0.09567791223526,0.045334540307522,0.035911023616791,0.10172542929649,0.062908194959164,0.017119962722063,0.05456966906786,0.079002924263477,0.10749542713165,0.11236767470837]},\"column_names\":[\"y\",\"x\"],\"cont_ranges\":{},\"discrete_ranges\":{},\"selected\":[],\"id\":\"ec1bbe9f-750b-445b-c466-5c149f00a154\",\"doc\":null,\"tags\":[]}},{\"id\":\"b234ceb4-879a-4259-c21f-a3db6c7bfcab\",\"type\":\"Line\",\"attributes\":{\"fill_alpha\":{\"units\":\"data\",\"value\":0.2},\"line_alpha\":{\"units\":\"data\",\"value\":1},\"doc\":null,\"size\":{\"units\":\"screen\",\"value\":10},\"fill_color\":{\"value\":\"blue\"},\"line_color\":{\"value\":\"blue\"},\"x\":{\"units\":\"data\",\"field\":\"x\"},\"id\":\"b234ceb4-879a-4259-c21f-a3db6c7bfcab\",\"y\":{\"units\":\"data\",\"field\":\"y\"},\"tags\":[]}},{\"id\":\"7a5f8369-578c-4e6b-ce14-4e1b6ec6751c\",\"type\":\"Line\",\"attributes\":{\"fill_alpha\":{\"units\":\"data\",\"value\":0.2},\"line_alpha\":{\"units\":\"data\",\"value\":1},\"doc\":null,\"size\":{\"units\":\"screen\",\"value\":10},\"fill_color\":{\"value\":\"blue\"},\"line_color\":{\"value\":\"blue\"},\"x\":{\"units\":\"data\",\"field\":\"x\"},\"id\":\"7a5f8369-578c-4e6b-ce14-4e1b6ec6751c\",\"y\":{\"units\":\"data\",\"field\":\"y\"},\"tags\":[]}},{\"id\":\"e89fa920-e952-4883-c8b8-e52d27c19141\",\"type\":\"GlyphRenderer\",\"attributes\":{\"name\":null,\"nonselection_glyph\":{\"type\":\"Line\",\"id\":\"7a5f8369-578c-4e6b-ce14-4e1b6ec6751c\"},\"doc\":null,\"server_data_source\":null,\"data_source\":{\"type\":\"ColumnDataSource\",\"id\":\"ec1bbe9f-750b-445b-c466-5c149f00a154\"},\"glyph\":{\"type\":\"Line\",\"id\":\"b234ceb4-879a-4259-c21f-a3db6c7bfcab\"},\"selection_glyph\":null,\"id\":\"e89fa920-e952-4883-c8b8-e52d27c19141\",\"tags\":[]}},{\"id\":\"2bd35c9f-27df-4cc3-ccab-859c6ffcfbdc\",\"type\":\"ColumnDataSource\",\"attributes\":{\"data\":{\"y\":[1.9684684276581,1.9119029045105,1.8416432142258,1.7567150592804,1.7305601835251,1.7275252342224,1.7460207939148,1.6203664541245,1.5414878129959,1.7973185777664,1.8272477388382,1.7023108005524,1.6383429765701,1.6319018602371,1.6745923757553,1.5610058307648,1.653586268425,1.4512596130371,1.8061612844467,1.7537567615509,1.597704410553,1.7481932640076,1.6353850364685,1.6195542812347,1.4585820436478,1.4201942682266,1.348868727684,1.2827876806259,1.405669927597,1.1311610937119,1.409808754921,1.3086271286011,1.3951137065887,1.0854088068008,1.1147471666336,1.2004103660583,1.2602707147598,1.123627781868,1.2794317007065,1.2457618713379,1.0046608448029,1.1252590417862,1.1688487529755,1.3190945386887,1.1655427217484,1.2214834690094,1.2454963922501,0.93344885110855,1.0014879703522,1.0620020627975,0.94771897792816,0.76621943712234,0.95191317796707,0.7316734790802,0.81714308261871,0.68909949064255,0.85795766115189,0.78942632675171,0.83938372135162,0.69255834817886,0.77081251144409,0.57239907979965,0.82541465759277,0.91936218738556,0.68676126003265,0.75918883085251,0.67891800403595,0.69212514162064,0.81617444753647,0.76829093694687,0.64897269010544,0.61165070533752,0.6595818400383,0.54874837398529,0.46244046092033,0.49095952510834,0.41336771845818,0.37813347578049,0.49296709895134,0.63767147064209,0.47133168578148,0.44750347733498,0.43806767463684,0.38042733073235,0.45116975903511,0.38044187426567,0.34080347418785,0.52863442897797,0.37418907880783,0.25404852628708,0.3549947142601,0.40267834067345,0.29694625735283,0.49363914132118,0.27545738220215,0.32142922282219,0.24209861457348,0.38943430781364,0.30238822102547,0.258524954319,0.24761836230755,0.31161221861839,0.27435365319252,0.27539816498756,0.13056896626949,0.18559055030346,0.1730730086565,0.14201180636883,0.17725540697575,0.22463496029377,0.11183955520391,0.26139423251152,0.27574497461319,0.25630855560303,0.21628834307194,0.071723490953445,0.1387155354023,0.2263735383749,0.083346568048,0.20132912695408,0.29580980539322,0.22903418540955,0.12855660915375,0.15988244116306,0.14813438057899,0.13702183961868,0.14906440675259,0.059623960405588,0.24088671803474,0.13962011039257,0.1329759657383,0.15154582262039,0.066308923065662,0.21490314602852,0.16056622564793,0.081804782152176,0.082638747990131,0.13805064558983,0.20766258239746,0.078849315643311,0.050067901611328,0.15583723783493,0.098979733884335,0.18652738630772,0.2176228761673,0.14480209350586,0.1230890005827,0.10549428313971,0.098503664135933,0.1998094022274,0.12393537908792,0.060412168502808,0.053185913711786,0.18609291315079,0.10035518556833,0.10928721725941,0.13597640395164,0.10394007712603,0.13139696419239,0.083399541676044,0.17093446850777,0.092032238841057,0.10295420885086,0.084913700819016,0.058243963867426,0.095966920256615,0.082871526479721,0.097589008510113,0.10413366556168,0.10695445537567,0.081248559057713,0.055586446076632,0.077412471175194,0.059720035642385,0.06063487380743,0.10039932280779,0.069558881223202,0.087462373077869,0.078851595520973,0.15545970201492,0.11631844192743,0.16736328601837,0.18609918653965,0.0887291431427,0.065416097640991,0.044161982834339,0.071547508239746,0.077957034111023,0.10518495738506,0.10687681287527,0.09567791223526,0.045334540307522,0.035911023616791,0.10172542929649,0.062908194959164,0.017119962722063,0.05456966906786,0.079002924263477,0.10749542713165,0.11236767470837],\"x\":[1,2,3,4,5,6,7,8,9,10,11,12,13,14,15,16,17,18,19,20,21,22,23,24,25,26,27,28,29,30,31,32,33,34,35,36,37,38,39,40,41,42,43,44,45,46,47,48,49,50,51,52,53,54,55,56,57,58,59,60,61,62,63,64,65,66,67,68,69,70,71,72,73,74,75,76,77,78,79,80,81,82,83,84,85,86,87,88,89,90,91,92,93,94,95,96,97,98,99,100,101,102,103,104,105,106,107,108,109,110,111,112,113,114,115,116,117,118,119,120,121,122,123,124,125,126,127,128,129,130,131,132,133,134,135,136,137,138,139,140,141,142,143,144,145,146,147,148,149,150,151,152,153,154,155,156,157,158,159,160,161,162,163,164,165,166,167,168,169,170,171,172,173,174,175,176,177,178,179,180,181,182,183,184,185,186,187,188,189,190,191,192,193,194,195,196,197,198,199,200]},\"column_names\":[\"y\",\"x\"],\"cont_ranges\":{},\"discrete_ranges\":{},\"selected\":[],\"id\":\"2bd35c9f-27df-4cc3-ccab-859c6ffcfbdc\",\"doc\":null,\"tags\":[]}},{\"id\":\"17cb3292-5c2f-472a-c73a-76279f625af4\",\"type\":\"Line\",\"attributes\":{\"fill_alpha\":{\"units\":\"data\",\"value\":0.2},\"line_alpha\":{\"units\":\"data\",\"value\":1},\"doc\":null,\"size\":{\"units\":\"screen\",\"value\":10},\"fill_color\":{\"value\":\"blue\"},\"line_color\":{\"value\":\"blue\"},\"x\":{\"units\":\"data\",\"field\":\"x\"},\"id\":\"17cb3292-5c2f-472a-c73a-76279f625af4\",\"y\":{\"units\":\"data\",\"field\":\"y\"},\"tags\":[]}},{\"id\":\"5d1c3eca-dc5b-46af-c6fd-b4e7c8dbbaf2\",\"type\":\"Line\",\"attributes\":{\"fill_alpha\":{\"units\":\"data\",\"value\":0.2},\"line_alpha\":{\"units\":\"data\",\"value\":1},\"doc\":null,\"size\":{\"units\":\"screen\",\"value\":10},\"fill_color\":{\"value\":\"blue\"},\"line_color\":{\"value\":\"blue\"},\"x\":{\"units\":\"data\",\"field\":\"x\"},\"id\":\"5d1c3eca-dc5b-46af-c6fd-b4e7c8dbbaf2\",\"y\":{\"units\":\"data\",\"field\":\"y\"},\"tags\":[]}},{\"id\":\"a4d1d990-025d-4338-c3d1-e733e89f52e3\",\"type\":\"GlyphRenderer\",\"attributes\":{\"name\":null,\"nonselection_glyph\":{\"type\":\"Line\",\"id\":\"5d1c3eca-dc5b-46af-c6fd-b4e7c8dbbaf2\"},\"doc\":null,\"server_data_source\":null,\"data_source\":{\"type\":\"ColumnDataSource\",\"id\":\"2bd35c9f-27df-4cc3-ccab-859c6ffcfbdc\"},\"glyph\":{\"type\":\"Line\",\"id\":\"17cb3292-5c2f-472a-c73a-76279f625af4\"},\"selection_glyph\":null,\"id\":\"a4d1d990-025d-4338-c3d1-e733e89f52e3\",\"tags\":[]}},{\"id\":\"bddc36a8-0f8b-455c-c5fa-3524bfe5a634\",\"type\":\"ColumnDataSource\",\"attributes\":{\"data\":{\"y\":[199,198,197,196,195,194,193,192,191,190,189,188,187,186,185,184,183,182,181,180,179,178,177,176,175,174,173,172,171,170,169,168,167,166,165,164,163,162,161,160,159,158,157,156,155,154,153,152,151,150,149,148,147,146,145,144,143,142,141,140,139,138,137,136,135,134,133,132,131,130,129,128,127,126,125,124,123,122,121,120,119,118,117,116,115,114,113,112,111,110,109,108,107,106,105,104,103,102,101,100,99,98,97,96,95,94,93,92,91,90,89,88,87,86,85,84,83,82,81,80,79,78,77,76,75,74,73,72,71,70,69,68,67,66,65,64,63,62,61,60,59,58,57,56,55,54,53,52,51,50,49,48,47,46,45,44,43,42,41,40,39,38,37,36,35,34,33,32,31,30,29,28,27,26,25,24,23,22,21,20,19,18,17,16,15,14,13,12,11,10,9,8,7,6,5,4,3,2,1,0],\"x\":[1,2,3,4,5,6,7,8,9,10,11,12,13,14,15,16,17,18,19,20,21,22,23,24,25,26,27,28,29,30,31,32,33,34,35,36,37,38,39,40,41,42,43,44,45,46,47,48,49,50,51,52,53,54,55,56,57,58,59,60,61,62,63,64,65,66,67,68,69,70,71,72,73,74,75,76,77,78,79,80,81,82,83,84,85,86,87,88,89,90,91,92,93,94,95,96,97,98,99,100,101,102,103,104,105,106,107,108,109,110,111,112,113,114,115,116,117,118,119,120,121,122,123,124,125,126,127,128,129,130,131,132,133,134,135,136,137,138,139,140,141,142,143,144,145,146,147,148,149,150,151,152,153,154,155,156,157,158,159,160,161,162,163,164,165,166,167,168,169,170,171,172,173,174,175,176,177,178,179,180,181,182,183,184,185,186,187,188,189,190,191,192,193,194,195,196,197,198,199,200]},\"column_names\":[\"y\",\"x\"],\"cont_ranges\":{},\"discrete_ranges\":{},\"selected\":[],\"id\":\"bddc36a8-0f8b-455c-c5fa-3524bfe5a634\",\"doc\":null,\"tags\":[]}},{\"id\":\"bc29ef9b-2f2d-4b2f-cb53-04cf6e1c59e6\",\"type\":\"Line\",\"attributes\":{\"fill_alpha\":{\"units\":\"data\",\"value\":0.2},\"line_alpha\":{\"units\":\"data\",\"value\":1},\"doc\":null,\"size\":{\"units\":\"screen\",\"value\":10},\"fill_color\":{\"value\":\"blue\"},\"line_color\":{\"value\":\"blue\"},\"x\":{\"units\":\"data\",\"field\":\"x\"},\"id\":\"bc29ef9b-2f2d-4b2f-cb53-04cf6e1c59e6\",\"y\":{\"units\":\"data\",\"field\":\"y\"},\"tags\":[]}},{\"id\":\"70c21479-4ce1-4a1e-ca58-0bd59aa88a22\",\"type\":\"Line\",\"attributes\":{\"fill_alpha\":{\"units\":\"data\",\"value\":0.2},\"line_alpha\":{\"units\":\"data\",\"value\":1},\"doc\":null,\"size\":{\"units\":\"screen\",\"value\":10},\"fill_color\":{\"value\":\"blue\"},\"line_color\":{\"value\":\"blue\"},\"x\":{\"units\":\"data\",\"field\":\"x\"},\"id\":\"70c21479-4ce1-4a1e-ca58-0bd59aa88a22\",\"y\":{\"units\":\"data\",\"field\":\"y\"},\"tags\":[]}},{\"id\":\"5e23918a-9e6c-4e81-ce31-f47d3a8f1c8c\",\"type\":\"GlyphRenderer\",\"attributes\":{\"name\":null,\"nonselection_glyph\":{\"type\":\"Line\",\"id\":\"70c21479-4ce1-4a1e-ca58-0bd59aa88a22\"},\"doc\":null,\"server_data_source\":null,\"data_source\":{\"type\":\"ColumnDataSource\",\"id\":\"bddc36a8-0f8b-455c-c5fa-3524bfe5a634\"},\"glyph\":{\"type\":\"Line\",\"id\":\"bc29ef9b-2f2d-4b2f-cb53-04cf6e1c59e6\"},\"selection_glyph\":null,\"id\":\"5e23918a-9e6c-4e81-ce31-f47d3a8f1c8c\",\"tags\":[]}},{\"id\":\"970ff8a8-f9f1-4ba2-cb4f-17f035aea1a0\",\"type\":\"ColumnDataSource\",\"attributes\":{\"data\":{\"y\":[199,198,197,196,195,194,193,192,191,190,189,188,187,186,185,184,183,182,181,180,179,178,177,176,175,174,173,172,171,170,169,168,167,166,165,164,163,162,161,160,159,158,157,156,155,154,153,152,151,150,149,148,147,146,145,144,143,142,141,140,139,138,137,136,135,134,133,132,131,130,129,128,127,126,125,124,123,122,121,120,119,118,117,116,115,114,113,112,111,110,109,108,107,106,105,104,103,102,101,100,99,98,97,96,95,94,93,92,91,90,89,88,87,86,85,84,83,82,81,80,79,78,77,76,75,74,73,72,71,70,69,68,67,66,65,64,63,62,61,60,59,58,57,56,55,54,53,52,51,50,49,48,47,46,45,44,43,42,41,40,39,38,37,36,35,34,33,32,31,30,29,28,27,26,25,24,23,22,21,20,19,18,17,16,15,14,13,12,11,10,9,8,7,6,5,4,3,2,1,0],\"x\":[1,2,3,4,5,6,7,8,9,10,11,12,13,14,15,16,17,18,19,20,21,22,23,24,25,26,27,28,29,30,31,32,33,34,35,36,37,38,39,40,41,42,43,44,45,46,47,48,49,50,51,52,53,54,55,56,57,58,59,60,61,62,63,64,65,66,67,68,69,70,71,72,73,74,75,76,77,78,79,80,81,82,83,84,85,86,87,88,89,90,91,92,93,94,95,96,97,98,99,100,101,102,103,104,105,106,107,108,109,110,111,112,113,114,115,116,117,118,119,120,121,122,123,124,125,126,127,128,129,130,131,132,133,134,135,136,137,138,139,140,141,142,143,144,145,146,147,148,149,150,151,152,153,154,155,156,157,158,159,160,161,162,163,164,165,166,167,168,169,170,171,172,173,174,175,176,177,178,179,180,181,182,183,184,185,186,187,188,189,190,191,192,193,194,195,196,197,198,199,200]},\"column_names\":[\"y\",\"x\"],\"cont_ranges\":{},\"discrete_ranges\":{},\"selected\":[],\"id\":\"970ff8a8-f9f1-4ba2-cb4f-17f035aea1a0\",\"doc\":null,\"tags\":[]}},{\"id\":\"d7db4a74-5111-4e5b-ce4e-9d47816431ca\",\"type\":\"Line\",\"attributes\":{\"fill_alpha\":{\"units\":\"data\",\"value\":0.2},\"line_alpha\":{\"units\":\"data\",\"value\":1},\"doc\":null,\"size\":{\"units\":\"screen\",\"value\":10},\"fill_color\":{\"value\":\"blue\"},\"line_color\":{\"value\":\"blue\"},\"x\":{\"units\":\"data\",\"field\":\"x\"},\"id\":\"d7db4a74-5111-4e5b-ce4e-9d47816431ca\",\"y\":{\"units\":\"data\",\"field\":\"y\"},\"tags\":[]}},{\"id\":\"59e96a8e-fbd0-4c61-cc41-36c64cd1b7fe\",\"type\":\"Line\",\"attributes\":{\"fill_alpha\":{\"units\":\"data\",\"value\":0.2},\"line_alpha\":{\"units\":\"data\",\"value\":1},\"doc\":null,\"size\":{\"units\":\"screen\",\"value\":10},\"fill_color\":{\"value\":\"blue\"},\"line_color\":{\"value\":\"blue\"},\"x\":{\"units\":\"data\",\"field\":\"x\"},\"id\":\"59e96a8e-fbd0-4c61-cc41-36c64cd1b7fe\",\"y\":{\"units\":\"data\",\"field\":\"y\"},\"tags\":[]}},{\"id\":\"99fddbbf-c947-4d98-cd9d-cfde08543b2e\",\"type\":\"GlyphRenderer\",\"attributes\":{\"name\":null,\"nonselection_glyph\":{\"type\":\"Line\",\"id\":\"59e96a8e-fbd0-4c61-cc41-36c64cd1b7fe\"},\"doc\":null,\"server_data_source\":null,\"data_source\":{\"type\":\"ColumnDataSource\",\"id\":\"970ff8a8-f9f1-4ba2-cb4f-17f035aea1a0\"},\"glyph\":{\"type\":\"Line\",\"id\":\"d7db4a74-5111-4e5b-ce4e-9d47816431ca\"},\"selection_glyph\":null,\"id\":\"99fddbbf-c947-4d98-cd9d-cfde08543b2e\",\"tags\":[]}},{\"id\":\"d9429efd-3f36-4672-c672-a6a995104dcd\",\"type\":\"ColumnDataSource\",\"attributes\":{\"data\":{\"y\":[199,198,197,196,195,194,193,192,191,190,189,188,187,186,185,184,183,182,181,180,179,178,177,176,175,174,173,172,171,170,169,168,167,166,165,164,163,162,161,160,159,158,157,156,155,154,153,152,151,150,149,148,147,146,145,144,143,142,141,140,139,138,137,136,135,134,133,132,131,130,129,128,127,126,125,124,123,122,121,120,119,118,117,116,115,114,113,112,111,110,109,108,107,106,105,104,103,102,101,100,99,98,97,96,95,94,93,92,91,90,89,88,87,86,85,84,83,82,81,80,79,78,77,76,75,74,73,72,71,70,69,68,67,66,65,64,63,62,61,60,59,58,57,56,55,54,53,52,51,50,49,48,47,46,45,44,43,42,41,40,39,38,37,36,35,34,33,32,31,30,29,28,27,26,25,24,23,22,21,20,19,18,17,16,15,14,13,12,11,10,9,8,7,6,5,4,3,2,1,0],\"x\":[1,2,3,4,5,6,7,8,9,10,11,12,13,14,15,16,17,18,19,20,21,22,23,24,25,26,27,28,29,30,31,32,33,34,35,36,37,38,39,40,41,42,43,44,45,46,47,48,49,50,51,52,53,54,55,56,57,58,59,60,61,62,63,64,65,66,67,68,69,70,71,72,73,74,75,76,77,78,79,80,81,82,83,84,85,86,87,88,89,90,91,92,93,94,95,96,97,98,99,100,101,102,103,104,105,106,107,108,109,110,111,112,113,114,115,116,117,118,119,120,121,122,123,124,125,126,127,128,129,130,131,132,133,134,135,136,137,138,139,140,141,142,143,144,145,146,147,148,149,150,151,152,153,154,155,156,157,158,159,160,161,162,163,164,165,166,167,168,169,170,171,172,173,174,175,176,177,178,179,180,181,182,183,184,185,186,187,188,189,190,191,192,193,194,195,196,197,198,199,200]},\"column_names\":[\"y\",\"x\"],\"cont_ranges\":{},\"discrete_ranges\":{},\"selected\":[],\"id\":\"d9429efd-3f36-4672-c672-a6a995104dcd\",\"doc\":null,\"tags\":[]}},{\"id\":\"b56b3649-6fb0-47c7-c7d2-652fc99b2547\",\"type\":\"Line\",\"attributes\":{\"fill_alpha\":{\"units\":\"data\",\"value\":0.2},\"line_alpha\":{\"units\":\"data\",\"value\":1},\"doc\":null,\"size\":{\"units\":\"screen\",\"value\":10},\"fill_color\":{\"value\":\"blue\"},\"line_color\":{\"value\":\"blue\"},\"x\":{\"units\":\"data\",\"field\":\"x\"},\"id\":\"b56b3649-6fb0-47c7-c7d2-652fc99b2547\",\"y\":{\"units\":\"data\",\"field\":\"y\"},\"tags\":[]}},{\"id\":\"b03d1662-fdba-4a38-cacf-b7c35dc5bc28\",\"type\":\"Line\",\"attributes\":{\"fill_alpha\":{\"units\":\"data\",\"value\":0.2},\"line_alpha\":{\"units\":\"data\",\"value\":1},\"doc\":null,\"size\":{\"units\":\"screen\",\"value\":10},\"fill_color\":{\"value\":\"blue\"},\"line_color\":{\"value\":\"blue\"},\"x\":{\"units\":\"data\",\"field\":\"x\"},\"id\":\"b03d1662-fdba-4a38-cacf-b7c35dc5bc28\",\"y\":{\"units\":\"data\",\"field\":\"y\"},\"tags\":[]}},{\"id\":\"f7da0849-091d-4e82-ce77-0410d8b4e4f1\",\"type\":\"GlyphRenderer\",\"attributes\":{\"name\":null,\"nonselection_glyph\":{\"type\":\"Line\",\"id\":\"b03d1662-fdba-4a38-cacf-b7c35dc5bc28\"},\"doc\":null,\"server_data_source\":null,\"data_source\":{\"type\":\"ColumnDataSource\",\"id\":\"d9429efd-3f36-4672-c672-a6a995104dcd\"},\"glyph\":{\"type\":\"Line\",\"id\":\"b56b3649-6fb0-47c7-c7d2-652fc99b2547\"},\"selection_glyph\":null,\"id\":\"f7da0849-091d-4e82-ce77-0410d8b4e4f1\",\"tags\":[]}},{\"id\":\"b9ad490e-9ff6-4745-c7e0-67605ce7dc13\",\"type\":\"ColumnDataSource\",\"attributes\":{\"data\":{\"y\":[199,198,197,196,195,194,193,192,191,190,189,188,187,186,185,184,183,182,181,180,179,178,177,176,175,174,173,172,171,170,169,168,167,166,165,164,163,162,161,160,159,158,157,156,155,154,153,152,151,150,149,148,147,146,145,144,143,142,141,140,139,138,137,136,135,134,133,132,131,130,129,128,127,126,125,124,123,122,121,120,119,118,117,116,115,114,113,112,111,110,109,108,107,106,105,104,103,102,101,100,99,98,97,96,95,94,93,92,91,90,89,88,87,86,85,84,83,82,81,80,79,78,77,76,75,74,73,72,71,70,69,68,67,66,65,64,63,62,61,60,59,58,57,56,55,54,53,52,51,50,49,48,47,46,45,44,43,42,41,40,39,38,37,36,35,34,33,32,31,30,29,28,27,26,25,24,23,22,21,20,19,18,17,16,15,14,13,12,11,10,9,8,7,6,5,4,3,2,1,0],\"x\":[1,2,3,4,5,6,7,8,9,10,11,12,13,14,15,16,17,18,19,20,21,22,23,24,25,26,27,28,29,30,31,32,33,34,35,36,37,38,39,40,41,42,43,44,45,46,47,48,49,50,51,52,53,54,55,56,57,58,59,60,61,62,63,64,65,66,67,68,69,70,71,72,73,74,75,76,77,78,79,80,81,82,83,84,85,86,87,88,89,90,91,92,93,94,95,96,97,98,99,100,101,102,103,104,105,106,107,108,109,110,111,112,113,114,115,116,117,118,119,120,121,122,123,124,125,126,127,128,129,130,131,132,133,134,135,136,137,138,139,140,141,142,143,144,145,146,147,148,149,150,151,152,153,154,155,156,157,158,159,160,161,162,163,164,165,166,167,168,169,170,171,172,173,174,175,176,177,178,179,180,181,182,183,184,185,186,187,188,189,190,191,192,193,194,195,196,197,198,199,200]},\"column_names\":[\"y\",\"x\"],\"cont_ranges\":{},\"discrete_ranges\":{},\"selected\":[],\"id\":\"b9ad490e-9ff6-4745-c7e0-67605ce7dc13\",\"doc\":null,\"tags\":[]}},{\"id\":\"af1800bf-195c-4260-c2cd-fad0d22d1d04\",\"type\":\"Line\",\"attributes\":{\"fill_alpha\":{\"units\":\"data\",\"value\":0.2},\"line_alpha\":{\"units\":\"data\",\"value\":1},\"doc\":null,\"size\":{\"units\":\"screen\",\"value\":10},\"fill_color\":{\"value\":\"blue\"},\"line_color\":{\"value\":\"blue\"},\"x\":{\"units\":\"data\",\"field\":\"x\"},\"id\":\"af1800bf-195c-4260-c2cd-fad0d22d1d04\",\"y\":{\"units\":\"data\",\"field\":\"y\"},\"tags\":[]}},{\"id\":\"7055d031-4ed8-4731-c75c-b4a8180ba9bf\",\"type\":\"Line\",\"attributes\":{\"fill_alpha\":{\"units\":\"data\",\"value\":0.2},\"line_alpha\":{\"units\":\"data\",\"value\":1},\"doc\":null,\"size\":{\"units\":\"screen\",\"value\":10},\"fill_color\":{\"value\":\"blue\"},\"line_color\":{\"value\":\"blue\"},\"x\":{\"units\":\"data\",\"field\":\"x\"},\"id\":\"7055d031-4ed8-4731-c75c-b4a8180ba9bf\",\"y\":{\"units\":\"data\",\"field\":\"y\"},\"tags\":[]}},{\"id\":\"e006cdfb-80eb-4595-c560-40766cacb47a\",\"type\":\"GlyphRenderer\",\"attributes\":{\"name\":null,\"nonselection_glyph\":{\"type\":\"Line\",\"id\":\"7055d031-4ed8-4731-c75c-b4a8180ba9bf\"},\"doc\":null,\"server_data_source\":null,\"data_source\":{\"type\":\"ColumnDataSource\",\"id\":\"b9ad490e-9ff6-4745-c7e0-67605ce7dc13\"},\"glyph\":{\"type\":\"Line\",\"id\":\"af1800bf-195c-4260-c2cd-fad0d22d1d04\"},\"selection_glyph\":null,\"id\":\"e006cdfb-80eb-4595-c560-40766cacb47a\",\"tags\":[]}},{\"id\":\"35ac0dcd-c2d7-47e9-c7c6-aad71a405360\",\"type\":\"ColumnDataSource\",\"attributes\":{\"data\":{\"y\":[199,198,197,196,195,194,193,192,191,190,189,188,187,186,185,184,183,182,181,180,179,178,177,176,175,174,173,172,171,170,169,168,167,166,165,164,163,162,161,160,159,158,157,156,155,154,153,152,151,150,149,148,147,146,145,144,143,142,141,140,139,138,137,136,135,134,133,132,131,130,129,128,127,126,125,124,123,122,121,120,119,118,117,116,115,114,113,112,111,110,109,108,107,106,105,104,103,102,101,100,99,98,97,96,95,94,93,92,91,90,89,88,87,86,85,84,83,82,81,80,79,78,77,76,75,74,73,72,71,70,69,68,67,66,65,64,63,62,61,60,59,58,57,56,55,54,53,52,51,50,49,48,47,46,45,44,43,42,41,40,39,38,37,36,35,34,33,32,31,30,29,28,27,26,25,24,23,22,21,20,19,18,17,16,15,14,13,12,11,10,9,8,7,6,5,4,3,2,1,0],\"x\":[1,2,3,4,5,6,7,8,9,10,11,12,13,14,15,16,17,18,19,20,21,22,23,24,25,26,27,28,29,30,31,32,33,34,35,36,37,38,39,40,41,42,43,44,45,46,47,48,49,50,51,52,53,54,55,56,57,58,59,60,61,62,63,64,65,66,67,68,69,70,71,72,73,74,75,76,77,78,79,80,81,82,83,84,85,86,87,88,89,90,91,92,93,94,95,96,97,98,99,100,101,102,103,104,105,106,107,108,109,110,111,112,113,114,115,116,117,118,119,120,121,122,123,124,125,126,127,128,129,130,131,132,133,134,135,136,137,138,139,140,141,142,143,144,145,146,147,148,149,150,151,152,153,154,155,156,157,158,159,160,161,162,163,164,165,166,167,168,169,170,171,172,173,174,175,176,177,178,179,180,181,182,183,184,185,186,187,188,189,190,191,192,193,194,195,196,197,198,199,200]},\"column_names\":[\"y\",\"x\"],\"cont_ranges\":{},\"discrete_ranges\":{},\"selected\":[],\"id\":\"35ac0dcd-c2d7-47e9-c7c6-aad71a405360\",\"doc\":null,\"tags\":[]}},{\"id\":\"8098eaa1-a02d-4540-c5cf-8211b6989969\",\"type\":\"Line\",\"attributes\":{\"fill_alpha\":{\"units\":\"data\",\"value\":0.2},\"line_alpha\":{\"units\":\"data\",\"value\":1},\"doc\":null,\"size\":{\"units\":\"screen\",\"value\":10},\"fill_color\":{\"value\":\"blue\"},\"line_color\":{\"value\":\"blue\"},\"x\":{\"units\":\"data\",\"field\":\"x\"},\"id\":\"8098eaa1-a02d-4540-c5cf-8211b6989969\",\"y\":{\"units\":\"data\",\"field\":\"y\"},\"tags\":[]}},{\"id\":\"ffc75395-8da6-4811-c885-f20da365339f\",\"type\":\"Line\",\"attributes\":{\"fill_alpha\":{\"units\":\"data\",\"value\":0.2},\"line_alpha\":{\"units\":\"data\",\"value\":1},\"doc\":null,\"size\":{\"units\":\"screen\",\"value\":10},\"fill_color\":{\"value\":\"blue\"},\"line_color\":{\"value\":\"blue\"},\"x\":{\"units\":\"data\",\"field\":\"x\"},\"id\":\"ffc75395-8da6-4811-c885-f20da365339f\",\"y\":{\"units\":\"data\",\"field\":\"y\"},\"tags\":[]}},{\"id\":\"e3e101e3-7e9b-462a-c66e-db0231d9963e\",\"type\":\"GlyphRenderer\",\"attributes\":{\"name\":null,\"nonselection_glyph\":{\"type\":\"Line\",\"id\":\"ffc75395-8da6-4811-c885-f20da365339f\"},\"doc\":null,\"server_data_source\":null,\"data_source\":{\"type\":\"ColumnDataSource\",\"id\":\"35ac0dcd-c2d7-47e9-c7c6-aad71a405360\"},\"glyph\":{\"type\":\"Line\",\"id\":\"8098eaa1-a02d-4540-c5cf-8211b6989969\"},\"selection_glyph\":null,\"id\":\"e3e101e3-7e9b-462a-c66e-db0231d9963e\",\"tags\":[]}},{\"id\":\"bac18925-f8de-4306-c35a-806b09282122\",\"type\":\"ColumnDataSource\",\"attributes\":{\"data\":{\"y\":[1,2,3,4,5,6,7,8,9,10,11,12,13,14,15,16,17,18,19,20,21,22,23,24,25,26,27,28,29,30,31,32,33,34,35,36,37,38,39,40,41,42,43,44,45,46,47,48,49,50,51,52,53,54,55,56,57,58,59,60,61,62,63,64,65,66,67,68,69,70,71,72,73,74,75,76,77,78,79,80,81,82,83,84,85,86,87,88,89,90,91,92,93,94,95,96,97,98,99,100,101,102,103,104,105,106,107,108,109,110,111,112,113,114,115,116,117,118,119,120,121,122,123,124,125,126,127,128,129,130,131,132,133,134,135,136,137,138,139,140,141,142,143,144,145,146,147,148,149,150,151,152,153,154,155,156,157,158,159,160,161,162,163,164,165,166,167,168,169,170,171,172,173,174,175,176,177,178,179,180,181,182,183,184,185,186,187,188,189,190,191,192,193,194,195,196,197,198,199,200],\"x\":[1.9684684276581,1.9119029045105,1.8416432142258,1.7567150592804,1.7305601835251,1.7275252342224,1.7460207939148,1.6203664541245,1.5414878129959,1.7973185777664,1.8272477388382,1.7023108005524,1.6383429765701,1.6319018602371,1.6745923757553,1.5610058307648,1.653586268425,1.4512596130371,1.8061612844467,1.7537567615509,1.597704410553,1.7481932640076,1.6353850364685,1.6195542812347,1.4585820436478,1.4201942682266,1.348868727684,1.2827876806259,1.405669927597,1.1311610937119,1.409808754921,1.3086271286011,1.3951137065887,1.0854088068008,1.1147471666336,1.2004103660583,1.2602707147598,1.123627781868,1.2794317007065,1.2457618713379,1.0046608448029,1.1252590417862,1.1688487529755,1.3190945386887,1.1655427217484,1.2214834690094,1.2454963922501,0.93344885110855,1.0014879703522,1.0620020627975,0.94771897792816,0.76621943712234,0.95191317796707,0.7316734790802,0.81714308261871,0.68909949064255,0.85795766115189,0.78942632675171,0.83938372135162,0.69255834817886,0.77081251144409,0.57239907979965,0.82541465759277,0.91936218738556,0.68676126003265,0.75918883085251,0.67891800403595,0.69212514162064,0.81617444753647,0.76829093694687,0.64897269010544,0.61165070533752,0.6595818400383,0.54874837398529,0.46244046092033,0.49095952510834,0.41336771845818,0.37813347578049,0.49296709895134,0.63767147064209,0.47133168578148,0.44750347733498,0.43806767463684,0.38042733073235,0.45116975903511,0.38044187426567,0.34080347418785,0.52863442897797,0.37418907880783,0.25404852628708,0.3549947142601,0.40267834067345,0.29694625735283,0.49363914132118,0.27545738220215,0.32142922282219,0.24209861457348,0.38943430781364,0.30238822102547,0.258524954319,0.24761836230755,0.31161221861839,0.27435365319252,0.27539816498756,0.13056896626949,0.18559055030346,0.1730730086565,0.14201180636883,0.17725540697575,0.22463496029377,0.11183955520391,0.26139423251152,0.27574497461319,0.25630855560303,0.21628834307194,0.071723490953445,0.1387155354023,0.2263735383749,0.083346568048,0.20132912695408,0.29580980539322,0.22903418540955,0.12855660915375,0.15988244116306,0.14813438057899,0.13702183961868,0.14906440675259,0.059623960405588,0.24088671803474,0.13962011039257,0.1329759657383,0.15154582262039,0.066308923065662,0.21490314602852,0.16056622564793,0.081804782152176,0.082638747990131,0.13805064558983,0.20766258239746,0.078849315643311,0.050067901611328,0.15583723783493,0.098979733884335,0.18652738630772,0.2176228761673,0.14480209350586,0.1230890005827,0.10549428313971,0.098503664135933,0.1998094022274,0.12393537908792,0.060412168502808,0.053185913711786,0.18609291315079,0.10035518556833,0.10928721725941,0.13597640395164,0.10394007712603,0.13139696419239,0.083399541676044,0.17093446850777,0.092032238841057,0.10295420885086,0.084913700819016,0.058243963867426,0.095966920256615,0.082871526479721,0.097589008510113,0.10413366556168,0.10695445537567,0.081248559057713,0.055586446076632,0.077412471175194,0.059720035642385,0.06063487380743,0.10039932280779,0.069558881223202,0.087462373077869,0.078851595520973,0.15545970201492,0.11631844192743,0.16736328601837,0.18609918653965,0.0887291431427,0.065416097640991,0.044161982834339,0.071547508239746,0.077957034111023,0.10518495738506,0.10687681287527,0.09567791223526,0.045334540307522,0.035911023616791,0.10172542929649,0.062908194959164,0.017119962722063,0.05456966906786,0.079002924263477,0.10749542713165,0.11236767470837]},\"column_names\":[\"y\",\"x\"],\"cont_ranges\":{},\"discrete_ranges\":{},\"selected\":[],\"id\":\"bac18925-f8de-4306-c35a-806b09282122\",\"doc\":null,\"tags\":[]}},{\"id\":\"2147c563-08ee-4b19-cbe4-a707e5e3a7ac\",\"type\":\"Line\",\"attributes\":{\"fill_alpha\":{\"units\":\"data\",\"value\":0.2},\"line_alpha\":{\"units\":\"data\",\"value\":1},\"doc\":null,\"size\":{\"units\":\"screen\",\"value\":10},\"fill_color\":{\"value\":\"blue\"},\"line_color\":{\"value\":\"blue\"},\"x\":{\"units\":\"data\",\"field\":\"x\"},\"id\":\"2147c563-08ee-4b19-cbe4-a707e5e3a7ac\",\"y\":{\"units\":\"data\",\"field\":\"y\"},\"tags\":[]}},{\"id\":\"20c3458f-c893-472d-c7ea-b516d8f3887c\",\"type\":\"Line\",\"attributes\":{\"fill_alpha\":{\"units\":\"data\",\"value\":0.2},\"line_alpha\":{\"units\":\"data\",\"value\":1},\"doc\":null,\"size\":{\"units\":\"screen\",\"value\":10},\"fill_color\":{\"value\":\"blue\"},\"line_color\":{\"value\":\"blue\"},\"x\":{\"units\":\"data\",\"field\":\"x\"},\"id\":\"20c3458f-c893-472d-c7ea-b516d8f3887c\",\"y\":{\"units\":\"data\",\"field\":\"y\"},\"tags\":[]}},{\"id\":\"e20071fd-22f1-4eeb-cea5-b26656d5198f\",\"type\":\"GlyphRenderer\",\"attributes\":{\"name\":null,\"nonselection_glyph\":{\"type\":\"Line\",\"id\":\"20c3458f-c893-472d-c7ea-b516d8f3887c\"},\"doc\":null,\"server_data_source\":null,\"data_source\":{\"type\":\"ColumnDataSource\",\"id\":\"bac18925-f8de-4306-c35a-806b09282122\"},\"glyph\":{\"type\":\"Line\",\"id\":\"2147c563-08ee-4b19-cbe4-a707e5e3a7ac\"},\"selection_glyph\":null,\"id\":\"e20071fd-22f1-4eeb-cea5-b26656d5198f\",\"tags\":[]}},{\"id\":\"fbf9de6c-fa39-4c96-cc1b-5c1c04618cb6\",\"type\":\"DataRange1d\",\"attributes\":{\"sources\":[{\"columns\":[\"x\"],\"source\":{\"type\":\"ColumnDataSource\",\"id\":\"75199706-a52d-4516-c5f7-54e4115e9848\"}},{\"columns\":[\"x\"],\"source\":{\"type\":\"ColumnDataSource\",\"id\":\"d1e6ecec-50b9-4cc6-cc61-2ae76c6408fd\"}},{\"columns\":[\"x\"],\"source\":{\"type\":\"ColumnDataSource\",\"id\":\"3fd18432-8ab0-46fb-c64b-f5395079e4a9\"}},{\"columns\":[\"x\"],\"source\":{\"type\":\"ColumnDataSource\",\"id\":\"be4f4f95-b527-4d8f-cde9-2e02b81c4ed8\"}},{\"columns\":[\"x\"],\"source\":{\"type\":\"ColumnDataSource\",\"id\":\"ba512549-6d91-45cf-c599-f213c1ba95f4\"}},{\"columns\":[\"x\"],\"source\":{\"type\":\"ColumnDataSource\",\"id\":\"ec1bbe9f-750b-445b-c466-5c149f00a154\"}},{\"columns\":[\"x\"],\"source\":{\"type\":\"ColumnDataSource\",\"id\":\"2bd35c9f-27df-4cc3-ccab-859c6ffcfbdc\"}},{\"columns\":[\"x\"],\"source\":{\"type\":\"ColumnDataSource\",\"id\":\"bddc36a8-0f8b-455c-c5fa-3524bfe5a634\"}},{\"columns\":[\"x\"],\"source\":{\"type\":\"ColumnDataSource\",\"id\":\"970ff8a8-f9f1-4ba2-cb4f-17f035aea1a0\"}},{\"columns\":[\"x\"],\"source\":{\"type\":\"ColumnDataSource\",\"id\":\"d9429efd-3f36-4672-c672-a6a995104dcd\"}},{\"columns\":[\"x\"],\"source\":{\"type\":\"ColumnDataSource\",\"id\":\"b9ad490e-9ff6-4745-c7e0-67605ce7dc13\"}},{\"columns\":[\"x\"],\"source\":{\"type\":\"ColumnDataSource\",\"id\":\"35ac0dcd-c2d7-47e9-c7c6-aad71a405360\"}},{\"columns\":[\"x\"],\"source\":{\"type\":\"ColumnDataSource\",\"id\":\"bac18925-f8de-4306-c35a-806b09282122\"}}],\"id\":\"fbf9de6c-fa39-4c96-cc1b-5c1c04618cb6\",\"tags\":[],\"doc\":null}},{\"id\":\"786e4e56-96a1-4797-c77c-1c5281aec095\",\"type\":\"DataRange1d\",\"attributes\":{\"sources\":[{\"columns\":[\"y\"],\"source\":{\"type\":\"ColumnDataSource\",\"id\":\"75199706-a52d-4516-c5f7-54e4115e9848\"}},{\"columns\":[\"y\"],\"source\":{\"type\":\"ColumnDataSource\",\"id\":\"d1e6ecec-50b9-4cc6-cc61-2ae76c6408fd\"}},{\"columns\":[\"y\"],\"source\":{\"type\":\"ColumnDataSource\",\"id\":\"3fd18432-8ab0-46fb-c64b-f5395079e4a9\"}},{\"columns\":[\"y\"],\"source\":{\"type\":\"ColumnDataSource\",\"id\":\"be4f4f95-b527-4d8f-cde9-2e02b81c4ed8\"}},{\"columns\":[\"y\"],\"source\":{\"type\":\"ColumnDataSource\",\"id\":\"ba512549-6d91-45cf-c599-f213c1ba95f4\"}},{\"columns\":[\"y\"],\"source\":{\"type\":\"ColumnDataSource\",\"id\":\"ec1bbe9f-750b-445b-c466-5c149f00a154\"}},{\"columns\":[\"y\"],\"source\":{\"type\":\"ColumnDataSource\",\"id\":\"2bd35c9f-27df-4cc3-ccab-859c6ffcfbdc\"}},{\"columns\":[\"y\"],\"source\":{\"type\":\"ColumnDataSource\",\"id\":\"bddc36a8-0f8b-455c-c5fa-3524bfe5a634\"}},{\"columns\":[\"y\"],\"source\":{\"type\":\"ColumnDataSource\",\"id\":\"970ff8a8-f9f1-4ba2-cb4f-17f035aea1a0\"}},{\"columns\":[\"y\"],\"source\":{\"type\":\"ColumnDataSource\",\"id\":\"d9429efd-3f36-4672-c672-a6a995104dcd\"}},{\"columns\":[\"y\"],\"source\":{\"type\":\"ColumnDataSource\",\"id\":\"b9ad490e-9ff6-4745-c7e0-67605ce7dc13\"}},{\"columns\":[\"y\"],\"source\":{\"type\":\"ColumnDataSource\",\"id\":\"35ac0dcd-c2d7-47e9-c7c6-aad71a405360\"}},{\"columns\":[\"y\"],\"source\":{\"type\":\"ColumnDataSource\",\"id\":\"bac18925-f8de-4306-c35a-806b09282122\"}}],\"id\":\"786e4e56-96a1-4797-c77c-1c5281aec095\",\"tags\":[],\"doc\":null}},{\"id\":\"fba2a041-142b-406c-c0c9-0be5453da036\",\"type\":\"ToolEvents\",\"attributes\":{\"tags\":[],\"id\":\"fba2a041-142b-406c-c0c9-0be5453da036\",\"geometries\":[],\"doc\":null}},{\"id\":\"f6a70f69-ea55-4bf5-cb0b-73fd74787678\",\"type\":\"BasicTickFormatter\",\"attributes\":{\"id\":\"f6a70f69-ea55-4bf5-cb0b-73fd74787678\",\"tags\":[],\"doc\":null}},{\"id\":\"b9418c92-e6fc-4e00-cedc-9ef170f77adb\",\"type\":\"BasicTicker\",\"attributes\":{\"num_minor_ticks\":5,\"id\":\"b9418c92-e6fc-4e00-cedc-9ef170f77adb\",\"tags\":[],\"doc\":null}},{\"id\":\"d6350dd5-9452-45e7-c55d-a445e2af7b9c\",\"type\":\"LinearAxis\",\"attributes\":{\"formatter\":{\"type\":\"BasicTickFormatter\",\"id\":\"f6a70f69-ea55-4bf5-cb0b-73fd74787678\"},\"ticker\":{\"type\":\"BasicTicker\",\"id\":\"b9418c92-e6fc-4e00-cedc-9ef170f77adb\"},\"plot\":{\"id\":\"44b249a6-fcd5-4c74-ccb1-3919a6a77a5f\",\"type\":\"Plot\",\"subtype\":\"Figure\"},\"axis_label\":null,\"id\":\"d6350dd5-9452-45e7-c55d-a445e2af7b9c\",\"doc\":null,\"tags\":[]}},{\"id\":\"d38c3022-048d-4649-c637-ad1c7274e365\",\"type\":\"Grid\",\"attributes\":{\"dimension\":0,\"plot\":{\"id\":\"44b249a6-fcd5-4c74-ccb1-3919a6a77a5f\",\"type\":\"Plot\",\"subtype\":\"Figure\"},\"ticker\":{\"type\":\"BasicTicker\",\"id\":\"b9418c92-e6fc-4e00-cedc-9ef170f77adb\"},\"id\":\"d38c3022-048d-4649-c637-ad1c7274e365\",\"doc\":null,\"tags\":[]}},{\"id\":\"6ed035db-b29e-41ca-c190-5b310af57b5b\",\"type\":\"BasicTickFormatter\",\"attributes\":{\"id\":\"6ed035db-b29e-41ca-c190-5b310af57b5b\",\"tags\":[],\"doc\":null}},{\"id\":\"eeedc0fc-5865-4b2f-cb6f-af87665e0fb5\",\"type\":\"BasicTicker\",\"attributes\":{\"num_minor_ticks\":5,\"id\":\"eeedc0fc-5865-4b2f-cb6f-af87665e0fb5\",\"tags\":[],\"doc\":null}},{\"id\":\"02912a3a-0461-4132-c1e7-7ae6f3a2823c\",\"type\":\"LinearAxis\",\"attributes\":{\"formatter\":{\"type\":\"BasicTickFormatter\",\"id\":\"6ed035db-b29e-41ca-c190-5b310af57b5b\"},\"ticker\":{\"type\":\"BasicTicker\",\"id\":\"eeedc0fc-5865-4b2f-cb6f-af87665e0fb5\"},\"plot\":{\"id\":\"44b249a6-fcd5-4c74-ccb1-3919a6a77a5f\",\"type\":\"Plot\",\"subtype\":\"Figure\"},\"axis_label\":null,\"id\":\"02912a3a-0461-4132-c1e7-7ae6f3a2823c\",\"doc\":null,\"tags\":[]}},{\"id\":\"00bfd2e2-5e1b-4253-c240-c7c9c7ff2ce8\",\"type\":\"Grid\",\"attributes\":{\"dimension\":1,\"plot\":{\"id\":\"44b249a6-fcd5-4c74-ccb1-3919a6a77a5f\",\"type\":\"Plot\",\"subtype\":\"Figure\"},\"ticker\":{\"type\":\"BasicTicker\",\"id\":\"eeedc0fc-5865-4b2f-cb6f-af87665e0fb5\"},\"id\":\"00bfd2e2-5e1b-4253-c240-c7c9c7ff2ce8\",\"doc\":null,\"tags\":[]}},{\"id\":\"05c565dc-093f-4e26-ce8f-75510b139f87\",\"type\":\"PanTool\",\"attributes\":{\"plot\":{\"id\":\"44b249a6-fcd5-4c74-ccb1-3919a6a77a5f\",\"type\":\"Plot\",\"subtype\":\"Figure\"},\"dimensions\":[\"width\",\"height\"],\"id\":\"05c565dc-093f-4e26-ce8f-75510b139f87\",\"doc\":null,\"tags\":[]}},{\"id\":\"f892b728-56d3-4b21-cb2e-dc8a55a3ff17\",\"type\":\"WheelZoomTool\",\"attributes\":{\"plot\":{\"id\":\"44b249a6-fcd5-4c74-ccb1-3919a6a77a5f\",\"type\":\"Plot\",\"subtype\":\"Figure\"},\"dimensions\":[\"width\",\"height\"],\"id\":\"f892b728-56d3-4b21-cb2e-dc8a55a3ff17\",\"doc\":null,\"tags\":[]}},{\"id\":\"5cb527e6-8ee8-44e2-c412-a670de6ec1c3\",\"type\":\"BoxZoomTool\",\"attributes\":{\"plot\":{\"id\":\"44b249a6-fcd5-4c74-ccb1-3919a6a77a5f\",\"type\":\"Plot\",\"subtype\":\"Figure\"},\"id\":\"5cb527e6-8ee8-44e2-c412-a670de6ec1c3\",\"tags\":[],\"doc\":null}},{\"id\":\"14b6b789-2ef6-4e91-cee8-89e4208dd193\",\"type\":\"PreviewSaveTool\",\"attributes\":{\"plot\":{\"id\":\"44b249a6-fcd5-4c74-ccb1-3919a6a77a5f\",\"type\":\"Plot\",\"subtype\":\"Figure\"},\"id\":\"14b6b789-2ef6-4e91-cee8-89e4208dd193\",\"tags\":[],\"doc\":null}},{\"id\":\"a89ac8ac-f663-481e-c84f-8995c805ca40\",\"type\":\"ResizeTool\",\"attributes\":{\"plot\":{\"id\":\"44b249a6-fcd5-4c74-ccb1-3919a6a77a5f\",\"type\":\"Plot\",\"subtype\":\"Figure\"},\"id\":\"a89ac8ac-f663-481e-c84f-8995c805ca40\",\"tags\":[],\"doc\":null}},{\"id\":\"f0a80c1d-49fd-4bbc-cbdc-d9194da2a893\",\"type\":\"ResetTool\",\"attributes\":{\"plot\":{\"id\":\"44b249a6-fcd5-4c74-ccb1-3919a6a77a5f\",\"type\":\"Plot\",\"subtype\":\"Figure\"},\"id\":\"f0a80c1d-49fd-4bbc-cbdc-d9194da2a893\",\"tags\":[],\"doc\":null}},{\"id\":\"c5083ecd-8591-487d-c849-2481b455152b\",\"type\":\"Legend\",\"attributes\":{\"plot\":{\"id\":\"44b249a6-fcd5-4c74-ccb1-3919a6a77a5f\",\"type\":\"Plot\",\"subtype\":\"Figure\"},\"legends\":[[\"loss\",[{\"type\":\"GlyphRenderer\",\"id\":\"31734463-131c-4fc2-cfa9-c2afd07301f6\"}]],[\"loss\",[{\"type\":\"GlyphRenderer\",\"id\":\"7c269d03-98c3-4771-c72a-d50340aefa8d\"}]],[\"loss\",[{\"type\":\"GlyphRenderer\",\"id\":\"252d03c1-c9bc-46fe-c6f4-7c3ac38bdd5c\"}]],[\"loss\",[{\"type\":\"GlyphRenderer\",\"id\":\"04a9d657-dd4c-4871-c850-32ad01f8fc6c\"}]],[\"loss\",[{\"type\":\"GlyphRenderer\",\"id\":\"f6eaf7e8-4503-4290-c246-81c7887b8ab1\"}]],[\"loss\",[{\"type\":\"GlyphRenderer\",\"id\":\"e89fa920-e952-4883-c8b8-e52d27c19141\"}]],[\"loss\",[{\"type\":\"GlyphRenderer\",\"id\":\"a4d1d990-025d-4338-c3d1-e733e89f52e3\"}]],[\"loss\",[{\"type\":\"GlyphRenderer\",\"id\":\"5e23918a-9e6c-4e81-ce31-f47d3a8f1c8c\"}]],[\"loss\",[{\"type\":\"GlyphRenderer\",\"id\":\"99fddbbf-c947-4d98-cd9d-cfde08543b2e\"}]],[\"loss\",[{\"type\":\"GlyphRenderer\",\"id\":\"f7da0849-091d-4e82-ce77-0410d8b4e4f1\"}]],[\"loss\",[{\"type\":\"GlyphRenderer\",\"id\":\"e006cdfb-80eb-4595-c560-40766cacb47a\"}]],[\"loss\",[{\"type\":\"GlyphRenderer\",\"id\":\"e3e101e3-7e9b-462a-c66e-db0231d9963e\"}]],[\"loss\",[{\"type\":\"GlyphRenderer\",\"id\":\"e20071fd-22f1-4eeb-cea5-b26656d5198f\"}]]],\"id\":\"c5083ecd-8591-487d-c849-2481b455152b\",\"doc\":null,\"tags\":[]}},{\"id\":\"44b249a6-fcd5-4c74-ccb1-3919a6a77a5f\",\"type\":\"Plot\",\"attributes\":{\"x_range\":{\"type\":\"DataRange1d\",\"id\":\"fbf9de6c-fa39-4c96-cc1b-5c1c04618cb6\"},\"tool_events\":{\"type\":\"ToolEvents\",\"id\":\"fba2a041-142b-406c-c0c9-0be5453da036\"},\"below\":[{\"type\":\"LinearAxis\",\"id\":\"d6350dd5-9452-45e7-c55d-a445e2af7b9c\"}],\"renderers\":[{\"type\":\"GlyphRenderer\",\"id\":\"31734463-131c-4fc2-cfa9-c2afd07301f6\"},{\"type\":\"GlyphRenderer\",\"id\":\"7c269d03-98c3-4771-c72a-d50340aefa8d\"},{\"type\":\"GlyphRenderer\",\"id\":\"252d03c1-c9bc-46fe-c6f4-7c3ac38bdd5c\"},{\"type\":\"GlyphRenderer\",\"id\":\"04a9d657-dd4c-4871-c850-32ad01f8fc6c\"},{\"type\":\"GlyphRenderer\",\"id\":\"f6eaf7e8-4503-4290-c246-81c7887b8ab1\"},{\"type\":\"GlyphRenderer\",\"id\":\"e89fa920-e952-4883-c8b8-e52d27c19141\"},{\"type\":\"GlyphRenderer\",\"id\":\"a4d1d990-025d-4338-c3d1-e733e89f52e3\"},{\"type\":\"GlyphRenderer\",\"id\":\"5e23918a-9e6c-4e81-ce31-f47d3a8f1c8c\"},{\"type\":\"GlyphRenderer\",\"id\":\"99fddbbf-c947-4d98-cd9d-cfde08543b2e\"},{\"type\":\"GlyphRenderer\",\"id\":\"f7da0849-091d-4e82-ce77-0410d8b4e4f1\"},{\"type\":\"GlyphRenderer\",\"id\":\"e006cdfb-80eb-4595-c560-40766cacb47a\"},{\"type\":\"GlyphRenderer\",\"id\":\"e3e101e3-7e9b-462a-c66e-db0231d9963e\"},{\"type\":\"GlyphRenderer\",\"id\":\"e20071fd-22f1-4eeb-cea5-b26656d5198f\"},{\"type\":\"LinearAxis\",\"id\":\"d6350dd5-9452-45e7-c55d-a445e2af7b9c\"},{\"type\":\"Grid\",\"id\":\"d38c3022-048d-4649-c637-ad1c7274e365\"},{\"type\":\"LinearAxis\",\"id\":\"02912a3a-0461-4132-c1e7-7ae6f3a2823c\"},{\"type\":\"Grid\",\"id\":\"00bfd2e2-5e1b-4253-c240-c7c9c7ff2ce8\"},{\"type\":\"Legend\",\"id\":\"c5083ecd-8591-487d-c849-2481b455152b\"}],\"above\":[],\"tools\":[{\"type\":\"PanTool\",\"id\":\"05c565dc-093f-4e26-ce8f-75510b139f87\"},{\"type\":\"WheelZoomTool\",\"id\":\"f892b728-56d3-4b21-cb2e-dc8a55a3ff17\"},{\"type\":\"BoxZoomTool\",\"id\":\"5cb527e6-8ee8-44e2-c412-a670de6ec1c3\"},{\"type\":\"PreviewSaveTool\",\"id\":\"14b6b789-2ef6-4e91-cee8-89e4208dd193\"},{\"type\":\"ResizeTool\",\"id\":\"a89ac8ac-f663-481e-c84f-8995c805ca40\"},{\"type\":\"ResetTool\",\"id\":\"f0a80c1d-49fd-4bbc-cbdc-d9194da2a893\"}],\"doc\":null,\"right\":[],\"title\":\"losss\",\"extra_x_ranges\":{},\"left\":[{\"type\":\"LinearAxis\",\"id\":\"02912a3a-0461-4132-c1e7-7ae6f3a2823c\"}],\"y_range\":{\"type\":\"DataRange1d\",\"id\":\"786e4e56-96a1-4797-c77c-1c5281aec095\"},\"id\":\"44b249a6-fcd5-4c74-ccb1-3919a6a77a5f\",\"extra_y_ranges\":{},\"tags\":[]}}];\n",
        "  Bokeh.load_models(all_models);\n",
        "  var model = Bokeh.Collections(modeltype).get(modelid);\n",
        "  $(\"#e68dd2f2-4c55-43bc-c3ec-3046d30a1d3d\").html(''); // clear any previous plot in window_id\n",
        "  var view = new model.default_view({model: model, el: \"#e68dd2f2-4c55-43bc-c3ec-3046d30a1d3d\"});\n",
        "    } else {\n",
        "  load_lib(bokehjs_url, function() {\n",
        "      console.log(\"Bokeh: BokehJS plotting callback run at\", new Date())\n",
        "      var modelid = \"44b249a6-fcd5-4c74-ccb1-3919a6a77a5f\";\n",
        "      var modeltype = \"Plot\";\n",
        "      var all_models = [{\"id\":\"75199706-a52d-4516-c5f7-54e4115e9848\",\"type\":\"ColumnDataSource\",\"attributes\":{\"data\":{\"y\":[1,2,3,4,5,6,7,8,9,10,11,12,13,14,15,16,17,18,19,20,21,22,23,24,25,26,27,28,29,30,31,32,33,34,35,36,37,38,39,40,41,42,43,44,45,46,47,48,49,50,51,52,53,54,55,56,57,58,59,60,61,62,63,64,65,66,67,68,69,70,71,72,73,74,75,76,77,78,79,80,81,82,83,84,85,86,87,88,89,90,91,92,93,94,95,96,97,98,99,100,101,102,103,104,105,106,107,108,109,110,111,112,113,114,115,116,117,118,119,120,121,122,123,124,125,126,127,128,129,130,131,132,133,134,135,136,137,138,139,140,141,142,143,144,145,146,147,148,149,150,151,152,153,154,155,156,157,158,159,160,161,162,163,164,165,166,167,168,169,170,171,172,173,174,175,176,177,178,179,180,181,182,183,184,185,186,187,188,189,190,191,192,193,194,195,196,197,198,199,200],\"x\":[1.9684684276581,1.9119029045105,1.8416432142258,1.7567150592804,1.7305601835251,1.7275252342224,1.7460207939148,1.6203664541245,1.5414878129959,1.7973185777664,1.8272477388382,1.7023108005524,1.6383429765701,1.6319018602371,1.6745923757553,1.5610058307648,1.653586268425,1.4512596130371,1.8061612844467,1.7537567615509,1.597704410553,1.7481932640076,1.6353850364685,1.6195542812347,1.4585820436478,1.4201942682266,1.348868727684,1.2827876806259,1.405669927597,1.1311610937119,1.409808754921,1.3086271286011,1.3951137065887,1.0854088068008,1.1147471666336,1.2004103660583,1.2602707147598,1.123627781868,1.2794317007065,1.2457618713379,1.0046608448029,1.1252590417862,1.1688487529755,1.3190945386887,1.1655427217484,1.2214834690094,1.2454963922501,0.93344885110855,1.0014879703522,1.0620020627975,0.94771897792816,0.76621943712234,0.95191317796707,0.7316734790802,0.81714308261871,0.68909949064255,0.85795766115189,0.78942632675171,0.83938372135162,0.69255834817886,0.77081251144409,0.57239907979965,0.82541465759277,0.91936218738556,0.68676126003265,0.75918883085251,0.67891800403595,0.69212514162064,0.81617444753647,0.76829093694687,0.64897269010544,0.61165070533752,0.6595818400383,0.54874837398529,0.46244046092033,0.49095952510834,0.41336771845818,0.37813347578049,0.49296709895134,0.63767147064209,0.47133168578148,0.44750347733498,0.43806767463684,0.38042733073235,0.45116975903511,0.38044187426567,0.34080347418785,0.52863442897797,0.37418907880783,0.25404852628708,0.3549947142601,0.40267834067345,0.29694625735283,0.49363914132118,0.27545738220215,0.32142922282219,0.24209861457348,0.38943430781364,0.30238822102547,0.258524954319,0.24761836230755,0.31161221861839,0.27435365319252,0.27539816498756,0.13056896626949,0.18559055030346,0.1730730086565,0.14201180636883,0.17725540697575,0.22463496029377,0.11183955520391,0.26139423251152,0.27574497461319,0.25630855560303,0.21628834307194,0.071723490953445,0.1387155354023,0.2263735383749,0.083346568048,0.20132912695408,0.29580980539322,0.22903418540955,0.12855660915375,0.15988244116306,0.14813438057899,0.13702183961868,0.14906440675259,0.059623960405588,0.24088671803474,0.13962011039257,0.1329759657383,0.15154582262039,0.066308923065662,0.21490314602852,0.16056622564793,0.081804782152176,0.082638747990131,0.13805064558983,0.20766258239746,0.078849315643311,0.050067901611328,0.15583723783493,0.098979733884335,0.18652738630772,0.2176228761673,0.14480209350586,0.1230890005827,0.10549428313971,0.098503664135933,0.1998094022274,0.12393537908792,0.060412168502808,0.053185913711786,0.18609291315079,0.10035518556833,0.10928721725941,0.13597640395164,0.10394007712603,0.13139696419239,0.083399541676044,0.17093446850777,0.092032238841057,0.10295420885086,0.084913700819016,0.058243963867426,0.095966920256615,0.082871526479721,0.097589008510113,0.10413366556168,0.10695445537567,0.081248559057713,0.055586446076632,0.077412471175194,0.059720035642385,0.06063487380743,0.10039932280779,0.069558881223202,0.087462373077869,0.078851595520973,0.15545970201492,0.11631844192743,0.16736328601837,0.18609918653965,0.0887291431427,0.065416097640991,0.044161982834339,0.071547508239746,0.077957034111023,0.10518495738506,0.10687681287527,0.09567791223526,0.045334540307522,0.035911023616791,0.10172542929649,0.062908194959164,0.017119962722063,0.05456966906786,0.079002924263477,0.10749542713165,0.11236767470837]},\"column_names\":[\"y\",\"x\"],\"cont_ranges\":{},\"discrete_ranges\":{},\"selected\":[],\"id\":\"75199706-a52d-4516-c5f7-54e4115e9848\",\"doc\":null,\"tags\":[]}},{\"id\":\"afccc572-0606-4a01-ca54-48040d1cac2b\",\"type\":\"Line\",\"attributes\":{\"fill_alpha\":{\"units\":\"data\",\"value\":0.2},\"line_alpha\":{\"units\":\"data\",\"value\":1},\"doc\":null,\"size\":{\"units\":\"screen\",\"value\":10},\"fill_color\":{\"value\":\"blue\"},\"line_color\":{\"value\":\"blue\"},\"x\":{\"units\":\"data\",\"field\":\"x\"},\"id\":\"afccc572-0606-4a01-ca54-48040d1cac2b\",\"y\":{\"units\":\"data\",\"field\":\"y\"},\"tags\":[]}},{\"id\":\"f628153a-8fa6-4fd5-cf38-4565111b3631\",\"type\":\"Line\",\"attributes\":{\"fill_alpha\":{\"units\":\"data\",\"value\":0.2},\"line_alpha\":{\"units\":\"data\",\"value\":1},\"doc\":null,\"size\":{\"units\":\"screen\",\"value\":10},\"fill_color\":{\"value\":\"blue\"},\"line_color\":{\"value\":\"blue\"},\"x\":{\"units\":\"data\",\"field\":\"x\"},\"id\":\"f628153a-8fa6-4fd5-cf38-4565111b3631\",\"y\":{\"units\":\"data\",\"field\":\"y\"},\"tags\":[]}},{\"id\":\"31734463-131c-4fc2-cfa9-c2afd07301f6\",\"type\":\"GlyphRenderer\",\"attributes\":{\"name\":null,\"nonselection_glyph\":{\"type\":\"Line\",\"id\":\"f628153a-8fa6-4fd5-cf38-4565111b3631\"},\"doc\":null,\"server_data_source\":null,\"data_source\":{\"type\":\"ColumnDataSource\",\"id\":\"75199706-a52d-4516-c5f7-54e4115e9848\"},\"glyph\":{\"type\":\"Line\",\"id\":\"afccc572-0606-4a01-ca54-48040d1cac2b\"},\"selection_glyph\":null,\"id\":\"31734463-131c-4fc2-cfa9-c2afd07301f6\",\"tags\":[]}},{\"id\":\"d1e6ecec-50b9-4cc6-cc61-2ae76c6408fd\",\"type\":\"ColumnDataSource\",\"attributes\":{\"data\":{\"y\":[1,2,3,4,5,6,7,8,9,10,11,12,13,14,15,16,17,18,19,20,21,22,23,24,25,26,27,28,29,30,31,32,33,34,35,36,37,38,39,40,41,42,43,44,45,46,47,48,49,50,51,52,53,54,55,56,57,58,59,60,61,62,63,64,65,66,67,68,69,70,71,72,73,74,75,76,77,78,79,80,81,82,83,84,85,86,87,88,89,90,91,92,93,94,95,96,97,98,99,100,101,102,103,104,105,106,107,108,109,110,111,112,113,114,115,116,117,118,119,120,121,122,123,124,125,126,127,128,129,130,131,132,133,134,135,136,137,138,139,140,141,142,143,144,145,146,147,148,149,150,151,152,153,154,155,156,157,158,159,160,161,162,163,164,165,166,167,168,169,170,171,172,173,174,175,176,177,178,179,180,181,182,183,184,185,186,187,188,189,190,191,192,193,194,195,196,197,198,199,200],\"x\":[1.9684684276581,1.9119029045105,1.8416432142258,1.7567150592804,1.7305601835251,1.7275252342224,1.7460207939148,1.6203664541245,1.5414878129959,1.7973185777664,1.8272477388382,1.7023108005524,1.6383429765701,1.6319018602371,1.6745923757553,1.5610058307648,1.653586268425,1.4512596130371,1.8061612844467,1.7537567615509,1.597704410553,1.7481932640076,1.6353850364685,1.6195542812347,1.4585820436478,1.4201942682266,1.348868727684,1.2827876806259,1.405669927597,1.1311610937119,1.409808754921,1.3086271286011,1.3951137065887,1.0854088068008,1.1147471666336,1.2004103660583,1.2602707147598,1.123627781868,1.2794317007065,1.2457618713379,1.0046608448029,1.1252590417862,1.1688487529755,1.3190945386887,1.1655427217484,1.2214834690094,1.2454963922501,0.93344885110855,1.0014879703522,1.0620020627975,0.94771897792816,0.76621943712234,0.95191317796707,0.7316734790802,0.81714308261871,0.68909949064255,0.85795766115189,0.78942632675171,0.83938372135162,0.69255834817886,0.77081251144409,0.57239907979965,0.82541465759277,0.91936218738556,0.68676126003265,0.75918883085251,0.67891800403595,0.69212514162064,0.81617444753647,0.76829093694687,0.64897269010544,0.61165070533752,0.6595818400383,0.54874837398529,0.46244046092033,0.49095952510834,0.41336771845818,0.37813347578049,0.49296709895134,0.63767147064209,0.47133168578148,0.44750347733498,0.43806767463684,0.38042733073235,0.45116975903511,0.38044187426567,0.34080347418785,0.52863442897797,0.37418907880783,0.25404852628708,0.3549947142601,0.40267834067345,0.29694625735283,0.49363914132118,0.27545738220215,0.32142922282219,0.24209861457348,0.38943430781364,0.30238822102547,0.258524954319,0.24761836230755,0.31161221861839,0.27435365319252,0.27539816498756,0.13056896626949,0.18559055030346,0.1730730086565,0.14201180636883,0.17725540697575,0.22463496029377,0.11183955520391,0.26139423251152,0.27574497461319,0.25630855560303,0.21628834307194,0.071723490953445,0.1387155354023,0.2263735383749,0.083346568048,0.20132912695408,0.29580980539322,0.22903418540955,0.12855660915375,0.15988244116306,0.14813438057899,0.13702183961868,0.14906440675259,0.059623960405588,0.24088671803474,0.13962011039257,0.1329759657383,0.15154582262039,0.066308923065662,0.21490314602852,0.16056622564793,0.081804782152176,0.082638747990131,0.13805064558983,0.20766258239746,0.078849315643311,0.050067901611328,0.15583723783493,0.098979733884335,0.18652738630772,0.2176228761673,0.14480209350586,0.1230890005827,0.10549428313971,0.098503664135933,0.1998094022274,0.12393537908792,0.060412168502808,0.053185913711786,0.18609291315079,0.10035518556833,0.10928721725941,0.13597640395164,0.10394007712603,0.13139696419239,0.083399541676044,0.17093446850777,0.092032238841057,0.10295420885086,0.084913700819016,0.058243963867426,0.095966920256615,0.082871526479721,0.097589008510113,0.10413366556168,0.10695445537567,0.081248559057713,0.055586446076632,0.077412471175194,0.059720035642385,0.06063487380743,0.10039932280779,0.069558881223202,0.087462373077869,0.078851595520973,0.15545970201492,0.11631844192743,0.16736328601837,0.18609918653965,0.0887291431427,0.065416097640991,0.044161982834339,0.071547508239746,0.077957034111023,0.10518495738506,0.10687681287527,0.09567791223526,0.045334540307522,0.035911023616791,0.10172542929649,0.062908194959164,0.017119962722063,0.05456966906786,0.079002924263477,0.10749542713165,0.11236767470837]},\"column_names\":[\"y\",\"x\"],\"cont_ranges\":{},\"discrete_ranges\":{},\"selected\":[],\"id\":\"d1e6ecec-50b9-4cc6-cc61-2ae76c6408fd\",\"doc\":null,\"tags\":[]}},{\"id\":\"c408be76-7a6b-4d6b-cdad-6fa70d34a758\",\"type\":\"Line\",\"attributes\":{\"fill_alpha\":{\"units\":\"data\",\"value\":0.2},\"line_alpha\":{\"units\":\"data\",\"value\":1},\"doc\":null,\"size\":{\"units\":\"screen\",\"value\":10},\"fill_color\":{\"value\":\"blue\"},\"line_color\":{\"value\":\"blue\"},\"x\":{\"units\":\"data\",\"field\":\"x\"},\"id\":\"c408be76-7a6b-4d6b-cdad-6fa70d34a758\",\"y\":{\"units\":\"data\",\"field\":\"y\"},\"tags\":[]}},{\"id\":\"c23fb708-f889-4221-c2ca-4e2732e1094c\",\"type\":\"Line\",\"attributes\":{\"fill_alpha\":{\"units\":\"data\",\"value\":0.2},\"line_alpha\":{\"units\":\"data\",\"value\":1},\"doc\":null,\"size\":{\"units\":\"screen\",\"value\":10},\"fill_color\":{\"value\":\"blue\"},\"line_color\":{\"value\":\"blue\"},\"x\":{\"units\":\"data\",\"field\":\"x\"},\"id\":\"c23fb708-f889-4221-c2ca-4e2732e1094c\",\"y\":{\"units\":\"data\",\"field\":\"y\"},\"tags\":[]}},{\"id\":\"7c269d03-98c3-4771-c72a-d50340aefa8d\",\"type\":\"GlyphRenderer\",\"attributes\":{\"name\":null,\"nonselection_glyph\":{\"type\":\"Line\",\"id\":\"c23fb708-f889-4221-c2ca-4e2732e1094c\"},\"doc\":null,\"server_data_source\":null,\"data_source\":{\"type\":\"ColumnDataSource\",\"id\":\"d1e6ecec-50b9-4cc6-cc61-2ae76c6408fd\"},\"glyph\":{\"type\":\"Line\",\"id\":\"c408be76-7a6b-4d6b-cdad-6fa70d34a758\"},\"selection_glyph\":null,\"id\":\"7c269d03-98c3-4771-c72a-d50340aefa8d\",\"tags\":[]}},{\"id\":\"3fd18432-8ab0-46fb-c64b-f5395079e4a9\",\"type\":\"ColumnDataSource\",\"attributes\":{\"data\":{\"y\":[1.9684684276581,1.9119029045105,1.8416432142258,1.7567150592804,1.7305601835251,1.7275252342224,1.7460207939148,1.6203664541245,1.5414878129959,1.7973185777664,1.8272477388382,1.7023108005524,1.6383429765701,1.6319018602371,1.6745923757553,1.5610058307648,1.653586268425,1.4512596130371,1.8061612844467,1.7537567615509,1.597704410553,1.7481932640076,1.6353850364685,1.6195542812347,1.4585820436478,1.4201942682266,1.348868727684,1.2827876806259,1.405669927597,1.1311610937119,1.409808754921,1.3086271286011,1.3951137065887,1.0854088068008,1.1147471666336,1.2004103660583,1.2602707147598,1.123627781868,1.2794317007065,1.2457618713379,1.0046608448029,1.1252590417862,1.1688487529755,1.3190945386887,1.1655427217484,1.2214834690094,1.2454963922501,0.93344885110855,1.0014879703522,1.0620020627975,0.94771897792816,0.76621943712234,0.95191317796707,0.7316734790802,0.81714308261871,0.68909949064255,0.85795766115189,0.78942632675171,0.83938372135162,0.69255834817886,0.77081251144409,0.57239907979965,0.82541465759277,0.91936218738556,0.68676126003265,0.75918883085251,0.67891800403595,0.69212514162064,0.81617444753647,0.76829093694687,0.64897269010544,0.61165070533752,0.6595818400383,0.54874837398529,0.46244046092033,0.49095952510834,0.41336771845818,0.37813347578049,0.49296709895134,0.63767147064209,0.47133168578148,0.44750347733498,0.43806767463684,0.38042733073235,0.45116975903511,0.38044187426567,0.34080347418785,0.52863442897797,0.37418907880783,0.25404852628708,0.3549947142601,0.40267834067345,0.29694625735283,0.49363914132118,0.27545738220215,0.32142922282219,0.24209861457348,0.38943430781364,0.30238822102547,0.258524954319,0.24761836230755,0.31161221861839,0.27435365319252,0.27539816498756,0.13056896626949,0.18559055030346,0.1730730086565,0.14201180636883,0.17725540697575,0.22463496029377,0.11183955520391,0.26139423251152,0.27574497461319,0.25630855560303,0.21628834307194,0.071723490953445,0.1387155354023,0.2263735383749,0.083346568048,0.20132912695408,0.29580980539322,0.22903418540955,0.12855660915375,0.15988244116306,0.14813438057899,0.13702183961868,0.14906440675259,0.059623960405588,0.24088671803474,0.13962011039257,0.1329759657383,0.15154582262039,0.066308923065662,0.21490314602852,0.16056622564793,0.081804782152176,0.082638747990131,0.13805064558983,0.20766258239746,0.078849315643311,0.050067901611328,0.15583723783493,0.098979733884335,0.18652738630772,0.2176228761673,0.14480209350586,0.1230890005827,0.10549428313971,0.098503664135933,0.1998094022274,0.12393537908792,0.060412168502808,0.053185913711786,0.18609291315079,0.10035518556833,0.10928721725941,0.13597640395164,0.10394007712603,0.13139696419239,0.083399541676044,0.17093446850777,0.092032238841057,0.10295420885086,0.084913700819016,0.058243963867426,0.095966920256615,0.082871526479721,0.097589008510113,0.10413366556168,0.10695445537567,0.081248559057713,0.055586446076632,0.077412471175194,0.059720035642385,0.06063487380743,0.10039932280779,0.069558881223202,0.087462373077869,0.078851595520973,0.15545970201492,0.11631844192743,0.16736328601837,0.18609918653965,0.0887291431427,0.065416097640991,0.044161982834339,0.071547508239746,0.077957034111023,0.10518495738506,0.10687681287527,0.09567791223526,0.045334540307522,0.035911023616791,0.10172542929649,0.062908194959164,0.017119962722063,0.05456966906786,0.079002924263477,0.10749542713165,0.11236767470837],\"x\":[1,2,3,4,5,6,7,8,9,10,11,12,13,14,15,16,17,18,19,20,21,22,23,24,25,26,27,28,29,30,31,32,33,34,35,36,37,38,39,40,41,42,43,44,45,46,47,48,49,50,51,52,53,54,55,56,57,58,59,60,61,62,63,64,65,66,67,68,69,70,71,72,73,74,75,76,77,78,79,80,81,82,83,84,85,86,87,88,89,90,91,92,93,94,95,96,97,98,99,100,101,102,103,104,105,106,107,108,109,110,111,112,113,114,115,116,117,118,119,120,121,122,123,124,125,126,127,128,129,130,131,132,133,134,135,136,137,138,139,140,141,142,143,144,145,146,147,148,149,150,151,152,153,154,155,156,157,158,159,160,161,162,163,164,165,166,167,168,169,170,171,172,173,174,175,176,177,178,179,180,181,182,183,184,185,186,187,188,189,190,191,192,193,194,195,196,197,198,199,200]},\"column_names\":[\"y\",\"x\"],\"cont_ranges\":{},\"discrete_ranges\":{},\"selected\":[],\"id\":\"3fd18432-8ab0-46fb-c64b-f5395079e4a9\",\"doc\":null,\"tags\":[]}},{\"id\":\"e4c31ebf-3ce7-456f-c57c-40013c0c7d79\",\"type\":\"Line\",\"attributes\":{\"fill_alpha\":{\"units\":\"data\",\"value\":0.2},\"line_alpha\":{\"units\":\"data\",\"value\":1},\"doc\":null,\"size\":{\"units\":\"screen\",\"value\":10},\"fill_color\":{\"value\":\"blue\"},\"line_color\":{\"value\":\"blue\"},\"x\":{\"units\":\"data\",\"field\":\"x\"},\"id\":\"e4c31ebf-3ce7-456f-c57c-40013c0c7d79\",\"y\":{\"units\":\"data\",\"field\":\"y\"},\"tags\":[]}},{\"id\":\"f4489a9c-afbf-4979-c945-f604e447f979\",\"type\":\"Line\",\"attributes\":{\"fill_alpha\":{\"units\":\"data\",\"value\":0.2},\"line_alpha\":{\"units\":\"data\",\"value\":1},\"doc\":null,\"size\":{\"units\":\"screen\",\"value\":10},\"fill_color\":{\"value\":\"blue\"},\"line_color\":{\"value\":\"blue\"},\"x\":{\"units\":\"data\",\"field\":\"x\"},\"id\":\"f4489a9c-afbf-4979-c945-f604e447f979\",\"y\":{\"units\":\"data\",\"field\":\"y\"},\"tags\":[]}},{\"id\":\"252d03c1-c9bc-46fe-c6f4-7c3ac38bdd5c\",\"type\":\"GlyphRenderer\",\"attributes\":{\"name\":null,\"nonselection_glyph\":{\"type\":\"Line\",\"id\":\"f4489a9c-afbf-4979-c945-f604e447f979\"},\"doc\":null,\"server_data_source\":null,\"data_source\":{\"type\":\"ColumnDataSource\",\"id\":\"3fd18432-8ab0-46fb-c64b-f5395079e4a9\"},\"glyph\":{\"type\":\"Line\",\"id\":\"e4c31ebf-3ce7-456f-c57c-40013c0c7d79\"},\"selection_glyph\":null,\"id\":\"252d03c1-c9bc-46fe-c6f4-7c3ac38bdd5c\",\"tags\":[]}},{\"id\":\"be4f4f95-b527-4d8f-cde9-2e02b81c4ed8\",\"type\":\"ColumnDataSource\",\"attributes\":{\"data\":{\"y\":[1.9684684276581,1.9119029045105,1.8416432142258,1.7567150592804,1.7305601835251,1.7275252342224,1.7460207939148,1.6203664541245,1.5414878129959,1.7973185777664,1.8272477388382,1.7023108005524,1.6383429765701,1.6319018602371,1.6745923757553,1.5610058307648,1.653586268425,1.4512596130371,1.8061612844467,1.7537567615509,1.597704410553,1.7481932640076,1.6353850364685,1.6195542812347,1.4585820436478,1.4201942682266,1.348868727684,1.2827876806259,1.405669927597,1.1311610937119,1.409808754921,1.3086271286011,1.3951137065887,1.0854088068008,1.1147471666336,1.2004103660583,1.2602707147598,1.123627781868,1.2794317007065,1.2457618713379,1.0046608448029,1.1252590417862,1.1688487529755,1.3190945386887,1.1655427217484,1.2214834690094,1.2454963922501,0.93344885110855,1.0014879703522,1.0620020627975,0.94771897792816,0.76621943712234,0.95191317796707,0.7316734790802,0.81714308261871,0.68909949064255,0.85795766115189,0.78942632675171,0.83938372135162,0.69255834817886,0.77081251144409,0.57239907979965,0.82541465759277,0.91936218738556,0.68676126003265,0.75918883085251,0.67891800403595,0.69212514162064,0.81617444753647,0.76829093694687,0.64897269010544,0.61165070533752,0.6595818400383,0.54874837398529,0.46244046092033,0.49095952510834,0.41336771845818,0.37813347578049,0.49296709895134,0.63767147064209,0.47133168578148,0.44750347733498,0.43806767463684,0.38042733073235,0.45116975903511,0.38044187426567,0.34080347418785,0.52863442897797,0.37418907880783,0.25404852628708,0.3549947142601,0.40267834067345,0.29694625735283,0.49363914132118,0.27545738220215,0.32142922282219,0.24209861457348,0.38943430781364,0.30238822102547,0.258524954319,0.24761836230755,0.31161221861839,0.27435365319252,0.27539816498756,0.13056896626949,0.18559055030346,0.1730730086565,0.14201180636883,0.17725540697575,0.22463496029377,0.11183955520391,0.26139423251152,0.27574497461319,0.25630855560303,0.21628834307194,0.071723490953445,0.1387155354023,0.2263735383749,0.083346568048,0.20132912695408,0.29580980539322,0.22903418540955,0.12855660915375,0.15988244116306,0.14813438057899,0.13702183961868,0.14906440675259,0.059623960405588,0.24088671803474,0.13962011039257,0.1329759657383,0.15154582262039,0.066308923065662,0.21490314602852,0.16056622564793,0.081804782152176,0.082638747990131,0.13805064558983,0.20766258239746,0.078849315643311,0.050067901611328,0.15583723783493,0.098979733884335,0.18652738630772,0.2176228761673,0.14480209350586,0.1230890005827,0.10549428313971,0.098503664135933,0.1998094022274,0.12393537908792,0.060412168502808,0.053185913711786,0.18609291315079,0.10035518556833,0.10928721725941,0.13597640395164,0.10394007712603,0.13139696419239,0.083399541676044,0.17093446850777,0.092032238841057,0.10295420885086,0.084913700819016,0.058243963867426,0.095966920256615,0.082871526479721,0.097589008510113,0.10413366556168,0.10695445537567,0.081248559057713,0.055586446076632,0.077412471175194,0.059720035642385,0.06063487380743,0.10039932280779,0.069558881223202,0.087462373077869,0.078851595520973,0.15545970201492,0.11631844192743,0.16736328601837,0.18609918653965,0.0887291431427,0.065416097640991,0.044161982834339,0.071547508239746,0.077957034111023,0.10518495738506,0.10687681287527,0.09567791223526,0.045334540307522,0.035911023616791,0.10172542929649,0.062908194959164,0.017119962722063,0.05456966906786,0.079002924263477,0.10749542713165,0.11236767470837],\"x\":[1,2,3,4,5,6,7,8,9,10,11,12,13,14,15,16,17,18,19,20,21,22,23,24,25,26,27,28,29,30,31,32,33,34,35,36,37,38,39,40,41,42,43,44,45,46,47,48,49,50,51,52,53,54,55,56,57,58,59,60,61,62,63,64,65,66,67,68,69,70,71,72,73,74,75,76,77,78,79,80,81,82,83,84,85,86,87,88,89,90,91,92,93,94,95,96,97,98,99,100,101,102,103,104,105,106,107,108,109,110,111,112,113,114,115,116,117,118,119,120,121,122,123,124,125,126,127,128,129,130,131,132,133,134,135,136,137,138,139,140,141,142,143,144,145,146,147,148,149,150,151,152,153,154,155,156,157,158,159,160,161,162,163,164,165,166,167,168,169,170,171,172,173,174,175,176,177,178,179,180,181,182,183,184,185,186,187,188,189,190,191,192,193,194,195,196,197,198,199,200]},\"column_names\":[\"y\",\"x\"],\"cont_ranges\":{},\"discrete_ranges\":{},\"selected\":[],\"id\":\"be4f4f95-b527-4d8f-cde9-2e02b81c4ed8\",\"doc\":null,\"tags\":[]}},{\"id\":\"6363df15-5be0-47c0-c7bc-a46d3ea0f0c3\",\"type\":\"Line\",\"attributes\":{\"fill_alpha\":{\"units\":\"data\",\"value\":0.2},\"line_alpha\":{\"units\":\"data\",\"value\":1},\"doc\":null,\"size\":{\"units\":\"screen\",\"value\":10},\"fill_color\":{\"value\":\"blue\"},\"line_color\":{\"value\":\"blue\"},\"x\":{\"units\":\"data\",\"field\":\"x\"},\"id\":\"6363df15-5be0-47c0-c7bc-a46d3ea0f0c3\",\"y\":{\"units\":\"data\",\"field\":\"y\"},\"tags\":[]}},{\"id\":\"edcfa5d2-f215-4080-c0fd-ba38f1562444\",\"type\":\"Line\",\"attributes\":{\"fill_alpha\":{\"units\":\"data\",\"value\":0.2},\"line_alpha\":{\"units\":\"data\",\"value\":1},\"doc\":null,\"size\":{\"units\":\"screen\",\"value\":10},\"fill_color\":{\"value\":\"blue\"},\"line_color\":{\"value\":\"blue\"},\"x\":{\"units\":\"data\",\"field\":\"x\"},\"id\":\"edcfa5d2-f215-4080-c0fd-ba38f1562444\",\"y\":{\"units\":\"data\",\"field\":\"y\"},\"tags\":[]}},{\"id\":\"04a9d657-dd4c-4871-c850-32ad01f8fc6c\",\"type\":\"GlyphRenderer\",\"attributes\":{\"name\":null,\"nonselection_glyph\":{\"type\":\"Line\",\"id\":\"edcfa5d2-f215-4080-c0fd-ba38f1562444\"},\"doc\":null,\"server_data_source\":null,\"data_source\":{\"type\":\"ColumnDataSource\",\"id\":\"be4f4f95-b527-4d8f-cde9-2e02b81c4ed8\"},\"glyph\":{\"type\":\"Line\",\"id\":\"6363df15-5be0-47c0-c7bc-a46d3ea0f0c3\"},\"selection_glyph\":null,\"id\":\"04a9d657-dd4c-4871-c850-32ad01f8fc6c\",\"tags\":[]}},{\"id\":\"ba512549-6d91-45cf-c599-f213c1ba95f4\",\"type\":\"ColumnDataSource\",\"attributes\":{\"data\":{\"y\":[1.9684684276581,1.9119029045105,1.8416432142258,1.7567150592804,1.7305601835251,1.7275252342224,1.7460207939148,1.6203664541245,1.5414878129959,1.7973185777664,1.8272477388382,1.7023108005524,1.6383429765701,1.6319018602371,1.6745923757553,1.5610058307648,1.653586268425,1.4512596130371,1.8061612844467,1.7537567615509,1.597704410553,1.7481932640076,1.6353850364685,1.6195542812347,1.4585820436478,1.4201942682266,1.348868727684,1.2827876806259,1.405669927597,1.1311610937119,1.409808754921,1.3086271286011,1.3951137065887,1.0854088068008,1.1147471666336,1.2004103660583,1.2602707147598,1.123627781868,1.2794317007065,1.2457618713379,1.0046608448029,1.1252590417862,1.1688487529755,1.3190945386887,1.1655427217484,1.2214834690094,1.2454963922501,0.93344885110855,1.0014879703522,1.0620020627975,0.94771897792816,0.76621943712234,0.95191317796707,0.7316734790802,0.81714308261871,0.68909949064255,0.85795766115189,0.78942632675171,0.83938372135162,0.69255834817886,0.77081251144409,0.57239907979965,0.82541465759277,0.91936218738556,0.68676126003265,0.75918883085251,0.67891800403595,0.69212514162064,0.81617444753647,0.76829093694687,0.64897269010544,0.61165070533752,0.6595818400383,0.54874837398529,0.46244046092033,0.49095952510834,0.41336771845818,0.37813347578049,0.49296709895134,0.63767147064209,0.47133168578148,0.44750347733498,0.43806767463684,0.38042733073235,0.45116975903511,0.38044187426567,0.34080347418785,0.52863442897797,0.37418907880783,0.25404852628708,0.3549947142601,0.40267834067345,0.29694625735283,0.49363914132118,0.27545738220215,0.32142922282219,0.24209861457348,0.38943430781364,0.30238822102547,0.258524954319,0.24761836230755,0.31161221861839,0.27435365319252,0.27539816498756,0.13056896626949,0.18559055030346,0.1730730086565,0.14201180636883,0.17725540697575,0.22463496029377,0.11183955520391,0.26139423251152,0.27574497461319,0.25630855560303,0.21628834307194,0.071723490953445,0.1387155354023,0.2263735383749,0.083346568048,0.20132912695408,0.29580980539322,0.22903418540955,0.12855660915375,0.15988244116306,0.14813438057899,0.13702183961868,0.14906440675259,0.059623960405588,0.24088671803474,0.13962011039257,0.1329759657383,0.15154582262039,0.066308923065662,0.21490314602852,0.16056622564793,0.081804782152176,0.082638747990131,0.13805064558983,0.20766258239746,0.078849315643311,0.050067901611328,0.15583723783493,0.098979733884335,0.18652738630772,0.2176228761673,0.14480209350586,0.1230890005827,0.10549428313971,0.098503664135933,0.1998094022274,0.12393537908792,0.060412168502808,0.053185913711786,0.18609291315079,0.10035518556833,0.10928721725941,0.13597640395164,0.10394007712603,0.13139696419239,0.083399541676044,0.17093446850777,0.092032238841057,0.10295420885086,0.084913700819016,0.058243963867426,0.095966920256615,0.082871526479721,0.097589008510113,0.10413366556168,0.10695445537567,0.081248559057713,0.055586446076632,0.077412471175194,0.059720035642385,0.06063487380743,0.10039932280779,0.069558881223202,0.087462373077869,0.078851595520973,0.15545970201492,0.11631844192743,0.16736328601837,0.18609918653965,0.0887291431427,0.065416097640991,0.044161982834339,0.071547508239746,0.077957034111023,0.10518495738506,0.10687681287527,0.09567791223526,0.045334540307522,0.035911023616791,0.10172542929649,0.062908194959164,0.017119962722063,0.05456966906786,0.079002924263477,0.10749542713165,0.11236767470837],\"x\":[1.9684684276581,1.9119029045105,1.8416432142258,1.7567150592804,1.7305601835251,1.7275252342224,1.7460207939148,1.6203664541245,1.5414878129959,1.7973185777664,1.8272477388382,1.7023108005524,1.6383429765701,1.6319018602371,1.6745923757553,1.5610058307648,1.653586268425,1.4512596130371,1.8061612844467,1.7537567615509,1.597704410553,1.7481932640076,1.6353850364685,1.6195542812347,1.4585820436478,1.4201942682266,1.348868727684,1.2827876806259,1.405669927597,1.1311610937119,1.409808754921,1.3086271286011,1.3951137065887,1.0854088068008,1.1147471666336,1.2004103660583,1.2602707147598,1.123627781868,1.2794317007065,1.2457618713379,1.0046608448029,1.1252590417862,1.1688487529755,1.3190945386887,1.1655427217484,1.2214834690094,1.2454963922501,0.93344885110855,1.0014879703522,1.0620020627975,0.94771897792816,0.76621943712234,0.95191317796707,0.7316734790802,0.81714308261871,0.68909949064255,0.85795766115189,0.78942632675171,0.83938372135162,0.69255834817886,0.77081251144409,0.57239907979965,0.82541465759277,0.91936218738556,0.68676126003265,0.75918883085251,0.67891800403595,0.69212514162064,0.81617444753647,0.76829093694687,0.64897269010544,0.61165070533752,0.6595818400383,0.54874837398529,0.46244046092033,0.49095952510834,0.41336771845818,0.37813347578049,0.49296709895134,0.63767147064209,0.47133168578148,0.44750347733498,0.43806767463684,0.38042733073235,0.45116975903511,0.38044187426567,0.34080347418785,0.52863442897797,0.37418907880783,0.25404852628708,0.3549947142601,0.40267834067345,0.29694625735283,0.49363914132118,0.27545738220215,0.32142922282219,0.24209861457348,0.38943430781364,0.30238822102547,0.258524954319,0.24761836230755,0.31161221861839,0.27435365319252,0.27539816498756,0.13056896626949,0.18559055030346,0.1730730086565,0.14201180636883,0.17725540697575,0.22463496029377,0.11183955520391,0.26139423251152,0.27574497461319,0.25630855560303,0.21628834307194,0.071723490953445,0.1387155354023,0.2263735383749,0.083346568048,0.20132912695408,0.29580980539322,0.22903418540955,0.12855660915375,0.15988244116306,0.14813438057899,0.13702183961868,0.14906440675259,0.059623960405588,0.24088671803474,0.13962011039257,0.1329759657383,0.15154582262039,0.066308923065662,0.21490314602852,0.16056622564793,0.081804782152176,0.082638747990131,0.13805064558983,0.20766258239746,0.078849315643311,0.050067901611328,0.15583723783493,0.098979733884335,0.18652738630772,0.2176228761673,0.14480209350586,0.1230890005827,0.10549428313971,0.098503664135933,0.1998094022274,0.12393537908792,0.060412168502808,0.053185913711786,0.18609291315079,0.10035518556833,0.10928721725941,0.13597640395164,0.10394007712603,0.13139696419239,0.083399541676044,0.17093446850777,0.092032238841057,0.10295420885086,0.084913700819016,0.058243963867426,0.095966920256615,0.082871526479721,0.097589008510113,0.10413366556168,0.10695445537567,0.081248559057713,0.055586446076632,0.077412471175194,0.059720035642385,0.06063487380743,0.10039932280779,0.069558881223202,0.087462373077869,0.078851595520973,0.15545970201492,0.11631844192743,0.16736328601837,0.18609918653965,0.0887291431427,0.065416097640991,0.044161982834339,0.071547508239746,0.077957034111023,0.10518495738506,0.10687681287527,0.09567791223526,0.045334540307522,0.035911023616791,0.10172542929649,0.062908194959164,0.017119962722063,0.05456966906786,0.079002924263477,0.10749542713165,0.11236767470837]},\"column_names\":[\"y\",\"x\"],\"cont_ranges\":{},\"discrete_ranges\":{},\"selected\":[],\"id\":\"ba512549-6d91-45cf-c599-f213c1ba95f4\",\"doc\":null,\"tags\":[]}},{\"id\":\"caa9fda9-1ce0-4222-c2dc-313f1e170fed\",\"type\":\"Line\",\"attributes\":{\"fill_alpha\":{\"units\":\"data\",\"value\":0.2},\"line_alpha\":{\"units\":\"data\",\"value\":1},\"doc\":null,\"size\":{\"units\":\"screen\",\"value\":10},\"fill_color\":{\"value\":\"blue\"},\"line_color\":{\"value\":\"blue\"},\"x\":{\"units\":\"data\",\"field\":\"x\"},\"id\":\"caa9fda9-1ce0-4222-c2dc-313f1e170fed\",\"y\":{\"units\":\"data\",\"field\":\"y\"},\"tags\":[]}},{\"id\":\"07261531-7a95-4c14-cc9d-8729a92a5062\",\"type\":\"Line\",\"attributes\":{\"fill_alpha\":{\"units\":\"data\",\"value\":0.2},\"line_alpha\":{\"units\":\"data\",\"value\":1},\"doc\":null,\"size\":{\"units\":\"screen\",\"value\":10},\"fill_color\":{\"value\":\"blue\"},\"line_color\":{\"value\":\"blue\"},\"x\":{\"units\":\"data\",\"field\":\"x\"},\"id\":\"07261531-7a95-4c14-cc9d-8729a92a5062\",\"y\":{\"units\":\"data\",\"field\":\"y\"},\"tags\":[]}},{\"id\":\"f6eaf7e8-4503-4290-c246-81c7887b8ab1\",\"type\":\"GlyphRenderer\",\"attributes\":{\"name\":null,\"nonselection_glyph\":{\"type\":\"Line\",\"id\":\"07261531-7a95-4c14-cc9d-8729a92a5062\"},\"doc\":null,\"server_data_source\":null,\"data_source\":{\"type\":\"ColumnDataSource\",\"id\":\"ba512549-6d91-45cf-c599-f213c1ba95f4\"},\"glyph\":{\"type\":\"Line\",\"id\":\"caa9fda9-1ce0-4222-c2dc-313f1e170fed\"},\"selection_glyph\":null,\"id\":\"f6eaf7e8-4503-4290-c246-81c7887b8ab1\",\"tags\":[]}},{\"id\":\"ec1bbe9f-750b-445b-c466-5c149f00a154\",\"type\":\"ColumnDataSource\",\"attributes\":{\"data\":{\"y\":[1,2,3,4,5,6,7,8,9,10,11,12,13,14,15,16,17,18,19,20,21,22,23,24,25,26,27,28,29,30,31,32,33,34,35,36,37,38,39,40,41,42,43,44,45,46,47,48,49,50,51,52,53,54,55,56,57,58,59,60,61,62,63,64,65,66,67,68,69,70,71,72,73,74,75,76,77,78,79,80,81,82,83,84,85,86,87,88,89,90,91,92,93,94,95,96,97,98,99,100,101,102,103,104,105,106,107,108,109,110,111,112,113,114,115,116,117,118,119,120,121,122,123,124,125,126,127,128,129,130,131,132,133,134,135,136,137,138,139,140,141,142,143,144,145,146,147,148,149,150,151,152,153,154,155,156,157,158,159,160,161,162,163,164,165,166,167,168,169,170,171,172,173,174,175,176,177,178,179,180,181,182,183,184,185,186,187,188,189,190,191,192,193,194,195,196,197,198,199,200],\"x\":[1.9684684276581,1.9119029045105,1.8416432142258,1.7567150592804,1.7305601835251,1.7275252342224,1.7460207939148,1.6203664541245,1.5414878129959,1.7973185777664,1.8272477388382,1.7023108005524,1.6383429765701,1.6319018602371,1.6745923757553,1.5610058307648,1.653586268425,1.4512596130371,1.8061612844467,1.7537567615509,1.597704410553,1.7481932640076,1.6353850364685,1.6195542812347,1.4585820436478,1.4201942682266,1.348868727684,1.2827876806259,1.405669927597,1.1311610937119,1.409808754921,1.3086271286011,1.3951137065887,1.0854088068008,1.1147471666336,1.2004103660583,1.2602707147598,1.123627781868,1.2794317007065,1.2457618713379,1.0046608448029,1.1252590417862,1.1688487529755,1.3190945386887,1.1655427217484,1.2214834690094,1.2454963922501,0.93344885110855,1.0014879703522,1.0620020627975,0.94771897792816,0.76621943712234,0.95191317796707,0.7316734790802,0.81714308261871,0.68909949064255,0.85795766115189,0.78942632675171,0.83938372135162,0.69255834817886,0.77081251144409,0.57239907979965,0.82541465759277,0.91936218738556,0.68676126003265,0.75918883085251,0.67891800403595,0.69212514162064,0.81617444753647,0.76829093694687,0.64897269010544,0.61165070533752,0.6595818400383,0.54874837398529,0.46244046092033,0.49095952510834,0.41336771845818,0.37813347578049,0.49296709895134,0.63767147064209,0.47133168578148,0.44750347733498,0.43806767463684,0.38042733073235,0.45116975903511,0.38044187426567,0.34080347418785,0.52863442897797,0.37418907880783,0.25404852628708,0.3549947142601,0.40267834067345,0.29694625735283,0.49363914132118,0.27545738220215,0.32142922282219,0.24209861457348,0.38943430781364,0.30238822102547,0.258524954319,0.24761836230755,0.31161221861839,0.27435365319252,0.27539816498756,0.13056896626949,0.18559055030346,0.1730730086565,0.14201180636883,0.17725540697575,0.22463496029377,0.11183955520391,0.26139423251152,0.27574497461319,0.25630855560303,0.21628834307194,0.071723490953445,0.1387155354023,0.2263735383749,0.083346568048,0.20132912695408,0.29580980539322,0.22903418540955,0.12855660915375,0.15988244116306,0.14813438057899,0.13702183961868,0.14906440675259,0.059623960405588,0.24088671803474,0.13962011039257,0.1329759657383,0.15154582262039,0.066308923065662,0.21490314602852,0.16056622564793,0.081804782152176,0.082638747990131,0.13805064558983,0.20766258239746,0.078849315643311,0.050067901611328,0.15583723783493,0.098979733884335,0.18652738630772,0.2176228761673,0.14480209350586,0.1230890005827,0.10549428313971,0.098503664135933,0.1998094022274,0.12393537908792,0.060412168502808,0.053185913711786,0.18609291315079,0.10035518556833,0.10928721725941,0.13597640395164,0.10394007712603,0.13139696419239,0.083399541676044,0.17093446850777,0.092032238841057,0.10295420885086,0.084913700819016,0.058243963867426,0.095966920256615,0.082871526479721,0.097589008510113,0.10413366556168,0.10695445537567,0.081248559057713,0.055586446076632,0.077412471175194,0.059720035642385,0.06063487380743,0.10039932280779,0.069558881223202,0.087462373077869,0.078851595520973,0.15545970201492,0.11631844192743,0.16736328601837,0.18609918653965,0.0887291431427,0.065416097640991,0.044161982834339,0.071547508239746,0.077957034111023,0.10518495738506,0.10687681287527,0.09567791223526,0.045334540307522,0.035911023616791,0.10172542929649,0.062908194959164,0.017119962722063,0.05456966906786,0.079002924263477,0.10749542713165,0.11236767470837]},\"column_names\":[\"y\",\"x\"],\"cont_ranges\":{},\"discrete_ranges\":{},\"selected\":[],\"id\":\"ec1bbe9f-750b-445b-c466-5c149f00a154\",\"doc\":null,\"tags\":[]}},{\"id\":\"b234ceb4-879a-4259-c21f-a3db6c7bfcab\",\"type\":\"Line\",\"attributes\":{\"fill_alpha\":{\"units\":\"data\",\"value\":0.2},\"line_alpha\":{\"units\":\"data\",\"value\":1},\"doc\":null,\"size\":{\"units\":\"screen\",\"value\":10},\"fill_color\":{\"value\":\"blue\"},\"line_color\":{\"value\":\"blue\"},\"x\":{\"units\":\"data\",\"field\":\"x\"},\"id\":\"b234ceb4-879a-4259-c21f-a3db6c7bfcab\",\"y\":{\"units\":\"data\",\"field\":\"y\"},\"tags\":[]}},{\"id\":\"7a5f8369-578c-4e6b-ce14-4e1b6ec6751c\",\"type\":\"Line\",\"attributes\":{\"fill_alpha\":{\"units\":\"data\",\"value\":0.2},\"line_alpha\":{\"units\":\"data\",\"value\":1},\"doc\":null,\"size\":{\"units\":\"screen\",\"value\":10},\"fill_color\":{\"value\":\"blue\"},\"line_color\":{\"value\":\"blue\"},\"x\":{\"units\":\"data\",\"field\":\"x\"},\"id\":\"7a5f8369-578c-4e6b-ce14-4e1b6ec6751c\",\"y\":{\"units\":\"data\",\"field\":\"y\"},\"tags\":[]}},{\"id\":\"e89fa920-e952-4883-c8b8-e52d27c19141\",\"type\":\"GlyphRenderer\",\"attributes\":{\"name\":null,\"nonselection_glyph\":{\"type\":\"Line\",\"id\":\"7a5f8369-578c-4e6b-ce14-4e1b6ec6751c\"},\"doc\":null,\"server_data_source\":null,\"data_source\":{\"type\":\"ColumnDataSource\",\"id\":\"ec1bbe9f-750b-445b-c466-5c149f00a154\"},\"glyph\":{\"type\":\"Line\",\"id\":\"b234ceb4-879a-4259-c21f-a3db6c7bfcab\"},\"selection_glyph\":null,\"id\":\"e89fa920-e952-4883-c8b8-e52d27c19141\",\"tags\":[]}},{\"id\":\"2bd35c9f-27df-4cc3-ccab-859c6ffcfbdc\",\"type\":\"ColumnDataSource\",\"attributes\":{\"data\":{\"y\":[1.9684684276581,1.9119029045105,1.8416432142258,1.7567150592804,1.7305601835251,1.7275252342224,1.7460207939148,1.6203664541245,1.5414878129959,1.7973185777664,1.8272477388382,1.7023108005524,1.6383429765701,1.6319018602371,1.6745923757553,1.5610058307648,1.653586268425,1.4512596130371,1.8061612844467,1.7537567615509,1.597704410553,1.7481932640076,1.6353850364685,1.6195542812347,1.4585820436478,1.4201942682266,1.348868727684,1.2827876806259,1.405669927597,1.1311610937119,1.409808754921,1.3086271286011,1.3951137065887,1.0854088068008,1.1147471666336,1.2004103660583,1.2602707147598,1.123627781868,1.2794317007065,1.2457618713379,1.0046608448029,1.1252590417862,1.1688487529755,1.3190945386887,1.1655427217484,1.2214834690094,1.2454963922501,0.93344885110855,1.0014879703522,1.0620020627975,0.94771897792816,0.76621943712234,0.95191317796707,0.7316734790802,0.81714308261871,0.68909949064255,0.85795766115189,0.78942632675171,0.83938372135162,0.69255834817886,0.77081251144409,0.57239907979965,0.82541465759277,0.91936218738556,0.68676126003265,0.75918883085251,0.67891800403595,0.69212514162064,0.81617444753647,0.76829093694687,0.64897269010544,0.61165070533752,0.6595818400383,0.54874837398529,0.46244046092033,0.49095952510834,0.41336771845818,0.37813347578049,0.49296709895134,0.63767147064209,0.47133168578148,0.44750347733498,0.43806767463684,0.38042733073235,0.45116975903511,0.38044187426567,0.34080347418785,0.52863442897797,0.37418907880783,0.25404852628708,0.3549947142601,0.40267834067345,0.29694625735283,0.49363914132118,0.27545738220215,0.32142922282219,0.24209861457348,0.38943430781364,0.30238822102547,0.258524954319,0.24761836230755,0.31161221861839,0.27435365319252,0.27539816498756,0.13056896626949,0.18559055030346,0.1730730086565,0.14201180636883,0.17725540697575,0.22463496029377,0.11183955520391,0.26139423251152,0.27574497461319,0.25630855560303,0.21628834307194,0.071723490953445,0.1387155354023,0.2263735383749,0.083346568048,0.20132912695408,0.29580980539322,0.22903418540955,0.12855660915375,0.15988244116306,0.14813438057899,0.13702183961868,0.14906440675259,0.059623960405588,0.24088671803474,0.13962011039257,0.1329759657383,0.15154582262039,0.066308923065662,0.21490314602852,0.16056622564793,0.081804782152176,0.082638747990131,0.13805064558983,0.20766258239746,0.078849315643311,0.050067901611328,0.15583723783493,0.098979733884335,0.18652738630772,0.2176228761673,0.14480209350586,0.1230890005827,0.10549428313971,0.098503664135933,0.1998094022274,0.12393537908792,0.060412168502808,0.053185913711786,0.18609291315079,0.10035518556833,0.10928721725941,0.13597640395164,0.10394007712603,0.13139696419239,0.083399541676044,0.17093446850777,0.092032238841057,0.10295420885086,0.084913700819016,0.058243963867426,0.095966920256615,0.082871526479721,0.097589008510113,0.10413366556168,0.10695445537567,0.081248559057713,0.055586446076632,0.077412471175194,0.059720035642385,0.06063487380743,0.10039932280779,0.069558881223202,0.087462373077869,0.078851595520973,0.15545970201492,0.11631844192743,0.16736328601837,0.18609918653965,0.0887291431427,0.065416097640991,0.044161982834339,0.071547508239746,0.077957034111023,0.10518495738506,0.10687681287527,0.09567791223526,0.045334540307522,0.035911023616791,0.10172542929649,0.062908194959164,0.017119962722063,0.05456966906786,0.079002924263477,0.10749542713165,0.11236767470837],\"x\":[1,2,3,4,5,6,7,8,9,10,11,12,13,14,15,16,17,18,19,20,21,22,23,24,25,26,27,28,29,30,31,32,33,34,35,36,37,38,39,40,41,42,43,44,45,46,47,48,49,50,51,52,53,54,55,56,57,58,59,60,61,62,63,64,65,66,67,68,69,70,71,72,73,74,75,76,77,78,79,80,81,82,83,84,85,86,87,88,89,90,91,92,93,94,95,96,97,98,99,100,101,102,103,104,105,106,107,108,109,110,111,112,113,114,115,116,117,118,119,120,121,122,123,124,125,126,127,128,129,130,131,132,133,134,135,136,137,138,139,140,141,142,143,144,145,146,147,148,149,150,151,152,153,154,155,156,157,158,159,160,161,162,163,164,165,166,167,168,169,170,171,172,173,174,175,176,177,178,179,180,181,182,183,184,185,186,187,188,189,190,191,192,193,194,195,196,197,198,199,200]},\"column_names\":[\"y\",\"x\"],\"cont_ranges\":{},\"discrete_ranges\":{},\"selected\":[],\"id\":\"2bd35c9f-27df-4cc3-ccab-859c6ffcfbdc\",\"doc\":null,\"tags\":[]}},{\"id\":\"17cb3292-5c2f-472a-c73a-76279f625af4\",\"type\":\"Line\",\"attributes\":{\"fill_alpha\":{\"units\":\"data\",\"value\":0.2},\"line_alpha\":{\"units\":\"data\",\"value\":1},\"doc\":null,\"size\":{\"units\":\"screen\",\"value\":10},\"fill_color\":{\"value\":\"blue\"},\"line_color\":{\"value\":\"blue\"},\"x\":{\"units\":\"data\",\"field\":\"x\"},\"id\":\"17cb3292-5c2f-472a-c73a-76279f625af4\",\"y\":{\"units\":\"data\",\"field\":\"y\"},\"tags\":[]}},{\"id\":\"5d1c3eca-dc5b-46af-c6fd-b4e7c8dbbaf2\",\"type\":\"Line\",\"attributes\":{\"fill_alpha\":{\"units\":\"data\",\"value\":0.2},\"line_alpha\":{\"units\":\"data\",\"value\":1},\"doc\":null,\"size\":{\"units\":\"screen\",\"value\":10},\"fill_color\":{\"value\":\"blue\"},\"line_color\":{\"value\":\"blue\"},\"x\":{\"units\":\"data\",\"field\":\"x\"},\"id\":\"5d1c3eca-dc5b-46af-c6fd-b4e7c8dbbaf2\",\"y\":{\"units\":\"data\",\"field\":\"y\"},\"tags\":[]}},{\"id\":\"a4d1d990-025d-4338-c3d1-e733e89f52e3\",\"type\":\"GlyphRenderer\",\"attributes\":{\"name\":null,\"nonselection_glyph\":{\"type\":\"Line\",\"id\":\"5d1c3eca-dc5b-46af-c6fd-b4e7c8dbbaf2\"},\"doc\":null,\"server_data_source\":null,\"data_source\":{\"type\":\"ColumnDataSource\",\"id\":\"2bd35c9f-27df-4cc3-ccab-859c6ffcfbdc\"},\"glyph\":{\"type\":\"Line\",\"id\":\"17cb3292-5c2f-472a-c73a-76279f625af4\"},\"selection_glyph\":null,\"id\":\"a4d1d990-025d-4338-c3d1-e733e89f52e3\",\"tags\":[]}},{\"id\":\"bddc36a8-0f8b-455c-c5fa-3524bfe5a634\",\"type\":\"ColumnDataSource\",\"attributes\":{\"data\":{\"y\":[199,198,197,196,195,194,193,192,191,190,189,188,187,186,185,184,183,182,181,180,179,178,177,176,175,174,173,172,171,170,169,168,167,166,165,164,163,162,161,160,159,158,157,156,155,154,153,152,151,150,149,148,147,146,145,144,143,142,141,140,139,138,137,136,135,134,133,132,131,130,129,128,127,126,125,124,123,122,121,120,119,118,117,116,115,114,113,112,111,110,109,108,107,106,105,104,103,102,101,100,99,98,97,96,95,94,93,92,91,90,89,88,87,86,85,84,83,82,81,80,79,78,77,76,75,74,73,72,71,70,69,68,67,66,65,64,63,62,61,60,59,58,57,56,55,54,53,52,51,50,49,48,47,46,45,44,43,42,41,40,39,38,37,36,35,34,33,32,31,30,29,28,27,26,25,24,23,22,21,20,19,18,17,16,15,14,13,12,11,10,9,8,7,6,5,4,3,2,1,0],\"x\":[1,2,3,4,5,6,7,8,9,10,11,12,13,14,15,16,17,18,19,20,21,22,23,24,25,26,27,28,29,30,31,32,33,34,35,36,37,38,39,40,41,42,43,44,45,46,47,48,49,50,51,52,53,54,55,56,57,58,59,60,61,62,63,64,65,66,67,68,69,70,71,72,73,74,75,76,77,78,79,80,81,82,83,84,85,86,87,88,89,90,91,92,93,94,95,96,97,98,99,100,101,102,103,104,105,106,107,108,109,110,111,112,113,114,115,116,117,118,119,120,121,122,123,124,125,126,127,128,129,130,131,132,133,134,135,136,137,138,139,140,141,142,143,144,145,146,147,148,149,150,151,152,153,154,155,156,157,158,159,160,161,162,163,164,165,166,167,168,169,170,171,172,173,174,175,176,177,178,179,180,181,182,183,184,185,186,187,188,189,190,191,192,193,194,195,196,197,198,199,200]},\"column_names\":[\"y\",\"x\"],\"cont_ranges\":{},\"discrete_ranges\":{},\"selected\":[],\"id\":\"bddc36a8-0f8b-455c-c5fa-3524bfe5a634\",\"doc\":null,\"tags\":[]}},{\"id\":\"bc29ef9b-2f2d-4b2f-cb53-04cf6e1c59e6\",\"type\":\"Line\",\"attributes\":{\"fill_alpha\":{\"units\":\"data\",\"value\":0.2},\"line_alpha\":{\"units\":\"data\",\"value\":1},\"doc\":null,\"size\":{\"units\":\"screen\",\"value\":10},\"fill_color\":{\"value\":\"blue\"},\"line_color\":{\"value\":\"blue\"},\"x\":{\"units\":\"data\",\"field\":\"x\"},\"id\":\"bc29ef9b-2f2d-4b2f-cb53-04cf6e1c59e6\",\"y\":{\"units\":\"data\",\"field\":\"y\"},\"tags\":[]}},{\"id\":\"70c21479-4ce1-4a1e-ca58-0bd59aa88a22\",\"type\":\"Line\",\"attributes\":{\"fill_alpha\":{\"units\":\"data\",\"value\":0.2},\"line_alpha\":{\"units\":\"data\",\"value\":1},\"doc\":null,\"size\":{\"units\":\"screen\",\"value\":10},\"fill_color\":{\"value\":\"blue\"},\"line_color\":{\"value\":\"blue\"},\"x\":{\"units\":\"data\",\"field\":\"x\"},\"id\":\"70c21479-4ce1-4a1e-ca58-0bd59aa88a22\",\"y\":{\"units\":\"data\",\"field\":\"y\"},\"tags\":[]}},{\"id\":\"5e23918a-9e6c-4e81-ce31-f47d3a8f1c8c\",\"type\":\"GlyphRenderer\",\"attributes\":{\"name\":null,\"nonselection_glyph\":{\"type\":\"Line\",\"id\":\"70c21479-4ce1-4a1e-ca58-0bd59aa88a22\"},\"doc\":null,\"server_data_source\":null,\"data_source\":{\"type\":\"ColumnDataSource\",\"id\":\"bddc36a8-0f8b-455c-c5fa-3524bfe5a634\"},\"glyph\":{\"type\":\"Line\",\"id\":\"bc29ef9b-2f2d-4b2f-cb53-04cf6e1c59e6\"},\"selection_glyph\":null,\"id\":\"5e23918a-9e6c-4e81-ce31-f47d3a8f1c8c\",\"tags\":[]}},{\"id\":\"970ff8a8-f9f1-4ba2-cb4f-17f035aea1a0\",\"type\":\"ColumnDataSource\",\"attributes\":{\"data\":{\"y\":[199,198,197,196,195,194,193,192,191,190,189,188,187,186,185,184,183,182,181,180,179,178,177,176,175,174,173,172,171,170,169,168,167,166,165,164,163,162,161,160,159,158,157,156,155,154,153,152,151,150,149,148,147,146,145,144,143,142,141,140,139,138,137,136,135,134,133,132,131,130,129,128,127,126,125,124,123,122,121,120,119,118,117,116,115,114,113,112,111,110,109,108,107,106,105,104,103,102,101,100,99,98,97,96,95,94,93,92,91,90,89,88,87,86,85,84,83,82,81,80,79,78,77,76,75,74,73,72,71,70,69,68,67,66,65,64,63,62,61,60,59,58,57,56,55,54,53,52,51,50,49,48,47,46,45,44,43,42,41,40,39,38,37,36,35,34,33,32,31,30,29,28,27,26,25,24,23,22,21,20,19,18,17,16,15,14,13,12,11,10,9,8,7,6,5,4,3,2,1,0],\"x\":[1,2,3,4,5,6,7,8,9,10,11,12,13,14,15,16,17,18,19,20,21,22,23,24,25,26,27,28,29,30,31,32,33,34,35,36,37,38,39,40,41,42,43,44,45,46,47,48,49,50,51,52,53,54,55,56,57,58,59,60,61,62,63,64,65,66,67,68,69,70,71,72,73,74,75,76,77,78,79,80,81,82,83,84,85,86,87,88,89,90,91,92,93,94,95,96,97,98,99,100,101,102,103,104,105,106,107,108,109,110,111,112,113,114,115,116,117,118,119,120,121,122,123,124,125,126,127,128,129,130,131,132,133,134,135,136,137,138,139,140,141,142,143,144,145,146,147,148,149,150,151,152,153,154,155,156,157,158,159,160,161,162,163,164,165,166,167,168,169,170,171,172,173,174,175,176,177,178,179,180,181,182,183,184,185,186,187,188,189,190,191,192,193,194,195,196,197,198,199,200]},\"column_names\":[\"y\",\"x\"],\"cont_ranges\":{},\"discrete_ranges\":{},\"selected\":[],\"id\":\"970ff8a8-f9f1-4ba2-cb4f-17f035aea1a0\",\"doc\":null,\"tags\":[]}},{\"id\":\"d7db4a74-5111-4e5b-ce4e-9d47816431ca\",\"type\":\"Line\",\"attributes\":{\"fill_alpha\":{\"units\":\"data\",\"value\":0.2},\"line_alpha\":{\"units\":\"data\",\"value\":1},\"doc\":null,\"size\":{\"units\":\"screen\",\"value\":10},\"fill_color\":{\"value\":\"blue\"},\"line_color\":{\"value\":\"blue\"},\"x\":{\"units\":\"data\",\"field\":\"x\"},\"id\":\"d7db4a74-5111-4e5b-ce4e-9d47816431ca\",\"y\":{\"units\":\"data\",\"field\":\"y\"},\"tags\":[]}},{\"id\":\"59e96a8e-fbd0-4c61-cc41-36c64cd1b7fe\",\"type\":\"Line\",\"attributes\":{\"fill_alpha\":{\"units\":\"data\",\"value\":0.2},\"line_alpha\":{\"units\":\"data\",\"value\":1},\"doc\":null,\"size\":{\"units\":\"screen\",\"value\":10},\"fill_color\":{\"value\":\"blue\"},\"line_color\":{\"value\":\"blue\"},\"x\":{\"units\":\"data\",\"field\":\"x\"},\"id\":\"59e96a8e-fbd0-4c61-cc41-36c64cd1b7fe\",\"y\":{\"units\":\"data\",\"field\":\"y\"},\"tags\":[]}},{\"id\":\"99fddbbf-c947-4d98-cd9d-cfde08543b2e\",\"type\":\"GlyphRenderer\",\"attributes\":{\"name\":null,\"nonselection_glyph\":{\"type\":\"Line\",\"id\":\"59e96a8e-fbd0-4c61-cc41-36c64cd1b7fe\"},\"doc\":null,\"server_data_source\":null,\"data_source\":{\"type\":\"ColumnDataSource\",\"id\":\"970ff8a8-f9f1-4ba2-cb4f-17f035aea1a0\"},\"glyph\":{\"type\":\"Line\",\"id\":\"d7db4a74-5111-4e5b-ce4e-9d47816431ca\"},\"selection_glyph\":null,\"id\":\"99fddbbf-c947-4d98-cd9d-cfde08543b2e\",\"tags\":[]}},{\"id\":\"d9429efd-3f36-4672-c672-a6a995104dcd\",\"type\":\"ColumnDataSource\",\"attributes\":{\"data\":{\"y\":[199,198,197,196,195,194,193,192,191,190,189,188,187,186,185,184,183,182,181,180,179,178,177,176,175,174,173,172,171,170,169,168,167,166,165,164,163,162,161,160,159,158,157,156,155,154,153,152,151,150,149,148,147,146,145,144,143,142,141,140,139,138,137,136,135,134,133,132,131,130,129,128,127,126,125,124,123,122,121,120,119,118,117,116,115,114,113,112,111,110,109,108,107,106,105,104,103,102,101,100,99,98,97,96,95,94,93,92,91,90,89,88,87,86,85,84,83,82,81,80,79,78,77,76,75,74,73,72,71,70,69,68,67,66,65,64,63,62,61,60,59,58,57,56,55,54,53,52,51,50,49,48,47,46,45,44,43,42,41,40,39,38,37,36,35,34,33,32,31,30,29,28,27,26,25,24,23,22,21,20,19,18,17,16,15,14,13,12,11,10,9,8,7,6,5,4,3,2,1,0],\"x\":[1,2,3,4,5,6,7,8,9,10,11,12,13,14,15,16,17,18,19,20,21,22,23,24,25,26,27,28,29,30,31,32,33,34,35,36,37,38,39,40,41,42,43,44,45,46,47,48,49,50,51,52,53,54,55,56,57,58,59,60,61,62,63,64,65,66,67,68,69,70,71,72,73,74,75,76,77,78,79,80,81,82,83,84,85,86,87,88,89,90,91,92,93,94,95,96,97,98,99,100,101,102,103,104,105,106,107,108,109,110,111,112,113,114,115,116,117,118,119,120,121,122,123,124,125,126,127,128,129,130,131,132,133,134,135,136,137,138,139,140,141,142,143,144,145,146,147,148,149,150,151,152,153,154,155,156,157,158,159,160,161,162,163,164,165,166,167,168,169,170,171,172,173,174,175,176,177,178,179,180,181,182,183,184,185,186,187,188,189,190,191,192,193,194,195,196,197,198,199,200]},\"column_names\":[\"y\",\"x\"],\"cont_ranges\":{},\"discrete_ranges\":{},\"selected\":[],\"id\":\"d9429efd-3f36-4672-c672-a6a995104dcd\",\"doc\":null,\"tags\":[]}},{\"id\":\"b56b3649-6fb0-47c7-c7d2-652fc99b2547\",\"type\":\"Line\",\"attributes\":{\"fill_alpha\":{\"units\":\"data\",\"value\":0.2},\"line_alpha\":{\"units\":\"data\",\"value\":1},\"doc\":null,\"size\":{\"units\":\"screen\",\"value\":10},\"fill_color\":{\"value\":\"blue\"},\"line_color\":{\"value\":\"blue\"},\"x\":{\"units\":\"data\",\"field\":\"x\"},\"id\":\"b56b3649-6fb0-47c7-c7d2-652fc99b2547\",\"y\":{\"units\":\"data\",\"field\":\"y\"},\"tags\":[]}},{\"id\":\"b03d1662-fdba-4a38-cacf-b7c35dc5bc28\",\"type\":\"Line\",\"attributes\":{\"fill_alpha\":{\"units\":\"data\",\"value\":0.2},\"line_alpha\":{\"units\":\"data\",\"value\":1},\"doc\":null,\"size\":{\"units\":\"screen\",\"value\":10},\"fill_color\":{\"value\":\"blue\"},\"line_color\":{\"value\":\"blue\"},\"x\":{\"units\":\"data\",\"field\":\"x\"},\"id\":\"b03d1662-fdba-4a38-cacf-b7c35dc5bc28\",\"y\":{\"units\":\"data\",\"field\":\"y\"},\"tags\":[]}},{\"id\":\"f7da0849-091d-4e82-ce77-0410d8b4e4f1\",\"type\":\"GlyphRenderer\",\"attributes\":{\"name\":null,\"nonselection_glyph\":{\"type\":\"Line\",\"id\":\"b03d1662-fdba-4a38-cacf-b7c35dc5bc28\"},\"doc\":null,\"server_data_source\":null,\"data_source\":{\"type\":\"ColumnDataSource\",\"id\":\"d9429efd-3f36-4672-c672-a6a995104dcd\"},\"glyph\":{\"type\":\"Line\",\"id\":\"b56b3649-6fb0-47c7-c7d2-652fc99b2547\"},\"selection_glyph\":null,\"id\":\"f7da0849-091d-4e82-ce77-0410d8b4e4f1\",\"tags\":[]}},{\"id\":\"b9ad490e-9ff6-4745-c7e0-67605ce7dc13\",\"type\":\"ColumnDataSource\",\"attributes\":{\"data\":{\"y\":[199,198,197,196,195,194,193,192,191,190,189,188,187,186,185,184,183,182,181,180,179,178,177,176,175,174,173,172,171,170,169,168,167,166,165,164,163,162,161,160,159,158,157,156,155,154,153,152,151,150,149,148,147,146,145,144,143,142,141,140,139,138,137,136,135,134,133,132,131,130,129,128,127,126,125,124,123,122,121,120,119,118,117,116,115,114,113,112,111,110,109,108,107,106,105,104,103,102,101,100,99,98,97,96,95,94,93,92,91,90,89,88,87,86,85,84,83,82,81,80,79,78,77,76,75,74,73,72,71,70,69,68,67,66,65,64,63,62,61,60,59,58,57,56,55,54,53,52,51,50,49,48,47,46,45,44,43,42,41,40,39,38,37,36,35,34,33,32,31,30,29,28,27,26,25,24,23,22,21,20,19,18,17,16,15,14,13,12,11,10,9,8,7,6,5,4,3,2,1,0],\"x\":[1,2,3,4,5,6,7,8,9,10,11,12,13,14,15,16,17,18,19,20,21,22,23,24,25,26,27,28,29,30,31,32,33,34,35,36,37,38,39,40,41,42,43,44,45,46,47,48,49,50,51,52,53,54,55,56,57,58,59,60,61,62,63,64,65,66,67,68,69,70,71,72,73,74,75,76,77,78,79,80,81,82,83,84,85,86,87,88,89,90,91,92,93,94,95,96,97,98,99,100,101,102,103,104,105,106,107,108,109,110,111,112,113,114,115,116,117,118,119,120,121,122,123,124,125,126,127,128,129,130,131,132,133,134,135,136,137,138,139,140,141,142,143,144,145,146,147,148,149,150,151,152,153,154,155,156,157,158,159,160,161,162,163,164,165,166,167,168,169,170,171,172,173,174,175,176,177,178,179,180,181,182,183,184,185,186,187,188,189,190,191,192,193,194,195,196,197,198,199,200]},\"column_names\":[\"y\",\"x\"],\"cont_ranges\":{},\"discrete_ranges\":{},\"selected\":[],\"id\":\"b9ad490e-9ff6-4745-c7e0-67605ce7dc13\",\"doc\":null,\"tags\":[]}},{\"id\":\"af1800bf-195c-4260-c2cd-fad0d22d1d04\",\"type\":\"Line\",\"attributes\":{\"fill_alpha\":{\"units\":\"data\",\"value\":0.2},\"line_alpha\":{\"units\":\"data\",\"value\":1},\"doc\":null,\"size\":{\"units\":\"screen\",\"value\":10},\"fill_color\":{\"value\":\"blue\"},\"line_color\":{\"value\":\"blue\"},\"x\":{\"units\":\"data\",\"field\":\"x\"},\"id\":\"af1800bf-195c-4260-c2cd-fad0d22d1d04\",\"y\":{\"units\":\"data\",\"field\":\"y\"},\"tags\":[]}},{\"id\":\"7055d031-4ed8-4731-c75c-b4a8180ba9bf\",\"type\":\"Line\",\"attributes\":{\"fill_alpha\":{\"units\":\"data\",\"value\":0.2},\"line_alpha\":{\"units\":\"data\",\"value\":1},\"doc\":null,\"size\":{\"units\":\"screen\",\"value\":10},\"fill_color\":{\"value\":\"blue\"},\"line_color\":{\"value\":\"blue\"},\"x\":{\"units\":\"data\",\"field\":\"x\"},\"id\":\"7055d031-4ed8-4731-c75c-b4a8180ba9bf\",\"y\":{\"units\":\"data\",\"field\":\"y\"},\"tags\":[]}},{\"id\":\"e006cdfb-80eb-4595-c560-40766cacb47a\",\"type\":\"GlyphRenderer\",\"attributes\":{\"name\":null,\"nonselection_glyph\":{\"type\":\"Line\",\"id\":\"7055d031-4ed8-4731-c75c-b4a8180ba9bf\"},\"doc\":null,\"server_data_source\":null,\"data_source\":{\"type\":\"ColumnDataSource\",\"id\":\"b9ad490e-9ff6-4745-c7e0-67605ce7dc13\"},\"glyph\":{\"type\":\"Line\",\"id\":\"af1800bf-195c-4260-c2cd-fad0d22d1d04\"},\"selection_glyph\":null,\"id\":\"e006cdfb-80eb-4595-c560-40766cacb47a\",\"tags\":[]}},{\"id\":\"35ac0dcd-c2d7-47e9-c7c6-aad71a405360\",\"type\":\"ColumnDataSource\",\"attributes\":{\"data\":{\"y\":[199,198,197,196,195,194,193,192,191,190,189,188,187,186,185,184,183,182,181,180,179,178,177,176,175,174,173,172,171,170,169,168,167,166,165,164,163,162,161,160,159,158,157,156,155,154,153,152,151,150,149,148,147,146,145,144,143,142,141,140,139,138,137,136,135,134,133,132,131,130,129,128,127,126,125,124,123,122,121,120,119,118,117,116,115,114,113,112,111,110,109,108,107,106,105,104,103,102,101,100,99,98,97,96,95,94,93,92,91,90,89,88,87,86,85,84,83,82,81,80,79,78,77,76,75,74,73,72,71,70,69,68,67,66,65,64,63,62,61,60,59,58,57,56,55,54,53,52,51,50,49,48,47,46,45,44,43,42,41,40,39,38,37,36,35,34,33,32,31,30,29,28,27,26,25,24,23,22,21,20,19,18,17,16,15,14,13,12,11,10,9,8,7,6,5,4,3,2,1,0],\"x\":[1,2,3,4,5,6,7,8,9,10,11,12,13,14,15,16,17,18,19,20,21,22,23,24,25,26,27,28,29,30,31,32,33,34,35,36,37,38,39,40,41,42,43,44,45,46,47,48,49,50,51,52,53,54,55,56,57,58,59,60,61,62,63,64,65,66,67,68,69,70,71,72,73,74,75,76,77,78,79,80,81,82,83,84,85,86,87,88,89,90,91,92,93,94,95,96,97,98,99,100,101,102,103,104,105,106,107,108,109,110,111,112,113,114,115,116,117,118,119,120,121,122,123,124,125,126,127,128,129,130,131,132,133,134,135,136,137,138,139,140,141,142,143,144,145,146,147,148,149,150,151,152,153,154,155,156,157,158,159,160,161,162,163,164,165,166,167,168,169,170,171,172,173,174,175,176,177,178,179,180,181,182,183,184,185,186,187,188,189,190,191,192,193,194,195,196,197,198,199,200]},\"column_names\":[\"y\",\"x\"],\"cont_ranges\":{},\"discrete_ranges\":{},\"selected\":[],\"id\":\"35ac0dcd-c2d7-47e9-c7c6-aad71a405360\",\"doc\":null,\"tags\":[]}},{\"id\":\"8098eaa1-a02d-4540-c5cf-8211b6989969\",\"type\":\"Line\",\"attributes\":{\"fill_alpha\":{\"units\":\"data\",\"value\":0.2},\"line_alpha\":{\"units\":\"data\",\"value\":1},\"doc\":null,\"size\":{\"units\":\"screen\",\"value\":10},\"fill_color\":{\"value\":\"blue\"},\"line_color\":{\"value\":\"blue\"},\"x\":{\"units\":\"data\",\"field\":\"x\"},\"id\":\"8098eaa1-a02d-4540-c5cf-8211b6989969\",\"y\":{\"units\":\"data\",\"field\":\"y\"},\"tags\":[]}},{\"id\":\"ffc75395-8da6-4811-c885-f20da365339f\",\"type\":\"Line\",\"attributes\":{\"fill_alpha\":{\"units\":\"data\",\"value\":0.2},\"line_alpha\":{\"units\":\"data\",\"value\":1},\"doc\":null,\"size\":{\"units\":\"screen\",\"value\":10},\"fill_color\":{\"value\":\"blue\"},\"line_color\":{\"value\":\"blue\"},\"x\":{\"units\":\"data\",\"field\":\"x\"},\"id\":\"ffc75395-8da6-4811-c885-f20da365339f\",\"y\":{\"units\":\"data\",\"field\":\"y\"},\"tags\":[]}},{\"id\":\"e3e101e3-7e9b-462a-c66e-db0231d9963e\",\"type\":\"GlyphRenderer\",\"attributes\":{\"name\":null,\"nonselection_glyph\":{\"type\":\"Line\",\"id\":\"ffc75395-8da6-4811-c885-f20da365339f\"},\"doc\":null,\"server_data_source\":null,\"data_source\":{\"type\":\"ColumnDataSource\",\"id\":\"35ac0dcd-c2d7-47e9-c7c6-aad71a405360\"},\"glyph\":{\"type\":\"Line\",\"id\":\"8098eaa1-a02d-4540-c5cf-8211b6989969\"},\"selection_glyph\":null,\"id\":\"e3e101e3-7e9b-462a-c66e-db0231d9963e\",\"tags\":[]}},{\"id\":\"bac18925-f8de-4306-c35a-806b09282122\",\"type\":\"ColumnDataSource\",\"attributes\":{\"data\":{\"y\":[1,2,3,4,5,6,7,8,9,10,11,12,13,14,15,16,17,18,19,20,21,22,23,24,25,26,27,28,29,30,31,32,33,34,35,36,37,38,39,40,41,42,43,44,45,46,47,48,49,50,51,52,53,54,55,56,57,58,59,60,61,62,63,64,65,66,67,68,69,70,71,72,73,74,75,76,77,78,79,80,81,82,83,84,85,86,87,88,89,90,91,92,93,94,95,96,97,98,99,100,101,102,103,104,105,106,107,108,109,110,111,112,113,114,115,116,117,118,119,120,121,122,123,124,125,126,127,128,129,130,131,132,133,134,135,136,137,138,139,140,141,142,143,144,145,146,147,148,149,150,151,152,153,154,155,156,157,158,159,160,161,162,163,164,165,166,167,168,169,170,171,172,173,174,175,176,177,178,179,180,181,182,183,184,185,186,187,188,189,190,191,192,193,194,195,196,197,198,199,200],\"x\":[1.9684684276581,1.9119029045105,1.8416432142258,1.7567150592804,1.7305601835251,1.7275252342224,1.7460207939148,1.6203664541245,1.5414878129959,1.7973185777664,1.8272477388382,1.7023108005524,1.6383429765701,1.6319018602371,1.6745923757553,1.5610058307648,1.653586268425,1.4512596130371,1.8061612844467,1.7537567615509,1.597704410553,1.7481932640076,1.6353850364685,1.6195542812347,1.4585820436478,1.4201942682266,1.348868727684,1.2827876806259,1.405669927597,1.1311610937119,1.409808754921,1.3086271286011,1.3951137065887,1.0854088068008,1.1147471666336,1.2004103660583,1.2602707147598,1.123627781868,1.2794317007065,1.2457618713379,1.0046608448029,1.1252590417862,1.1688487529755,1.3190945386887,1.1655427217484,1.2214834690094,1.2454963922501,0.93344885110855,1.0014879703522,1.0620020627975,0.94771897792816,0.76621943712234,0.95191317796707,0.7316734790802,0.81714308261871,0.68909949064255,0.85795766115189,0.78942632675171,0.83938372135162,0.69255834817886,0.77081251144409,0.57239907979965,0.82541465759277,0.91936218738556,0.68676126003265,0.75918883085251,0.67891800403595,0.69212514162064,0.81617444753647,0.76829093694687,0.64897269010544,0.61165070533752,0.6595818400383,0.54874837398529,0.46244046092033,0.49095952510834,0.41336771845818,0.37813347578049,0.49296709895134,0.63767147064209,0.47133168578148,0.44750347733498,0.43806767463684,0.38042733073235,0.45116975903511,0.38044187426567,0.34080347418785,0.52863442897797,0.37418907880783,0.25404852628708,0.3549947142601,0.40267834067345,0.29694625735283,0.49363914132118,0.27545738220215,0.32142922282219,0.24209861457348,0.38943430781364,0.30238822102547,0.258524954319,0.24761836230755,0.31161221861839,0.27435365319252,0.27539816498756,0.13056896626949,0.18559055030346,0.1730730086565,0.14201180636883,0.17725540697575,0.22463496029377,0.11183955520391,0.26139423251152,0.27574497461319,0.25630855560303,0.21628834307194,0.071723490953445,0.1387155354023,0.2263735383749,0.083346568048,0.20132912695408,0.29580980539322,0.22903418540955,0.12855660915375,0.15988244116306,0.14813438057899,0.13702183961868,0.14906440675259,0.059623960405588,0.24088671803474,0.13962011039257,0.1329759657383,0.15154582262039,0.066308923065662,0.21490314602852,0.16056622564793,0.081804782152176,0.082638747990131,0.13805064558983,0.20766258239746,0.078849315643311,0.050067901611328,0.15583723783493,0.098979733884335,0.18652738630772,0.2176228761673,0.14480209350586,0.1230890005827,0.10549428313971,0.098503664135933,0.1998094022274,0.12393537908792,0.060412168502808,0.053185913711786,0.18609291315079,0.10035518556833,0.10928721725941,0.13597640395164,0.10394007712603,0.13139696419239,0.083399541676044,0.17093446850777,0.092032238841057,0.10295420885086,0.084913700819016,0.058243963867426,0.095966920256615,0.082871526479721,0.097589008510113,0.10413366556168,0.10695445537567,0.081248559057713,0.055586446076632,0.077412471175194,0.059720035642385,0.06063487380743,0.10039932280779,0.069558881223202,0.087462373077869,0.078851595520973,0.15545970201492,0.11631844192743,0.16736328601837,0.18609918653965,0.0887291431427,0.065416097640991,0.044161982834339,0.071547508239746,0.077957034111023,0.10518495738506,0.10687681287527,0.09567791223526,0.045334540307522,0.035911023616791,0.10172542929649,0.062908194959164,0.017119962722063,0.05456966906786,0.079002924263477,0.10749542713165,0.11236767470837]},\"column_names\":[\"y\",\"x\"],\"cont_ranges\":{},\"discrete_ranges\":{},\"selected\":[],\"id\":\"bac18925-f8de-4306-c35a-806b09282122\",\"doc\":null,\"tags\":[]}},{\"id\":\"2147c563-08ee-4b19-cbe4-a707e5e3a7ac\",\"type\":\"Line\",\"attributes\":{\"fill_alpha\":{\"units\":\"data\",\"value\":0.2},\"line_alpha\":{\"units\":\"data\",\"value\":1},\"doc\":null,\"size\":{\"units\":\"screen\",\"value\":10},\"fill_color\":{\"value\":\"blue\"},\"line_color\":{\"value\":\"blue\"},\"x\":{\"units\":\"data\",\"field\":\"x\"},\"id\":\"2147c563-08ee-4b19-cbe4-a707e5e3a7ac\",\"y\":{\"units\":\"data\",\"field\":\"y\"},\"tags\":[]}},{\"id\":\"20c3458f-c893-472d-c7ea-b516d8f3887c\",\"type\":\"Line\",\"attributes\":{\"fill_alpha\":{\"units\":\"data\",\"value\":0.2},\"line_alpha\":{\"units\":\"data\",\"value\":1},\"doc\":null,\"size\":{\"units\":\"screen\",\"value\":10},\"fill_color\":{\"value\":\"blue\"},\"line_color\":{\"value\":\"blue\"},\"x\":{\"units\":\"data\",\"field\":\"x\"},\"id\":\"20c3458f-c893-472d-c7ea-b516d8f3887c\",\"y\":{\"units\":\"data\",\"field\":\"y\"},\"tags\":[]}},{\"id\":\"e20071fd-22f1-4eeb-cea5-b26656d5198f\",\"type\":\"GlyphRenderer\",\"attributes\":{\"name\":null,\"nonselection_glyph\":{\"type\":\"Line\",\"id\":\"20c3458f-c893-472d-c7ea-b516d8f3887c\"},\"doc\":null,\"server_data_source\":null,\"data_source\":{\"type\":\"ColumnDataSource\",\"id\":\"bac18925-f8de-4306-c35a-806b09282122\"},\"glyph\":{\"type\":\"Line\",\"id\":\"2147c563-08ee-4b19-cbe4-a707e5e3a7ac\"},\"selection_glyph\":null,\"id\":\"e20071fd-22f1-4eeb-cea5-b26656d5198f\",\"tags\":[]}},{\"id\":\"fbf9de6c-fa39-4c96-cc1b-5c1c04618cb6\",\"type\":\"DataRange1d\",\"attributes\":{\"sources\":[{\"columns\":[\"x\"],\"source\":{\"type\":\"ColumnDataSource\",\"id\":\"75199706-a52d-4516-c5f7-54e4115e9848\"}},{\"columns\":[\"x\"],\"source\":{\"type\":\"ColumnDataSource\",\"id\":\"d1e6ecec-50b9-4cc6-cc61-2ae76c6408fd\"}},{\"columns\":[\"x\"],\"source\":{\"type\":\"ColumnDataSource\",\"id\":\"3fd18432-8ab0-46fb-c64b-f5395079e4a9\"}},{\"columns\":[\"x\"],\"source\":{\"type\":\"ColumnDataSource\",\"id\":\"be4f4f95-b527-4d8f-cde9-2e02b81c4ed8\"}},{\"columns\":[\"x\"],\"source\":{\"type\":\"ColumnDataSource\",\"id\":\"ba512549-6d91-45cf-c599-f213c1ba95f4\"}},{\"columns\":[\"x\"],\"source\":{\"type\":\"ColumnDataSource\",\"id\":\"ec1bbe9f-750b-445b-c466-5c149f00a154\"}},{\"columns\":[\"x\"],\"source\":{\"type\":\"ColumnDataSource\",\"id\":\"2bd35c9f-27df-4cc3-ccab-859c6ffcfbdc\"}},{\"columns\":[\"x\"],\"source\":{\"type\":\"ColumnDataSource\",\"id\":\"bddc36a8-0f8b-455c-c5fa-3524bfe5a634\"}},{\"columns\":[\"x\"],\"source\":{\"type\":\"ColumnDataSource\",\"id\":\"970ff8a8-f9f1-4ba2-cb4f-17f035aea1a0\"}},{\"columns\":[\"x\"],\"source\":{\"type\":\"ColumnDataSource\",\"id\":\"d9429efd-3f36-4672-c672-a6a995104dcd\"}},{\"columns\":[\"x\"],\"source\":{\"type\":\"ColumnDataSource\",\"id\":\"b9ad490e-9ff6-4745-c7e0-67605ce7dc13\"}},{\"columns\":[\"x\"],\"source\":{\"type\":\"ColumnDataSource\",\"id\":\"35ac0dcd-c2d7-47e9-c7c6-aad71a405360\"}},{\"columns\":[\"x\"],\"source\":{\"type\":\"ColumnDataSource\",\"id\":\"bac18925-f8de-4306-c35a-806b09282122\"}}],\"id\":\"fbf9de6c-fa39-4c96-cc1b-5c1c04618cb6\",\"tags\":[],\"doc\":null}},{\"id\":\"786e4e56-96a1-4797-c77c-1c5281aec095\",\"type\":\"DataRange1d\",\"attributes\":{\"sources\":[{\"columns\":[\"y\"],\"source\":{\"type\":\"ColumnDataSource\",\"id\":\"75199706-a52d-4516-c5f7-54e4115e9848\"}},{\"columns\":[\"y\"],\"source\":{\"type\":\"ColumnDataSource\",\"id\":\"d1e6ecec-50b9-4cc6-cc61-2ae76c6408fd\"}},{\"columns\":[\"y\"],\"source\":{\"type\":\"ColumnDataSource\",\"id\":\"3fd18432-8ab0-46fb-c64b-f5395079e4a9\"}},{\"columns\":[\"y\"],\"source\":{\"type\":\"ColumnDataSource\",\"id\":\"be4f4f95-b527-4d8f-cde9-2e02b81c4ed8\"}},{\"columns\":[\"y\"],\"source\":{\"type\":\"ColumnDataSource\",\"id\":\"ba512549-6d91-45cf-c599-f213c1ba95f4\"}},{\"columns\":[\"y\"],\"source\":{\"type\":\"ColumnDataSource\",\"id\":\"ec1bbe9f-750b-445b-c466-5c149f00a154\"}},{\"columns\":[\"y\"],\"source\":{\"type\":\"ColumnDataSource\",\"id\":\"2bd35c9f-27df-4cc3-ccab-859c6ffcfbdc\"}},{\"columns\":[\"y\"],\"source\":{\"type\":\"ColumnDataSource\",\"id\":\"bddc36a8-0f8b-455c-c5fa-3524bfe5a634\"}},{\"columns\":[\"y\"],\"source\":{\"type\":\"ColumnDataSource\",\"id\":\"970ff8a8-f9f1-4ba2-cb4f-17f035aea1a0\"}},{\"columns\":[\"y\"],\"source\":{\"type\":\"ColumnDataSource\",\"id\":\"d9429efd-3f36-4672-c672-a6a995104dcd\"}},{\"columns\":[\"y\"],\"source\":{\"type\":\"ColumnDataSource\",\"id\":\"b9ad490e-9ff6-4745-c7e0-67605ce7dc13\"}},{\"columns\":[\"y\"],\"source\":{\"type\":\"ColumnDataSource\",\"id\":\"35ac0dcd-c2d7-47e9-c7c6-aad71a405360\"}},{\"columns\":[\"y\"],\"source\":{\"type\":\"ColumnDataSource\",\"id\":\"bac18925-f8de-4306-c35a-806b09282122\"}}],\"id\":\"786e4e56-96a1-4797-c77c-1c5281aec095\",\"tags\":[],\"doc\":null}},{\"id\":\"fba2a041-142b-406c-c0c9-0be5453da036\",\"type\":\"ToolEvents\",\"attributes\":{\"tags\":[],\"id\":\"fba2a041-142b-406c-c0c9-0be5453da036\",\"geometries\":[],\"doc\":null}},{\"id\":\"f6a70f69-ea55-4bf5-cb0b-73fd74787678\",\"type\":\"BasicTickFormatter\",\"attributes\":{\"id\":\"f6a70f69-ea55-4bf5-cb0b-73fd74787678\",\"tags\":[],\"doc\":null}},{\"id\":\"b9418c92-e6fc-4e00-cedc-9ef170f77adb\",\"type\":\"BasicTicker\",\"attributes\":{\"num_minor_ticks\":5,\"id\":\"b9418c92-e6fc-4e00-cedc-9ef170f77adb\",\"tags\":[],\"doc\":null}},{\"id\":\"d6350dd5-9452-45e7-c55d-a445e2af7b9c\",\"type\":\"LinearAxis\",\"attributes\":{\"formatter\":{\"type\":\"BasicTickFormatter\",\"id\":\"f6a70f69-ea55-4bf5-cb0b-73fd74787678\"},\"ticker\":{\"type\":\"BasicTicker\",\"id\":\"b9418c92-e6fc-4e00-cedc-9ef170f77adb\"},\"plot\":{\"id\":\"44b249a6-fcd5-4c74-ccb1-3919a6a77a5f\",\"type\":\"Plot\",\"subtype\":\"Figure\"},\"axis_label\":null,\"id\":\"d6350dd5-9452-45e7-c55d-a445e2af7b9c\",\"doc\":null,\"tags\":[]}},{\"id\":\"d38c3022-048d-4649-c637-ad1c7274e365\",\"type\":\"Grid\",\"attributes\":{\"dimension\":0,\"plot\":{\"id\":\"44b249a6-fcd5-4c74-ccb1-3919a6a77a5f\",\"type\":\"Plot\",\"subtype\":\"Figure\"},\"ticker\":{\"type\":\"BasicTicker\",\"id\":\"b9418c92-e6fc-4e00-cedc-9ef170f77adb\"},\"id\":\"d38c3022-048d-4649-c637-ad1c7274e365\",\"doc\":null,\"tags\":[]}},{\"id\":\"6ed035db-b29e-41ca-c190-5b310af57b5b\",\"type\":\"BasicTickFormatter\",\"attributes\":{\"id\":\"6ed035db-b29e-41ca-c190-5b310af57b5b\",\"tags\":[],\"doc\":null}},{\"id\":\"eeedc0fc-5865-4b2f-cb6f-af87665e0fb5\",\"type\":\"BasicTicker\",\"attributes\":{\"num_minor_ticks\":5,\"id\":\"eeedc0fc-5865-4b2f-cb6f-af87665e0fb5\",\"tags\":[],\"doc\":null}},{\"id\":\"02912a3a-0461-4132-c1e7-7ae6f3a2823c\",\"type\":\"LinearAxis\",\"attributes\":{\"formatter\":{\"type\":\"BasicTickFormatter\",\"id\":\"6ed035db-b29e-41ca-c190-5b310af57b5b\"},\"ticker\":{\"type\":\"BasicTicker\",\"id\":\"eeedc0fc-5865-4b2f-cb6f-af87665e0fb5\"},\"plot\":{\"id\":\"44b249a6-fcd5-4c74-ccb1-3919a6a77a5f\",\"type\":\"Plot\",\"subtype\":\"Figure\"},\"axis_label\":null,\"id\":\"02912a3a-0461-4132-c1e7-7ae6f3a2823c\",\"doc\":null,\"tags\":[]}},{\"id\":\"00bfd2e2-5e1b-4253-c240-c7c9c7ff2ce8\",\"type\":\"Grid\",\"attributes\":{\"dimension\":1,\"plot\":{\"id\":\"44b249a6-fcd5-4c74-ccb1-3919a6a77a5f\",\"type\":\"Plot\",\"subtype\":\"Figure\"},\"ticker\":{\"type\":\"BasicTicker\",\"id\":\"eeedc0fc-5865-4b2f-cb6f-af87665e0fb5\"},\"id\":\"00bfd2e2-5e1b-4253-c240-c7c9c7ff2ce8\",\"doc\":null,\"tags\":[]}},{\"id\":\"05c565dc-093f-4e26-ce8f-75510b139f87\",\"type\":\"PanTool\",\"attributes\":{\"plot\":{\"id\":\"44b249a6-fcd5-4c74-ccb1-3919a6a77a5f\",\"type\":\"Plot\",\"subtype\":\"Figure\"},\"dimensions\":[\"width\",\"height\"],\"id\":\"05c565dc-093f-4e26-ce8f-75510b139f87\",\"doc\":null,\"tags\":[]}},{\"id\":\"f892b728-56d3-4b21-cb2e-dc8a55a3ff17\",\"type\":\"WheelZoomTool\",\"attributes\":{\"plot\":{\"id\":\"44b249a6-fcd5-4c74-ccb1-3919a6a77a5f\",\"type\":\"Plot\",\"subtype\":\"Figure\"},\"dimensions\":[\"width\",\"height\"],\"id\":\"f892b728-56d3-4b21-cb2e-dc8a55a3ff17\",\"doc\":null,\"tags\":[]}},{\"id\":\"5cb527e6-8ee8-44e2-c412-a670de6ec1c3\",\"type\":\"BoxZoomTool\",\"attributes\":{\"plot\":{\"id\":\"44b249a6-fcd5-4c74-ccb1-3919a6a77a5f\",\"type\":\"Plot\",\"subtype\":\"Figure\"},\"id\":\"5cb527e6-8ee8-44e2-c412-a670de6ec1c3\",\"tags\":[],\"doc\":null}},{\"id\":\"14b6b789-2ef6-4e91-cee8-89e4208dd193\",\"type\":\"PreviewSaveTool\",\"attributes\":{\"plot\":{\"id\":\"44b249a6-fcd5-4c74-ccb1-3919a6a77a5f\",\"type\":\"Plot\",\"subtype\":\"Figure\"},\"id\":\"14b6b789-2ef6-4e91-cee8-89e4208dd193\",\"tags\":[],\"doc\":null}},{\"id\":\"a89ac8ac-f663-481e-c84f-8995c805ca40\",\"type\":\"ResizeTool\",\"attributes\":{\"plot\":{\"id\":\"44b249a6-fcd5-4c74-ccb1-3919a6a77a5f\",\"type\":\"Plot\",\"subtype\":\"Figure\"},\"id\":\"a89ac8ac-f663-481e-c84f-8995c805ca40\",\"tags\":[],\"doc\":null}},{\"id\":\"f0a80c1d-49fd-4bbc-cbdc-d9194da2a893\",\"type\":\"ResetTool\",\"attributes\":{\"plot\":{\"id\":\"44b249a6-fcd5-4c74-ccb1-3919a6a77a5f\",\"type\":\"Plot\",\"subtype\":\"Figure\"},\"id\":\"f0a80c1d-49fd-4bbc-cbdc-d9194da2a893\",\"tags\":[],\"doc\":null}},{\"id\":\"c5083ecd-8591-487d-c849-2481b455152b\",\"type\":\"Legend\",\"attributes\":{\"plot\":{\"id\":\"44b249a6-fcd5-4c74-ccb1-3919a6a77a5f\",\"type\":\"Plot\",\"subtype\":\"Figure\"},\"legends\":[[\"loss\",[{\"type\":\"GlyphRenderer\",\"id\":\"31734463-131c-4fc2-cfa9-c2afd07301f6\"}]],[\"loss\",[{\"type\":\"GlyphRenderer\",\"id\":\"7c269d03-98c3-4771-c72a-d50340aefa8d\"}]],[\"loss\",[{\"type\":\"GlyphRenderer\",\"id\":\"252d03c1-c9bc-46fe-c6f4-7c3ac38bdd5c\"}]],[\"loss\",[{\"type\":\"GlyphRenderer\",\"id\":\"04a9d657-dd4c-4871-c850-32ad01f8fc6c\"}]],[\"loss\",[{\"type\":\"GlyphRenderer\",\"id\":\"f6eaf7e8-4503-4290-c246-81c7887b8ab1\"}]],[\"loss\",[{\"type\":\"GlyphRenderer\",\"id\":\"e89fa920-e952-4883-c8b8-e52d27c19141\"}]],[\"loss\",[{\"type\":\"GlyphRenderer\",\"id\":\"a4d1d990-025d-4338-c3d1-e733e89f52e3\"}]],[\"loss\",[{\"type\":\"GlyphRenderer\",\"id\":\"5e23918a-9e6c-4e81-ce31-f47d3a8f1c8c\"}]],[\"loss\",[{\"type\":\"GlyphRenderer\",\"id\":\"99fddbbf-c947-4d98-cd9d-cfde08543b2e\"}]],[\"loss\",[{\"type\":\"GlyphRenderer\",\"id\":\"f7da0849-091d-4e82-ce77-0410d8b4e4f1\"}]],[\"loss\",[{\"type\":\"GlyphRenderer\",\"id\":\"e006cdfb-80eb-4595-c560-40766cacb47a\"}]],[\"loss\",[{\"type\":\"GlyphRenderer\",\"id\":\"e3e101e3-7e9b-462a-c66e-db0231d9963e\"}]],[\"loss\",[{\"type\":\"GlyphRenderer\",\"id\":\"e20071fd-22f1-4eeb-cea5-b26656d5198f\"}]]],\"id\":\"c5083ecd-8591-487d-c849-2481b455152b\",\"doc\":null,\"tags\":[]}},{\"id\":\"44b249a6-fcd5-4c74-ccb1-3919a6a77a5f\",\"type\":\"Plot\",\"attributes\":{\"x_range\":{\"type\":\"DataRange1d\",\"id\":\"fbf9de6c-fa39-4c96-cc1b-5c1c04618cb6\"},\"tool_events\":{\"type\":\"ToolEvents\",\"id\":\"fba2a041-142b-406c-c0c9-0be5453da036\"},\"below\":[{\"type\":\"LinearAxis\",\"id\":\"d6350dd5-9452-45e7-c55d-a445e2af7b9c\"}],\"renderers\":[{\"type\":\"GlyphRenderer\",\"id\":\"31734463-131c-4fc2-cfa9-c2afd07301f6\"},{\"type\":\"GlyphRenderer\",\"id\":\"7c269d03-98c3-4771-c72a-d50340aefa8d\"},{\"type\":\"GlyphRenderer\",\"id\":\"252d03c1-c9bc-46fe-c6f4-7c3ac38bdd5c\"},{\"type\":\"GlyphRenderer\",\"id\":\"04a9d657-dd4c-4871-c850-32ad01f8fc6c\"},{\"type\":\"GlyphRenderer\",\"id\":\"f6eaf7e8-4503-4290-c246-81c7887b8ab1\"},{\"type\":\"GlyphRenderer\",\"id\":\"e89fa920-e952-4883-c8b8-e52d27c19141\"},{\"type\":\"GlyphRenderer\",\"id\":\"a4d1d990-025d-4338-c3d1-e733e89f52e3\"},{\"type\":\"GlyphRenderer\",\"id\":\"5e23918a-9e6c-4e81-ce31-f47d3a8f1c8c\"},{\"type\":\"GlyphRenderer\",\"id\":\"99fddbbf-c947-4d98-cd9d-cfde08543b2e\"},{\"type\":\"GlyphRenderer\",\"id\":\"f7da0849-091d-4e82-ce77-0410d8b4e4f1\"},{\"type\":\"GlyphRenderer\",\"id\":\"e006cdfb-80eb-4595-c560-40766cacb47a\"},{\"type\":\"GlyphRenderer\",\"id\":\"e3e101e3-7e9b-462a-c66e-db0231d9963e\"},{\"type\":\"GlyphRenderer\",\"id\":\"e20071fd-22f1-4eeb-cea5-b26656d5198f\"},{\"type\":\"LinearAxis\",\"id\":\"d6350dd5-9452-45e7-c55d-a445e2af7b9c\"},{\"type\":\"Grid\",\"id\":\"d38c3022-048d-4649-c637-ad1c7274e365\"},{\"type\":\"LinearAxis\",\"id\":\"02912a3a-0461-4132-c1e7-7ae6f3a2823c\"},{\"type\":\"Grid\",\"id\":\"00bfd2e2-5e1b-4253-c240-c7c9c7ff2ce8\"},{\"type\":\"Legend\",\"id\":\"c5083ecd-8591-487d-c849-2481b455152b\"}],\"above\":[],\"tools\":[{\"type\":\"PanTool\",\"id\":\"05c565dc-093f-4e26-ce8f-75510b139f87\"},{\"type\":\"WheelZoomTool\",\"id\":\"f892b728-56d3-4b21-cb2e-dc8a55a3ff17\"},{\"type\":\"BoxZoomTool\",\"id\":\"5cb527e6-8ee8-44e2-c412-a670de6ec1c3\"},{\"type\":\"PreviewSaveTool\",\"id\":\"14b6b789-2ef6-4e91-cee8-89e4208dd193\"},{\"type\":\"ResizeTool\",\"id\":\"a89ac8ac-f663-481e-c84f-8995c805ca40\"},{\"type\":\"ResetTool\",\"id\":\"f0a80c1d-49fd-4bbc-cbdc-d9194da2a893\"}],\"doc\":null,\"right\":[],\"title\":\"losss\",\"extra_x_ranges\":{},\"left\":[{\"type\":\"LinearAxis\",\"id\":\"02912a3a-0461-4132-c1e7-7ae6f3a2823c\"}],\"y_range\":{\"type\":\"DataRange1d\",\"id\":\"786e4e56-96a1-4797-c77c-1c5281aec095\"},\"id\":\"44b249a6-fcd5-4c74-ccb1-3919a6a77a5f\",\"extra_y_ranges\":{},\"tags\":[]}}];\n",
        "      Bokeh.load_models(all_models);\n",
        "      var model = Bokeh.Collections(modeltype).get(modelid);\n",
        "      $(\"#e68dd2f2-4c55-43bc-c3ec-3046d30a1d3d\").html(''); // clear any previous plot in window_id\n",
        "      var view = new model.default_view({model: model, el: \"#e68dd2f2-4c55-43bc-c3ec-3046d30a1d3d\"});\n",
        "  });\n",
        "    }\n",
        "});\n",
        "</script>\n",
        "<div class=\"plotdiv\" id=\"e68dd2f2-4c55-43bc-c3ec-3046d30a1d3d\"></div>\n"
       ],
       "metadata": {},
       "output_type": "display_data"
      }
     ],
     "prompt_number": 26
    },
    {
     "cell_type": "code",
     "collapsed": false,
     "input": [],
     "language": "python",
     "metadata": {},
     "outputs": []
    }
   ],
   "metadata": {}
  }
 ]
}